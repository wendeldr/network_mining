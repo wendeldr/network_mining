{
 "cells": [
  {
   "cell_type": "code",
   "execution_count": 2,
   "metadata": {},
   "outputs": [],
   "source": [
    "import numpy as np"
   ]
  },
  {
   "cell_type": "code",
   "execution_count": 60,
   "metadata": {},
   "outputs": [],
   "source": [
    "# data = [[1, 2, 3, 4, 5,7,8,9,10], [6, 7, 8, 9, 10,11,12,13,14], [1,5,3,2,1,3,4,-1,0]]\n",
    "data = [[1, 2, 3, 4, 5], [6, 7, 8, 9, 10], [1,5,3,2,1]]\n",
    "\n",
    "data = np.array(data)\n",
    "dataint = np.cos(data[0,:])\n",
    "arr = np.concatenate((data, [dataint]), axis=0)\n",
    "X = arr[:, :-1]\n",
    "y = arr[:, 1:]\n",
    "p = np.linalg.pinv(X)\n",
    "A = y.dot(p)"
   ]
  },
  {
   "cell_type": "code",
   "execution_count": 44,
   "metadata": {},
   "outputs": [
    {
     "name": "stdout",
     "output_type": "stream",
     "text": [
      "(4, 9)\n",
      "(4, 8)\n",
      "(4, 8)\n",
      "(8, 4)\n",
      "(4, 4)\n"
     ]
    }
   ],
   "source": [
    "print(arr.shape)\n",
    "print(X.shape)\n",
    "print(y.shape)\n",
    "print(p.shape)\n",
    "print(A.shape)"
   ]
  },
  {
   "cell_type": "code",
   "execution_count": 63,
   "metadata": {},
   "outputs": [
    {
     "name": "stdout",
     "output_type": "stream",
     "text": [
      "[[ 1.          2.          3.          4.        ]\n",
      " [ 6.          7.          8.          9.        ]\n",
      " [ 1.          5.          3.          2.        ]\n",
      " [ 0.54030231 -0.41614684 -0.9899925  -0.65364362]]\n"
     ]
    }
   ],
   "source": [
    "print(X)"
   ]
  },
  {
   "cell_type": "code",
   "execution_count": 61,
   "metadata": {},
   "outputs": [
    {
     "name": "stdout",
     "output_type": "stream",
     "text": [
      "[[-0.46863315  0.25532167 -0.15575466  0.17112239]\n",
      " [ 0.32546739 -0.17871334  0.37698135  0.68448955]\n",
      " [-1.04503533  0.39146168 -0.28669871 -1.88234627]\n",
      " [ 0.98820109 -0.26807001  0.06547202  1.02673433]]\n"
     ]
    }
   ],
   "source": [
    "print(p)"
   ]
  },
  {
   "cell_type": "code",
   "execution_count": 62,
   "metadata": {},
   "outputs": [
    {
     "data": {
      "text/plain": [
       "array([[-0.46863315,  0.25532167, -0.15575466,  0.17112239],\n",
       "       [ 0.32546739, -0.17871334,  0.37698135,  0.68448955],\n",
       "       [-1.04503533,  0.39146168, -0.28669871, -1.88234627],\n",
       "       [ 0.98820109, -0.26807001,  0.06547202,  1.02673433]])"
      ]
     },
     "execution_count": 62,
     "metadata": {},
     "output_type": "execute_result"
    }
   ],
   "source": [
    "np.linalg.inv(X)"
   ]
  },
  {
   "cell_type": "code",
   "execution_count": 57,
   "metadata": {},
   "outputs": [
    {
     "name": "stdout",
     "output_type": "stream",
     "text": [
      "[[2 1]\n",
      " [1 2]]\n",
      "[[ 0.66666667 -0.33333333]\n",
      " [-0.33333333  0.66666667]]\n"
     ]
    }
   ],
   "source": [
    "data = np.array([[2,1],[1,2]])\n",
    "print(data)\n",
    "p = np.linalg.pinv(data)\n",
    "print(p)"
   ]
  },
  {
   "cell_type": "code",
   "execution_count": 48,
   "metadata": {},
   "outputs": [
    {
     "data": {
      "text/plain": [
       "array([[ 1.00000000e+00, -1.11022302e-16],\n",
       "       [ 1.66533454e-16,  1.00000000e+00]])"
      ]
     },
     "execution_count": 48,
     "metadata": {},
     "output_type": "execute_result"
    }
   ],
   "source": [
    "data.dot(p)"
   ]
  },
  {
   "cell_type": "code",
   "execution_count": 59,
   "metadata": {},
   "outputs": [
    {
     "data": {
      "text/plain": [
       "array([[ 0.66666667, -0.33333333],\n",
       "       [-0.33333333,  0.66666667]])"
      ]
     },
     "execution_count": 59,
     "metadata": {},
     "output_type": "execute_result"
    }
   ],
   "source": [
    "np.linalg.inv(data)"
   ]
  },
  {
   "cell_type": "code",
   "execution_count": 56,
   "metadata": {},
   "outputs": [
    {
     "data": {
      "text/plain": [
       "0.5"
      ]
     },
     "execution_count": 56,
     "metadata": {},
     "output_type": "execute_result"
    }
   ],
   "source": [
    "1.5/3"
   ]
  },
  {
   "cell_type": "code",
   "execution_count": null,
   "metadata": {},
   "outputs": [],
   "source": []
  }
 ],
 "metadata": {
  "kernelspec": {
   "display_name": "sourcesink",
   "language": "python",
   "name": "python3"
  },
  "language_info": {
   "codemirror_mode": {
    "name": "ipython",
    "version": 3
   },
   "file_extension": ".py",
   "mimetype": "text/x-python",
   "name": "python",
   "nbconvert_exporter": "python",
   "pygments_lexer": "ipython3",
   "version": "3.12.4"
  }
 },
 "nbformat": 4,
 "nbformat_minor": 2
}
