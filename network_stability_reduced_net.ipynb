{
 "cells": [
  {
   "cell_type": "code",
   "execution_count": 13,
   "metadata": {},
   "outputs": [
    {
     "name": "stdout",
     "output_type": "stream",
     "text": [
      "root:NXroot\n",
      "  @date_created = '2024-09-23 17:14:40'\n",
      "  @description = 'HDF5 file containing iEEG data and calculation...'\n",
      "  data:NXgroup\n",
      "    @description = 'windows are shaped (winsize_samps, len(channel...'\n",
      "    A_mask = int32(609)\n",
      "    A_mats = float64(118x118x609)\n",
      "    A_mean = float64(118x118x1)\n",
      "    A_medians = float64(609)\n",
      "    A_thresh = -0.06341795947623834\n",
      "    window_indexs = int32(609x2)\n",
      "    window_reconstructionError = float64(609)\n",
      "    windows = float64(512x118x609)\n",
      "  metadata:NXgroup\n",
      "    N_samples = 312064\n",
      "    N_wins = 609\n",
      "    STEPSIZE_MSEC = 500\n",
      "    STEPSIZE_SAMPS = 512\n",
      "    WINSIZE_MSEC = 500\n",
      "    WINSIZE_SAMPS = 512\n",
      "    channels = ['B1', 'B2', 'B3', 'B4', 'B5', 'B6', 'B7', 'B8', 'B9', '...\n",
      "    patient_info:NXgroup\n",
      "      aal = ['ParaHippocampal_R', 'Hippocampus_R', 'Hippocampus_R', ...\n",
      "      aal2 = ['ParaHippocampal_R', 'Hippocampus_R', 'Hippocampus_R', ...\n",
      "      age_days_at_recording = float64(118)\n",
      "      age_years_at_recording = float64(118)\n",
      "      bad_channel = ['False', 'False', 'False', 'False', 'False', 'False', '...\n",
      "      brainnetome = ['rHipp_R 167 211 255 0', 'rHipp_R 167 211 255 0', 'rHip...\n",
      "      electrode = ['B1', 'B2', 'B3', 'B4', 'B5', 'B6', 'B7', 'B8', 'B9', '...\n",
      "      harvard oxford = ['nan', 'nan', 'nan', 'nan', 'nan', 'nan', 'nan', 'nan',...\n",
      "      harvard-oxford = ['Right_Hippocampus', 'Right_Hippocampus', 'Right_Hippoc...\n",
      "      ilae = int64(118)\n",
      "      in_edf_file = bool(118)\n",
      "      in_xyz_file = bool(118)\n",
      "      miccai = ['Right_Hippocampus', 'Right_Hippocampus', 'Right_Hippoc...\n",
      "      ns_language = float64(118)\n",
      "      ns_oral = float64(118)\n",
      "      oral = float64(118)\n",
      "      pid = int64(118)\n",
      "      seizureFree = bool(118)\n",
      "      soz = bool(118)\n",
      "      white_matter = bool(118)\n",
      "      x = float64(118)\n",
      "      y = float64(118)\n",
      "      z = float64(118)\n",
      "    sfreq = 1024.0\n",
      "    sourcefilename = 'F:\\data\\iEEG\\raw_ieeg\\baseline_patients\\baseline_edfs\\00...'\n",
      "  network:NXgroup\n",
      "    @description = 'contains the calculations of the sourcesink ne...'\n",
      "    mean:NXgroup\n",
      "      conn~False_rank~False:NXgroup\n",
      "        sink_conn_mats = float64(118x1)\n",
      "        sink_dist_mats = float64(118x1)\n",
      "        source_dist_mats = float64(118x1)\n",
      "        source_infl_mats = float64(118x1)\n",
      "        ss_ind_mats = float64(118x1)\n",
      "      conn~False_rank~True:NXgroup\n",
      "        sink_conn_mats = float64(118x1)\n",
      "        sink_dist_mats = float64(118x1)\n",
      "        source_dist_mats = float64(118x1)\n",
      "        source_infl_mats = float64(118x1)\n",
      "        ss_ind_mats = float64(118x1)\n",
      "      conn~True_rank~False:NXgroup\n",
      "        sink_conn_mats = float64(118x1)\n",
      "        sink_dist_mats = float64(118x1)\n",
      "        source_dist_mats = float64(118x1)\n",
      "        source_infl_mats = float64(118x1)\n",
      "        ss_ind_mats = float64(118x1)\n",
      "      conn~True_rank~True:NXgroup\n",
      "        sink_conn_mats = float64(118x1)\n",
      "        sink_dist_mats = float64(118x1)\n",
      "        source_dist_mats = float64(118x1)\n",
      "        source_infl_mats = float64(118x1)\n",
      "        ss_ind_mats = float64(118x1)\n",
      "    raw:NXgroup\n",
      "      conn~False_rank~False:NXgroup\n",
      "        sink_conn_mats = float64(118x609)\n",
      "        sink_dist_mats = float64(118x609)\n",
      "        source_dist_mats = float64(118x609)\n",
      "        source_infl_mats = float64(118x609)\n",
      "        ss_ind_mats = float64(118x609)\n",
      "      conn~False_rank~True:NXgroup\n",
      "        sink_conn_mats = float64(118x609)\n",
      "        sink_dist_mats = float64(118x609)\n",
      "        source_dist_mats = float64(118x609)\n",
      "        source_infl_mats = float64(118x609)\n",
      "        ss_ind_mats = float64(118x609)\n",
      "      conn~True_rank~False:NXgroup\n",
      "        sink_conn_mats = float64(118x609)\n",
      "        sink_dist_mats = float64(118x609)\n",
      "        source_dist_mats = float64(118x609)\n",
      "        source_infl_mats = float64(118x609)\n",
      "        ss_ind_mats = float64(118x609)\n",
      "      conn~True_rank~True:NXgroup\n",
      "        sink_conn_mats = float64(118x609)\n",
      "        sink_dist_mats = float64(118x609)\n",
      "        source_dist_mats = float64(118x609)\n",
      "        source_infl_mats = float64(118x609)\n",
      "        ss_ind_mats = float64(118x609)\n"
     ]
    }
   ],
   "source": [
    "import h5py\n",
    "import numpy as np\n",
    "import networkx as nx\n",
    "\n",
    "import matplotlib.pyplot as plt\n",
    "import seaborn as sns\n",
    "import copy\n",
    "\n",
    "from tqdm import tqdm\n",
    "import pandas as pd\n",
    "\n",
    "import os\n",
    "\n",
    "import nexusformat.nexus as nx\n",
    "\n",
    "# f = nx.nxload(\"f:\\\\git\\\\eeg_prep\\\\me\\\\processed_files\\\\001_000500_000500.hdf5\")\n",
    "\n",
    "f = nx.nxload(\"/media/dan/Data/data/sourcesink_eegprep_calculations/processed_files/001_000500_000500.hdf5\")\n",
    "print(f.tree)"
   ]
  },
  {
   "cell_type": "code",
   "execution_count": 2,
   "metadata": {},
   "outputs": [],
   "source": [
    "def drop_connections_until_split(adj_matrix, remove_type='lowest', directed=False):\n",
    "    \"\"\"\n",
    "    Removes connections from the adjacency matrix based on the specified remove_type\n",
    "    ('lowest' or 'highest' absolute values) until the graph splits into multiple\n",
    "    connected components.\n",
    "\n",
    "    Parameters:\n",
    "    - adj_matrix (np.ndarray): Square adjacency matrix.\n",
    "    - remove_type (str): 'lowest' to remove weakest connections first,\n",
    "                         'highest' to remove strongest connections first.\n",
    "    - directed (bool): Whether the graph is directed.\n",
    "\n",
    "    Returns:\n",
    "    - np.ndarray: Modified adjacency matrix with certain connections set to zero.\n",
    "    \"\"\"\n",
    "    # Validate remove_type\n",
    "    if remove_type not in ['lowest', 'highest']:\n",
    "        raise ValueError(\"remove_type must be either 'lowest' or 'highest'.\")\n",
    "\n",
    "    # Ensure the adjacency matrix is a NumPy array\n",
    "    abs_matrix = np.abs(np.array(copy.deepcopy(adj_matrix)))\n",
    "    \n",
    "    # Create a NetworkX graph from the adjacency matrix\n",
    "    if directed:\n",
    "        G = nx.from_numpy_array(abs_matrix, create_using=nx.DiGraph)\n",
    "    else:\n",
    "        G = nx.from_numpy_array(abs_matrix)\n",
    "    \n",
    "    # Define the connectivity check based on graph type\n",
    "    if directed:\n",
    "        connectivity_func = nx.is_strongly_connected\n",
    "        # connectivity_func = nx.is_connected\n",
    "    else:\n",
    "        connectivity_func = nx.is_connected\n",
    "\n",
    "    # If the graph is already disconnected, return as is\n",
    "    if not connectivity_func(G):\n",
    "        print(\"The input graph is already disconnected.\")\n",
    "        return adj_matrix\n",
    "    \n",
    "    # Get all edges with their absolute weights\n",
    "    edges = list(G.edges(data=True))\n",
    "    # Sort edges based on absolute weight\n",
    "    if remove_type == 'lowest':\n",
    "        edges_sorted = sorted(edges, key=lambda x: abs(x[2]['weight']))\n",
    "    else:  # remove_type == 'highest'\n",
    "        edges_sorted = sorted(edges, key=lambda x: abs(x[2]['weight']), reverse=True)\n",
    "    \n",
    "    # print(edges_sorted)\n",
    "\n",
    "    # Iterate through sorted edges and remove them one by one\n",
    "    for u, v, data in edges_sorted:\n",
    "        # Remove the edge\n",
    "        G.remove_edge(u, v)\n",
    "        \n",
    "        # Check if the graph is still connected\n",
    "        still_connected = connectivity_func(G)\n",
    "        \n",
    "        if not still_connected:\n",
    "            # If removing this edge disconnects the graph, add it back and stop\n",
    "            G.add_edge(u, v, weight=data['weight'])\n",
    "            print(f\"Stopping removal. Removing edge ({u}, {v}) would disconnect the graph.\")\n",
    "            break\n",
    "        else:\n",
    "            # If still connected, set the corresponding entry in adj_matrix to zero\n",
    "            adj_matrix[u, v] = 0\n",
    "            if not directed:\n",
    "                adj_matrix[v, u] = 0  # For undirected graphs\n",
    "    \n",
    "    return G, adj_matrix\n"
   ]
  },
  {
   "cell_type": "code",
   "execution_count": 14,
   "metadata": {},
   "outputs": [
    {
     "name": "stderr",
     "output_type": "stream",
     "text": [
      "100%|██████████| 72/72 [04:30<00:00,  3.76s/it]\n"
     ]
    }
   ],
   "source": [
    "hdf5_path = \"F:\\\\git\\\\eeg_prep\\\\me\\\\processed_files\"\n",
    "hdf5_path = \"/media/dan/Data/git/eeg_prep/processed_files\"\n",
    "\n",
    "files = os.listdir(hdf5_path)\n",
    "    \n",
    "# load all files into individual lists\n",
    "channels = {}\n",
    "brainnetome = {}\n",
    "harvard_oxford = {}\n",
    "miccai = {}\n",
    "aal = {}\n",
    "white_matter = {}\n",
    "soz = {}\n",
    "ilae = {}\n",
    "pids = []\n",
    "a_mats = {}\n",
    "a_masks = {}\n",
    "raw_data = {}\n",
    "\n",
    "\n",
    "for f in tqdm(files):\n",
    "    if f.endswith(\".hdf5\"):\n",
    "        pid = int(f.split(\"_\")[0])\n",
    "        pids.append(pid)\n",
    "        with h5py.File(os.path.join(hdf5_path,f), \"r\") as f:\n",
    "            channels[pid] = f['metadata'][\"channels\"][:]\n",
    "            brainnetome[pid] = f['metadata']['patient_info'][\"brainnetome\"][:]\n",
    "            harvard_oxford[pid] = f['metadata']['patient_info'][\"harvard-oxford\"][:]\n",
    "            miccai[pid] = f['metadata']['patient_info'][\"miccai\"][:]\n",
    "            aal[pid] = f['metadata']['patient_info'][\"aal\"][:]\n",
    "            white_matter[pid] = f['metadata']['patient_info'][\"white_matter\"][:].astype(bool)\n",
    "            # convert from bytes to string\n",
    "            channels[pid] = [x.decode('utf-8') for x in channels[pid]]\n",
    "            brainnetome[pid] = [x.decode('utf-8') for x in brainnetome[pid]]\n",
    "            harvard_oxford[pid] = [x.decode('utf-8') for x in harvard_oxford[pid]]\n",
    "            miccai[pid] = [x.decode('utf-8') for x in miccai[pid]]\n",
    "            aal[pid] = [x.decode('utf-8') for x in aal[pid]]\n",
    "\n",
    "            soz[pid] = f['metadata'][\"patient_info\"]['soz'][:].astype(bool)\n",
    "            ilae[pid] = f['metadata'][\"patient_info\"]['ilae'][:]\n",
    "\n",
    "            a_mats[pid] = f['data']['A_mats'][:]\n",
    "            a_masks[pid] = f['data']['A_mask'][:].astype(bool)\n",
    "            raw_data[pid] = f['data']['windows'][:]"
   ]
  },
  {
   "cell_type": "code",
   "execution_count": 163,
   "metadata": {},
   "outputs": [],
   "source": [
    "aal_flat = {}\n",
    "for k,v in aal.items():\n",
    "    # remove \"_R\" or \"_L\" from the region names. it should always be the last 2 characters but may not always be present\n",
    "    aal_flat[k] = [x[:-2] if x[-2:] in [\"_R\",\"_L\"] else x for x in v]\n"
   ]
  },
  {
   "cell_type": "code",
   "execution_count": 21,
   "metadata": {},
   "outputs": [
    {
     "name": "stderr",
     "output_type": "stream",
     "text": [
      "  0%|          | 0/72 [00:00<?, ?it/s]\n"
     ]
    }
   ],
   "source": [
    "\n",
    "\n",
    "def zero_one_normalize(data):\n",
    "    return (data - np.min(data)) / (np.max(data) - np.min(data))\n",
    "\n",
    "\n",
    "df = pd.DataFrame(columns=['pid', 'channel', 'brainnetome', 'harvard-oxford', 'miccai','aal','white_matter', 'soz', 'ilae', 'row_mag_sum', 'row_mag_avg', 'row_mag_med',\n",
    "                                                            'row_dis_sum', 'row_dis_avg', 'row_dis_med',\n",
    "                                                            'row_dis_sumAbs', 'row_dis_avgAbs', 'row_dis_medAbs',\n",
    "                                                            'col_mag_sum', 'col_mag_avg', 'col_mag_med',\n",
    "                                                            'col_dis_sum', 'col_dis_avg', 'col_dis_med',\n",
    "                                                            'col_dis_sumAbs', 'col_dis_avgAbs', 'col_dis_medAbs'])\n",
    "for pid in tqdm(pids):\n",
    "    mask = a_masks[pid].astype(bool)\n",
    "    diffs = np.diff(a_mats[pid][...,mask], axis=-1)\n",
    "    break\n",
    "#     tot_mag = np.sum(np.abs(diffs), axis=-1)\n",
    "#     # normalize 0-1\n",
    "#     tot_mag = tot_mag / np.max(tot_mag)\n",
    "\n",
    "#     displacement = np.sum(diffs, axis=-1)\n",
    "\n",
    "#     # normalize 0-1\n",
    "#     displacement = displacement / np.max(np.abs(displacement))\n",
    "\n",
    "#     s = soz[pid]\n",
    "#     b = brainnetome[pid]\n",
    "#     h = harvard_oxford[pid]\n",
    "#     mic = miccai[pid]\n",
    "#     aa = aal[pid]\n",
    "#     w = white_matter[pid]\n",
    "#     # calculate soz + 1. visually the hotspots were often off by 1. expand anywhere there is a soz so the contact before and after are included\n",
    "#     mask = np.where(s)[0]\n",
    "#     s2 = np.copy(s)\n",
    "#     m1= mask-1\n",
    "#     m2= mask+1\n",
    "#     # check bounds\n",
    "#     m1[m1<0] = 0\n",
    "#     m2[m2>=len(s)] = len(s)-1\n",
    "#     np.put(s2, m1, True)\n",
    "#     np.put(s2, m2, True)\n",
    "#     c = channels[pid]\n",
    "#     i = ilae[pid]\n",
    "#     rows = []\n",
    "\n",
    "#     for x in range(len(c)):\n",
    "#         row_mag_sum = np.sum(tot_mag[x,:])\n",
    "#         row_mag_avg = np.mean(tot_mag[x,:])\n",
    "#         row_mag_med = np.median(tot_mag[x])\n",
    "\n",
    "#         row_dis_sum = np.sum(displacement[x,:])\n",
    "#         row_dis_avg = np.mean(displacement[x,:])\n",
    "#         row_dis_med = np.median(displacement[x,:])\n",
    "\n",
    "#         row_dis_sumAbs = np.sum(np.abs(displacement[x,:]))\n",
    "#         row_dis_avgAbs = np.mean(np.abs(displacement[x,:]))\n",
    "#         row_dis_medAbs = np.median(np.abs(displacement[x,:]))\n",
    "\n",
    "#         col_mag_sum = np.sum(tot_mag[:,x])\n",
    "#         col_mag_avg = np.mean(tot_mag[:,x])\n",
    "#         col_mag_med = np.median(tot_mag[:,x])\n",
    "\n",
    "#         col_dis_sum = np.sum(displacement[:,x])\n",
    "#         col_dis_avg = np.mean(displacement[:,x])\n",
    "#         col_dis_med = np.median(displacement[:,x])\n",
    "\n",
    "#         col_dis_sumAbs = np.sum(np.abs(displacement[:,x]))\n",
    "#         col_dis_avgAbs = np.mean(np.abs(displacement[:,x]))\n",
    "#         col_dis_medAbs = np.median(np.abs(displacement[:,x]))\n",
    "        \n",
    "\n",
    "#         rows.append({'pid':pid, 'channel':c[x], 'brainnetome':b[x], 'harvard-oxford':h[x], 'miccai':mic[x], \n",
    "#                         'aal':aa[x], 'white_matter':w[x], 'soz':s[x], 'soz2':s2[x],'ilae':i[x], \n",
    "#                         'row_mag_sum':row_mag_sum, 'row_mag_avg':row_mag_avg, 'row_mag_med':row_mag_med,\n",
    "#                         'row_dis_sum':row_dis_sum, 'row_dis_avg':row_dis_avg, 'row_dis_med':row_dis_med,\n",
    "#                         'row_dis_sumAbs':row_dis_sumAbs, 'row_dis_avgAbs':row_dis_avgAbs, 'row_dis_medAbs':row_dis_medAbs,\n",
    "#                         'col_mag_sum':col_mag_sum, 'col_mag_avg':col_mag_avg, 'col_mag_med':col_mag_med,\n",
    "#                         'col_dis_sum':col_dis_sum, 'col_dis_avg':col_dis_avg, 'col_dis_med':col_dis_med,\n",
    "#                         'col_dis_sumAbs':col_dis_sumAbs, 'col_dis_avgAbs':col_dis_avgAbs, 'col_dis_medAbs':col_dis_medAbs})\n",
    "#     df = pd.concat([df, pd.DataFrame(rows)], ignore_index=True)\n",
    "\n",
    "\n",
    "# df_grouped = df.groupby('pid')\n",
    "\n",
    "# normalized_rows = []\n",
    "# for pid, group in df_grouped:\n",
    "#     group_normalized = group.copy()\n",
    "#     columns_to_normalize = [\n",
    "#         'row_mag_sum', 'row_mag_avg', 'row_mag_med',\n",
    "#         'row_dis_sum', 'row_dis_avg', 'row_dis_med',\n",
    "#         'row_dis_sumAbs', 'row_dis_avgAbs', 'row_dis_medAbs',\n",
    "#         'col_mag_sum', 'col_mag_avg', 'col_mag_med',\n",
    "#         'col_dis_sum', 'col_dis_avg', 'col_dis_med',\n",
    "#         'col_dis_sumAbs', 'col_dis_avgAbs', 'col_dis_medAbs'\n",
    "#     ]\n",
    "#     for col in columns_to_normalize:\n",
    "#         group_normalized[col] = zero_one_normalize(group[col])\n",
    "#     normalized_rows.append(group_normalized)\n",
    "\n",
    "# # Concatenate all normalized groups back into a single dataframe\n",
    "# df_normalized = pd.concat(normalized_rows, ignore_index=True)"
   ]
  },
  {
   "cell_type": "code",
   "execution_count": 153,
   "metadata": {},
   "outputs": [],
   "source": [
    "from upsetplot import plot as uplot\n",
    "from upsetplot import from_memberships"
   ]
  },
  {
   "cell_type": "code",
   "execution_count": 182,
   "metadata": {},
   "outputs": [],
   "source": [
    "# get all unique flat regions\n",
    "all_regions = set()\n",
    "for k,v in aal_flat.items():\n",
    "    all_regions.update(v)\n",
    "    "
   ]
  },
  {
   "cell_type": "code",
   "execution_count": 189,
   "metadata": {},
   "outputs": [
    {
     "data": {
      "text/plain": [
       "Angular  Calcarine  Cingulum_Ant  Cingulum_Mid  Cuneus  Frontal_Inf_Tri  Frontal_Mid  Frontal_Sup  Frontal_Sup_Medial  Fusiform  Hippocampus  Insula  ParaHippocampal  Parietal_Inf  Precentral  Precuneus  Putamen  Rolandic_Oper  SupraMarginal  Temporal_Inf  Temporal_Mid  Temporal_Sup  nan  \n",
       "False    False      False         False         False   False            False        False        False               False     False        True    False            False         False       False      False    True           False          False         False         False         False    1\n",
       "True     True       True          True          True    True             True         True         True                True      True         True    True             True          True        True       True     False          True           True          True          True          True     1\n",
       "Name: ones, dtype: int64"
      ]
     },
     "execution_count": 189,
     "metadata": {},
     "output_type": "execute_result"
    }
   ],
   "source": [
    "q"
   ]
  },
  {
   "cell_type": "code",
   "execution_count": 187,
   "metadata": {},
   "outputs": [
    {
     "data": {
      "text/plain": [
       "pandas.core.series.Series"
      ]
     },
     "execution_count": 187,
     "metadata": {},
     "output_type": "execute_result"
    }
   ],
   "source": [
    "type(q)"
   ]
  },
  {
   "cell_type": "code",
   "execution_count": 220,
   "metadata": {},
   "outputs": [
    {
     "name": "stderr",
     "output_type": "stream",
     "text": [
      "  1%|▏         | 1/72 [00:00<00:43,  1.63it/s]/tmp/ipykernel_11882/579237536.py:59: UserWarning: No artists with labels found to put in legend.  Note that artists whose label start with an underscore are ignored when legend() is called with no argument.\n",
      "  ax[2].legend()\n",
      " 21%|██        | 15/72 [00:09<00:39,  1.45it/s]/tmp/ipykernel_11882/579237536.py:59: UserWarning: No artists with labels found to put in legend.  Note that artists whose label start with an underscore are ignored when legend() is called with no argument.\n",
      "  ax[2].legend()\n",
      " 22%|██▏       | 16/72 [00:10<00:38,  1.45it/s]/tmp/ipykernel_11882/579237536.py:59: UserWarning: No artists with labels found to put in legend.  Note that artists whose label start with an underscore are ignored when legend() is called with no argument.\n",
      "  ax[2].legend()\n",
      " 46%|████▌     | 33/72 [00:22<00:30,  1.27it/s]/tmp/ipykernel_11882/579237536.py:44: UserWarning: Dataset has 0 variance; skipping density estimate. Pass `warn_singular=False` to disable this warning.\n",
      "  sns.kdeplot(x.flatten(), ax=ax[1], fill=True, cut=0, label='SOZ')\n",
      " 79%|███████▉  | 57/72 [00:40<00:10,  1.48it/s]/tmp/ipykernel_11882/579237536.py:59: UserWarning: No artists with labels found to put in legend.  Note that artists whose label start with an underscore are ignored when legend() is called with no argument.\n",
      "  ax[2].legend()\n",
      " 99%|█████████▊| 71/72 [00:50<00:00,  1.38it/s]/tmp/ipykernel_11882/579237536.py:59: UserWarning: No artists with labels found to put in legend.  Note that artists whose label start with an underscore are ignored when legend() is called with no argument.\n",
      "  ax[2].legend()\n",
      "100%|██████████| 72/72 [00:51<00:00,  1.41it/s]\n"
     ]
    }
   ],
   "source": [
    "# Calculate the maximum absolute value across all plots for consistent x-axis scaling\n",
    "for pid in tqdm(pids):\n",
    "    mask = a_masks[pid].astype(bool)\n",
    "    white_matter_mask = ~white_matter[pid]\n",
    "    diffs = np.diff(a_mats[pid][...,mask], axis=-1)\n",
    "    diffs = diffs[np.ix_(white_matter_mask, white_matter_mask, range(diffs.shape[2]))] # Only consider non white matter contacts\n",
    "    mag_diffs = np.sum(np.abs(diffs), axis=-1)\n",
    "    max_abs_value = np.max(mag_diffs)\n",
    "    i = ilae[pid][0]\n",
    "    sns.set_style('whitegrid')\n",
    "    # Plot with consistent x-axis limits\n",
    "    s = soz[pid][white_matter_mask]\n",
    "    a_mat = mag_diffs\n",
    "\n",
    "    m = np.array(aal_flat[pid])\n",
    "    s1 = np.array(soz[pid])\n",
    "    q = from_memberships([m[s1], m[~s1]])\n",
    "    \n",
    "    # Generate and save the upset plot separately\n",
    "    fig_upset = plt.figure(figsize=(6, 6))\n",
    "    uplot(q, fig=fig_upset, orientation='vertical', sort_by=\"input\", sort_categories_by=\"input\")\n",
    "    upset_image_path = f\"upset.png\"\n",
    "    fig_upset.savefig(upset_image_path)\n",
    "    plt.close(fig_upset)\n",
    "\n",
    "    # Create a new figure with 3 subplots and load the upset plot image in the first subplot\n",
    "    fig = plt.figure(figsize=(10, 15))\n",
    "\n",
    "    ax1 = fig.add_subplot(3, 1, 1)\n",
    "    ax2 = fig.add_subplot(3, 1, 2)\n",
    "    ax3 = fig.add_subplot(3, 1, 3, sharex = ax2, sharey = ax2)\n",
    "    ax = [ax1, ax2, ax3]\n",
    "\n",
    "    # Load the upset plot image and display it in the first axis\n",
    "    upset_img = plt.imread(upset_image_path)\n",
    "    ax[0].imshow(upset_img)\n",
    "    # ax[0].set_ylim(0, upset_img.shape[0])\n",
    "    # ax[0].set_xlim(-100, upset_img.shape[1])\n",
    "    ax[0].axis('off')  # Hide the axes for the image\n",
    "    # ax[0].set_aspect('auto')\n",
    "\n",
    "    # Plot KDE for each group and set consistent x-axis limits on the second and third axes\n",
    "    x = a_mat[s, :][:, s]\n",
    "    sns.kdeplot(x.flatten(), ax=ax[1], fill=True, cut=0, label='SOZ')\n",
    "\n",
    "    x = a_mat[~s, :][:, ~s]\n",
    "    sns.kdeplot(x.flatten(), ax=ax[1], fill=True, cut=0, label='non-SOZ')\n",
    "    ax[1].set_title(\"KDE of SOZ vs non-SOZ contacts\")\n",
    "    ax[1].set_xlim(-max_abs_value, max_abs_value)\n",
    "    ax[1].legend()\n",
    "\n",
    "    x = a_mat[s, :][:, ~s]\n",
    "    sns.kdeplot(x.flatten(), ax=ax[2], fill=True, cut=0, label='SOZ to non-SOZ')\n",
    "\n",
    "    x = a_mat[~s, :][:, s]\n",
    "    sns.kdeplot(x.flatten(), ax=ax[2], fill=True, cut=0, label='non-SOZ to SOZ')\n",
    "    ax[2].set_title(\"KDE of within soz contacts\")\n",
    "    ax[2].set_xlim(-max_abs_value, max_abs_value)\n",
    "    ax[2].legend()\n",
    "\n",
    "    # Save the combined figure\n",
    "    plt.tight_layout()\n",
    "    plt.savefig(f\"{i}_{pid:04}.png\")\n",
    "    plt.close()\n"
   ]
  },
  {
   "cell_type": "code",
   "execution_count": 5,
   "metadata": {},
   "outputs": [
    {
     "name": "stdout",
     "output_type": "stream",
     "text": [
      "Stopping removal. Removing edge (101, 0) would disconnect the graph.\n",
      "Stopping removal. Removing edge (1, 54) would disconnect the graph.\n"
     ]
    }
   ],
   "source": [
    "Ga, a = drop_connections_until_split(diffs[:,:,0], remove_type='lowest', directed=True)\n",
    "Gb, b = drop_connections_until_split(diffs[:,:,1], remove_type='lowest', directed=True)"
   ]
  },
  {
   "cell_type": "code",
   "execution_count": 6,
   "metadata": {},
   "outputs": [],
   "source": [
    "# name nodes in the graph by index but append 0's to the front to make them 4 digits\n",
    "# this is so the graph will be displayed in the correct order\n",
    "Ga = nx.relabel_nodes(Ga, {k: f\"{k:04}\" for k in Ga.nodes()})"
   ]
  },
  {
   "cell_type": "code",
   "execution_count": 7,
   "metadata": {},
   "outputs": [],
   "source": [
    "nx.write_gexf(Ga, \"Ga.gexf\")"
   ]
  },
  {
   "cell_type": "code",
   "execution_count": 8,
   "metadata": {},
   "outputs": [
    {
     "ename": "NameError",
     "evalue": "name 'networkx' is not defined",
     "output_type": "error",
     "traceback": [
      "\u001b[0;31m---------------------------------------------------------------------------\u001b[0m",
      "\u001b[0;31mNameError\u001b[0m                                 Traceback (most recent call last)",
      "Cell \u001b[0;32mIn[8], line 1\u001b[0m\n\u001b[0;32m----> 1\u001b[0m \u001b[43mnetworkx\u001b[49m\u001b[38;5;241m.\u001b[39mwrite_gexf( G , path )\n",
      "\u001b[0;31mNameError\u001b[0m: name 'networkx' is not defined"
     ]
    }
   ],
   "source": [
    "networkx.write_gexf( G , path )"
   ]
  },
  {
   "cell_type": "code",
   "execution_count": 25,
   "metadata": {},
   "outputs": [
    {
     "data": {
      "text/plain": [
       "<Axes: >"
      ]
     },
     "execution_count": 25,
     "metadata": {},
     "output_type": "execute_result"
    },
    {
     "data": {
      "image/png": "[encoded data removed]",
      "text/plain": [
       "<Figure size 640x480 with 2 Axes>"
      ]
     },
     "metadata": {},
     "output_type": "display_data"
    }
   ],
   "source": [
    "sns.heatmap(a, cmap='seismic', center=0,square=True)"
   ]
  },
  {
   "cell_type": "code",
   "execution_count": 26,
   "metadata": {},
   "outputs": [
    {
     "data": {
      "text/plain": [
       "<Axes: >"
      ]
     },
     "execution_count": 26,
     "metadata": {},
     "output_type": "execute_result"
    },
    {
     "data": {
      "image/png": "[encoded data removed]",
      "text/plain": [
       "<Figure size 640x480 with 2 Axes>"
      ]
     },
     "metadata": {},
     "output_type": "display_data"
    }
   ],
   "source": [
    "sns.heatmap(b, cmap='seismic', center=0,square=True)"
   ]
  }
 ],
 "metadata": {
  "kernelspec": {
   "display_name": "sourcesink",
   "language": "python",
   "name": "python3"
  },
  "language_info": {
   "codemirror_mode": {
    "name": "ipython",
    "version": 3
   },
   "file_extension": ".py",
   "mimetype": "text/x-python",
   "name": "python",
   "nbconvert_exporter": "python",
   "pygments_lexer": "ipython3",
   "version": "3.12.4"
  }
 },
 "nbformat": 4,
 "nbformat_minor": 2
}
