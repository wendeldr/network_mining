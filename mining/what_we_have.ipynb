{
 "cells": [
  {
   "cell_type": "code",
   "execution_count": null,
   "metadata": {},
   "outputs": [],
   "source": [
    "import numpy as np\n",
    "import matplotlib.pyplot as plt\n",
    "from mne_connectivity import spectral_connectivity_time"
   ]
  },
  {
   "cell_type": "code",
   "execution_count": 14,
   "metadata": {},
   "outputs": [
    {
     "name": "stdout",
     "output_type": "stream",
     "text": [
      "duration: 4.0\n",
      "cycle freq: 1.75\n",
      "minimum frequency possible: 1.75\n"
     ]
    },
    {
     "data": {
      "text/plain": [
       "np.False_"
      ]
     },
     "execution_count": 14,
     "metadata": {},
     "output_type": "execute_result"
    }
   ],
   "source": [
    "n_times = 128\n",
    "\n",
    "\n",
    "n_cycles=7\n",
    "sfreq = 32\n",
    "dur = float(n_times) / sfreq\n",
    "cycle_freq = n_cycles / dur\n",
    "print('duration: %s' % dur)\n",
    "print('cycle freq: %s' % cycle_freq)\n",
    "\n",
    "# minimum frequency possible:\n",
    "m = (n_cycles * sfreq) / n_times\n",
    "print('minimum frequency possible: %s' % m)\n",
    "\n",
    "freqs = np.arange(14, 50, 1)\n",
    "np.any(freqs < cycle_freq)"
   ]
  },
  {
   "cell_type": "code",
   "execution_count": 13,
   "metadata": {},
   "outputs": [
    {
     "data": {
      "text/plain": [
       "(1, 4, 128)"
      ]
     },
     "execution_count": 13,
     "metadata": {},
     "output_type": "execute_result"
    }
   ],
   "source": [
    "\n",
    "\n",
    "def sinusoidal(a, f, sr, t, theta=0, DC=0):\n",
    "    delta_i = 1 / sr\n",
    "    f2pi = f * 2 * np.pi\n",
    "    nu = np.array([DC + (a * np.sin(f2pi * i * delta_i + theta)) for i in range(t)])\n",
    "    return nu\n",
    "t=32\n",
    "sr=32\n",
    "f=2\n",
    "noise=1000\n",
    "\n",
    "v=sinusoidal(10, f, sr, t*4, 0)\n",
    "w=sinusoidal(10, f, sr, t*4, np.pi/4)\n",
    "y=sinusoidal(10, f, sr, t*4, np.pi/2)\n",
    "z=sinusoidal(10, f, sr, t*4, np.pi)\n",
    "# need an array shaped epoch, channel, time\n",
    "data = np.array([[v, w, y, z]])\n",
    "data.shape\n"
   ]
  },
  {
   "cell_type": "code",
   "execution_count": 20,
   "metadata": {},
   "outputs": [
    {
     "name": "stdout",
     "output_type": "stream",
     "text": [
      "Fmin was not specified. Using fmin=min(freqs)\n",
      "Fmax was not specified. Using fmax=max(freqs).\n",
      "only using indices for lower-triangular matrix\n",
      "Connectivity computation...\n",
      "   Processing epoch 1 / 1 ...\n",
      "[Connectivity computation done]\n"
     ]
    }
   ],
   "source": [
    "conn = spectral_connectivity_time(\n",
    "    data,\n",
    "    freqs=np.arange(2,16),\n",
    "    method='coh',\n",
    "    sfreq=sr,\n",
    "    # faverage=True,\n",
    "    verbose=True,\n",
    "    # n_jobs=20,\n",
    "    # indices=indices,\n",
    "    mode=\"multitaper\",\n",
    ")"
   ]
  },
  {
   "cell_type": "code",
   "execution_count": 21,
   "metadata": {},
   "outputs": [
    {
     "data": {
      "text/plain": [
       "(1, 4, 4, 14)"
      ]
     },
     "execution_count": 21,
     "metadata": {},
     "output_type": "execute_result"
    }
   ],
   "source": [
    "out = conn.get_data(output='dense')\n",
    "out.shape"
   ]
  },
  {
   "cell_type": "code",
   "execution_count": 23,
   "metadata": {},
   "outputs": [
    {
     "data": {
      "text/plain": [
       "array([[0.        , 0.        , 0.        , 0.        ],\n",
       "       [0.89411542, 0.        , 0.        , 0.        ],\n",
       "       [0.85173113, 0.94322649, 0.        , 0.        ],\n",
       "       [1.        , 0.89411542, 0.85173113, 0.        ]])"
      ]
     },
     "execution_count": 23,
     "metadata": {},
     "output_type": "execute_result"
    }
   ],
   "source": [
    "out[0,:,:,2]"
   ]
  },
  {
   "cell_type": "markdown",
   "metadata": {},
   "source": [
    "We have \n",
    "- a set of matrices where each represents the connectivity of a graph. \n",
    "    - can be directed or undirected\n",
    "    - can be in time, as as a windowed function or some how pooled over time\n",
    "- a corresponding set of x,y,z coordinates for each node in the graph representing the position of the node in 3D MNI space.\n",
    "- a set of labels for each node in the graph representing if the node is EZ or not."
   ]
  },
  {
   "cell_type": "code",
   "execution_count": 1,
   "metadata": {},
   "outputs": [],
   "source": [
    "import mne\n",
    "import numpy as np\n",
    "from mne import make_fixed_length_epochs\n",
    "from mne_connectivity import spectral_connectivity_time\n",
    "\n",
    "from matplotlib import pyplot as plt"
   ]
  },
  {
   "cell_type": "code",
   "execution_count": 2,
   "metadata": {},
   "outputs": [
    {
     "name": "stderr",
     "output_type": "stream",
     "text": [
      "/tmp/ipykernel_28592/2729598758.py:2: RuntimeWarning: Omitted 6 annotation(s) that were outside data range.\n",
      "  raw = mne.io.read_raw_edf(path,verbose=False)\n",
      "/tmp/ipykernel_28592/2729598758.py:4: RuntimeWarning: Omitted 6 annotation(s) that were outside data range.\n",
      "  raw = mne.io.read_raw_edf(path, preload=True, verbose=False,include=eeg_channels)\n"
     ]
    }
   ],
   "source": [
    "path = \"/media/dan/Data/data/iEEG/raw_ieeg/baseline_patients/baseline_edfs/064_Baseline.EDF\"\n",
    "raw = mne.io.read_raw_edf(path,verbose=False)\n",
    "eeg_channels = [ch for ch in raw.ch_names if ch.startswith(\"EEG \")]\n",
    "raw = mne.io.read_raw_edf(path, preload=True, verbose=False,include=eeg_channels)\n",
    "data = raw.get_data()"
   ]
  },
  {
   "cell_type": "code",
   "execution_count": 3,
   "metadata": {},
   "outputs": [
    {
     "name": "stdout",
     "output_type": "stream",
     "text": [
      "Not setting metadata\n",
      "602 matching events found\n",
      "No baseline correction applied\n",
      "0 projection items activated\n"
     ]
    }
   ],
   "source": [
    "epochs = make_fixed_length_epochs(raw=raw, duration=.5)\n",
    "times = epochs.times\n",
    "ch_names = epochs.ch_names\n",
    "\n",
    "# conn = vector_auto_regression(data=epochs.get_data(), times=times, names=ch_names, n_jobs=25)\n",
    "\n",
    "# # this returns a connectivity structure over time\n",
    "# print(conn)"
   ]
  },
  {
   "cell_type": "code",
   "execution_count": 4,
   "metadata": {},
   "outputs": [
    {
     "name": "stdout",
     "output_type": "stream",
     "text": [
      "Using data from preloaded Raw for 602 events and 1024 original time points ...\n",
      "0 bad epochs dropped\n"
     ]
    },
    {
     "data": {
      "text/plain": [
       "(602, 194, 1024)"
      ]
     },
     "execution_count": 4,
     "metadata": {},
     "output_type": "execute_result"
    }
   ],
   "source": [
    "epochs.get_data().shape"
   ]
  },
  {
   "cell_type": "code",
   "execution_count": 5,
   "metadata": {},
   "outputs": [
    {
     "name": "stdout",
     "output_type": "stream",
     "text": [
      "duration: 0.5\n",
      "cycle freq: 14.0\n",
      "minimum frequency possible: 14.0\n"
     ]
    },
    {
     "data": {
      "text/plain": [
       "np.False_"
      ]
     },
     "execution_count": 5,
     "metadata": {},
     "output_type": "execute_result"
    }
   ],
   "source": [
    "n_times = 1024\n",
    "\n",
    "\n",
    "n_cycles=7\n",
    "sfreq = raw.info['sfreq']\n",
    "dur = float(n_times) / sfreq\n",
    "cycle_freq = n_cycles / dur\n",
    "print('duration: %s' % dur)\n",
    "print('cycle freq: %s' % cycle_freq)\n",
    "\n",
    "# minimum frequency possible:\n",
    "m = (n_cycles * sfreq) / n_times\n",
    "print('minimum frequency possible: %s' % m)\n",
    "\n",
    "freqs = np.arange(14, 50, 1)\n",
    "np.any(freqs < cycle_freq)"
   ]
  },
  {
   "cell_type": "code",
   "execution_count": null,
   "metadata": {},
   "outputs": [],
   "source": []
  },
  {
   "cell_type": "code",
   "execution_count": null,
   "metadata": {},
   "outputs": [
    {
     "name": "stdout",
     "output_type": "stream",
     "text": [
      "Using data from preloaded Raw for 602 events and 1024 original time points ...\n",
      "Fmin was not specified. Using fmin=min(freqs)\n",
      "Fmax was not specified. Using fmax=max(freqs).\n",
      "Connectivity computation...\n",
      "   Processing epoch 1 / 5 ...\n"
     ]
    },
    {
     "name": "stderr",
     "output_type": "stream",
     "text": [
      "[Parallel(n_jobs=20)]: Using backend LokyBackend with 20 concurrent workers.\n",
      "[Parallel(n_jobs=20)]: Done  52 tasks      | elapsed:    3.9s\n",
      "[Parallel(n_jobs=20)]: Done 142 tasks      | elapsed:    7.5s\n",
      "[Parallel(n_jobs=20)]: Done 194 out of 194 | elapsed:    9.3s finished\n",
      "[Parallel(n_jobs=20)]: Using backend LokyBackend with 20 concurrent workers.\n",
      "[Parallel(n_jobs=20)]: Done  52 tasks      | elapsed:    2.6s\n",
      "[Parallel(n_jobs=20)]: Done 204 tasks      | elapsed:    3.7s\n",
      "[Parallel(n_jobs=20)]: Done 456 tasks      | elapsed:    5.2s\n",
      "[Parallel(n_jobs=20)]: Done 780 tasks      | elapsed:    7.2s\n",
      "[Parallel(n_jobs=20)]: Done 1176 tasks      | elapsed:    9.7s\n",
      "[Parallel(n_jobs=20)]: Done 1644 tasks      | elapsed:   12.5s\n",
      "[Parallel(n_jobs=20)]: Done 2184 tasks      | elapsed:   15.6s\n",
      "[Parallel(n_jobs=20)]: Done 2796 tasks      | elapsed:   19.2s\n",
      "[Parallel(n_jobs=20)]: Done 3480 tasks      | elapsed:   23.3s\n",
      "[Parallel(n_jobs=20)]: Done 4236 tasks      | elapsed:   27.7s\n",
      "[Parallel(n_jobs=20)]: Done 5064 tasks      | elapsed:   32.6s\n",
      "[Parallel(n_jobs=20)]: Done 5964 tasks      | elapsed:   38.0s\n",
      "[Parallel(n_jobs=20)]: Done 6936 tasks      | elapsed:   44.0s\n",
      "[Parallel(n_jobs=20)]: Done 7980 tasks      | elapsed:   50.2s\n",
      "[Parallel(n_jobs=20)]: Done 9096 tasks      | elapsed:   57.0s\n",
      "[Parallel(n_jobs=20)]: Done 10284 tasks      | elapsed:  1.1min\n",
      "[Parallel(n_jobs=20)]: Done 11544 tasks      | elapsed:  1.2min\n",
      "[Parallel(n_jobs=20)]: Done 12876 tasks      | elapsed:  1.3min\n",
      "[Parallel(n_jobs=20)]: Done 14280 tasks      | elapsed:  1.5min\n",
      "[Parallel(n_jobs=20)]: Done 15756 tasks      | elapsed:  1.6min\n",
      "[Parallel(n_jobs=20)]: Done 17304 tasks      | elapsed:  1.8min\n",
      "[Parallel(n_jobs=20)]: Done 18924 tasks      | elapsed:  1.9min\n",
      "[Parallel(n_jobs=20)]: Done 20616 tasks      | elapsed:  2.1min\n",
      "[Parallel(n_jobs=20)]: Done 22380 tasks      | elapsed:  2.3min\n",
      "[Parallel(n_jobs=20)]: Done 24216 tasks      | elapsed:  2.5min\n",
      "[Parallel(n_jobs=20)]: Done 26124 tasks      | elapsed:  2.7min\n",
      "[Parallel(n_jobs=20)]: Done 28104 tasks      | elapsed:  2.9min\n",
      "[Parallel(n_jobs=20)]: Done 30156 tasks      | elapsed:  3.1min\n",
      "[Parallel(n_jobs=20)]: Done 32280 tasks      | elapsed:  3.3min\n",
      "[Parallel(n_jobs=20)]: Done 34476 tasks      | elapsed:  3.5min\n",
      "[Parallel(n_jobs=20)]: Done 36744 tasks      | elapsed:  3.7min\n",
      "[Parallel(n_jobs=20)]: Done 37636 out of 37636 | elapsed:  3.8min finished\n"
     ]
    },
    {
     "name": "stdout",
     "output_type": "stream",
     "text": [
      "   Processing epoch 2 / 5 ...\n"
     ]
    },
    {
     "name": "stderr",
     "output_type": "stream",
     "text": [
      "[Parallel(n_jobs=20)]: Using backend LokyBackend with 20 concurrent workers.\n",
      "[Parallel(n_jobs=20)]: Done  84 tasks      | elapsed:    2.1s\n",
      "[Parallel(n_jobs=20)]: Done 194 out of 194 | elapsed:    5.0s finished\n",
      "[Parallel(n_jobs=20)]: Using backend LokyBackend with 20 concurrent workers.\n",
      "[Parallel(n_jobs=20)]: Done  52 tasks      | elapsed:    2.5s\n",
      "[Parallel(n_jobs=20)]: Done 204 tasks      | elapsed:    3.7s\n",
      "[Parallel(n_jobs=20)]: Done 456 tasks      | elapsed:    5.3s\n",
      "[Parallel(n_jobs=20)]: Done 780 tasks      | elapsed:    7.3s\n",
      "[Parallel(n_jobs=20)]: Done 1176 tasks      | elapsed:    9.8s\n",
      "[Parallel(n_jobs=20)]: Done 1644 tasks      | elapsed:   12.5s\n",
      "[Parallel(n_jobs=20)]: Done 2184 tasks      | elapsed:   15.7s\n",
      "[Parallel(n_jobs=20)]: Done 2796 tasks      | elapsed:   19.5s\n",
      "[Parallel(n_jobs=20)]: Done 3480 tasks      | elapsed:   23.7s\n",
      "[Parallel(n_jobs=20)]: Done 4236 tasks      | elapsed:   28.3s\n",
      "[Parallel(n_jobs=20)]: Done 5064 tasks      | elapsed:   33.2s\n",
      "[Parallel(n_jobs=20)]: Done 5964 tasks      | elapsed:   38.8s\n",
      "[Parallel(n_jobs=20)]: Done 6936 tasks      | elapsed:   44.8s\n",
      "[Parallel(n_jobs=20)]: Done 7980 tasks      | elapsed:   51.2s\n",
      "[Parallel(n_jobs=20)]: Done 9096 tasks      | elapsed:   58.3s\n",
      "[Parallel(n_jobs=20)]: Done 10284 tasks      | elapsed:  1.1min\n",
      "[Parallel(n_jobs=20)]: Done 11544 tasks      | elapsed:  1.2min\n",
      "[Parallel(n_jobs=20)]: Done 12876 tasks      | elapsed:  1.4min\n",
      "[Parallel(n_jobs=20)]: Done 14280 tasks      | elapsed:  1.5min\n",
      "[Parallel(n_jobs=20)]: Done 15756 tasks      | elapsed:  1.6min\n",
      "[Parallel(n_jobs=20)]: Done 17304 tasks      | elapsed:  1.8min\n",
      "[Parallel(n_jobs=20)]: Done 18924 tasks      | elapsed:  2.0min\n",
      "[Parallel(n_jobs=20)]: Done 20616 tasks      | elapsed:  2.1min\n",
      "[Parallel(n_jobs=20)]: Done 22380 tasks      | elapsed:  2.3min\n",
      "[Parallel(n_jobs=20)]: Done 24216 tasks      | elapsed:  2.5min\n",
      "[Parallel(n_jobs=20)]: Done 26124 tasks      | elapsed:  2.7min\n",
      "[Parallel(n_jobs=20)]: Done 28104 tasks      | elapsed:  2.9min\n",
      "[Parallel(n_jobs=20)]: Done 30156 tasks      | elapsed:  3.1min\n",
      "[Parallel(n_jobs=20)]: Done 32280 tasks      | elapsed:  3.3min\n",
      "[Parallel(n_jobs=20)]: Done 34476 tasks      | elapsed:  3.5min\n",
      "[Parallel(n_jobs=20)]: Done 36744 tasks      | elapsed:  3.8min\n",
      "[Parallel(n_jobs=20)]: Done 37636 out of 37636 | elapsed:  3.9min finished\n"
     ]
    },
    {
     "name": "stdout",
     "output_type": "stream",
     "text": [
      "   Processing epoch 3 / 5 ...\n"
     ]
    },
    {
     "name": "stderr",
     "output_type": "stream",
     "text": [
      "[Parallel(n_jobs=20)]: Using backend LokyBackend with 20 concurrent workers.\n",
      "[Parallel(n_jobs=20)]: Done  84 tasks      | elapsed:    2.3s\n",
      "[Parallel(n_jobs=20)]: Done 194 out of 194 | elapsed:    5.2s finished\n",
      "[Parallel(n_jobs=20)]: Using backend LokyBackend with 20 concurrent workers.\n",
      "[Parallel(n_jobs=20)]: Done  52 tasks      | elapsed:    2.5s\n",
      "[Parallel(n_jobs=20)]: Done 204 tasks      | elapsed:    3.6s\n",
      "[Parallel(n_jobs=20)]: Done 456 tasks      | elapsed:    5.2s\n",
      "[Parallel(n_jobs=20)]: Done 780 tasks      | elapsed:    7.3s\n",
      "[Parallel(n_jobs=20)]: Done 1176 tasks      | elapsed:    9.6s\n",
      "[Parallel(n_jobs=20)]: Done 1644 tasks      | elapsed:   12.3s\n",
      "[Parallel(n_jobs=20)]: Done 2184 tasks      | elapsed:   15.6s\n",
      "[Parallel(n_jobs=20)]: Done 2796 tasks      | elapsed:   19.5s\n",
      "[Parallel(n_jobs=20)]: Done 3480 tasks      | elapsed:   23.6s\n",
      "[Parallel(n_jobs=20)]: Done 4236 tasks      | elapsed:   28.1s\n",
      "[Parallel(n_jobs=20)]: Done 5064 tasks      | elapsed:   33.1s\n",
      "[Parallel(n_jobs=20)]: Done 5964 tasks      | elapsed:   38.6s\n",
      "[Parallel(n_jobs=20)]: Done 6936 tasks      | elapsed:   44.4s\n",
      "[Parallel(n_jobs=20)]: Done 7980 tasks      | elapsed:   50.8s\n",
      "[Parallel(n_jobs=20)]: Done 9096 tasks      | elapsed:   57.4s\n",
      "[Parallel(n_jobs=20)]: Done 10284 tasks      | elapsed:  1.1min\n",
      "[Parallel(n_jobs=20)]: Done 11544 tasks      | elapsed:  1.2min\n",
      "[Parallel(n_jobs=20)]: Done 12876 tasks      | elapsed:  1.3min\n",
      "[Parallel(n_jobs=20)]: Done 14280 tasks      | elapsed:  1.5min\n",
      "[Parallel(n_jobs=20)]: Done 15756 tasks      | elapsed:  1.6min\n",
      "[Parallel(n_jobs=20)]: Done 17304 tasks      | elapsed:  1.8min\n",
      "[Parallel(n_jobs=20)]: Done 18924 tasks      | elapsed:  1.9min\n",
      "[Parallel(n_jobs=20)]: Done 20616 tasks      | elapsed:  2.1min\n",
      "[Parallel(n_jobs=20)]: Done 22380 tasks      | elapsed:  2.3min\n",
      "[Parallel(n_jobs=20)]: Done 24216 tasks      | elapsed:  2.5min\n",
      "[Parallel(n_jobs=20)]: Done 26124 tasks      | elapsed:  2.7min\n",
      "[Parallel(n_jobs=20)]: Done 28104 tasks      | elapsed:  2.9min\n",
      "[Parallel(n_jobs=20)]: Done 30156 tasks      | elapsed:  3.1min\n",
      "[Parallel(n_jobs=20)]: Done 32280 tasks      | elapsed:  3.3min\n",
      "[Parallel(n_jobs=20)]: Done 34476 tasks      | elapsed:  3.5min\n",
      "[Parallel(n_jobs=20)]: Done 36744 tasks      | elapsed:  3.8min\n",
      "[Parallel(n_jobs=20)]: Done 37636 out of 37636 | elapsed:  3.9min finished\n"
     ]
    },
    {
     "name": "stdout",
     "output_type": "stream",
     "text": [
      "   Processing epoch 4 / 5 ...\n"
     ]
    },
    {
     "name": "stderr",
     "output_type": "stream",
     "text": [
      "[Parallel(n_jobs=20)]: Using backend LokyBackend with 20 concurrent workers.\n",
      "[Parallel(n_jobs=20)]: Done  52 tasks      | elapsed:    1.9s\n",
      "[Parallel(n_jobs=20)]: Done 142 tasks      | elapsed:    5.2s\n",
      "[Parallel(n_jobs=20)]: Done 194 out of 194 | elapsed:    6.9s finished\n",
      "[Parallel(n_jobs=20)]: Using backend LokyBackend with 20 concurrent workers.\n",
      "[Parallel(n_jobs=20)]: Done  52 tasks      | elapsed:    2.5s\n",
      "[Parallel(n_jobs=20)]: Done 204 tasks      | elapsed:    3.5s\n",
      "[Parallel(n_jobs=20)]: Done 456 tasks      | elapsed:    5.1s\n",
      "[Parallel(n_jobs=20)]: Done 780 tasks      | elapsed:    7.1s\n",
      "[Parallel(n_jobs=20)]: Done 1176 tasks      | elapsed:    9.7s\n",
      "[Parallel(n_jobs=20)]: Done 1644 tasks      | elapsed:   12.6s\n",
      "[Parallel(n_jobs=20)]: Done 2184 tasks      | elapsed:   15.8s\n",
      "[Parallel(n_jobs=20)]: Done 2796 tasks      | elapsed:   19.5s\n",
      "[Parallel(n_jobs=20)]: Done 3480 tasks      | elapsed:   23.8s\n",
      "[Parallel(n_jobs=20)]: Done 4236 tasks      | elapsed:   28.4s\n",
      "[Parallel(n_jobs=20)]: Done 5064 tasks      | elapsed:   33.5s\n",
      "[Parallel(n_jobs=20)]: Done 5964 tasks      | elapsed:   39.0s\n",
      "[Parallel(n_jobs=20)]: Done 6936 tasks      | elapsed:   44.8s\n",
      "[Parallel(n_jobs=20)]: Done 7980 tasks      | elapsed:   51.2s\n",
      "[Parallel(n_jobs=20)]: Done 9096 tasks      | elapsed:   58.0s\n",
      "[Parallel(n_jobs=20)]: Done 10284 tasks      | elapsed:  1.1min\n",
      "[Parallel(n_jobs=20)]: Done 11544 tasks      | elapsed:  1.2min\n",
      "[Parallel(n_jobs=20)]: Done 12876 tasks      | elapsed:  1.4min\n",
      "[Parallel(n_jobs=20)]: Done 14280 tasks      | elapsed:  1.5min\n",
      "[Parallel(n_jobs=20)]: Done 15756 tasks      | elapsed:  1.6min\n",
      "[Parallel(n_jobs=20)]: Done 17304 tasks      | elapsed:  1.8min\n",
      "[Parallel(n_jobs=20)]: Done 18924 tasks      | elapsed:  2.0min\n",
      "[Parallel(n_jobs=20)]: Done 20616 tasks      | elapsed:  2.2min\n",
      "[Parallel(n_jobs=20)]: Done 22380 tasks      | elapsed:  2.3min\n",
      "[Parallel(n_jobs=20)]: Done 24216 tasks      | elapsed:  2.5min\n",
      "[Parallel(n_jobs=20)]: Done 26124 tasks      | elapsed:  2.7min\n",
      "[Parallel(n_jobs=20)]: Done 28104 tasks      | elapsed:  2.9min\n",
      "[Parallel(n_jobs=20)]: Done 30156 tasks      | elapsed:  3.1min\n",
      "[Parallel(n_jobs=20)]: Done 32280 tasks      | elapsed:  3.3min\n",
      "[Parallel(n_jobs=20)]: Done 34476 tasks      | elapsed:  3.6min\n",
      "[Parallel(n_jobs=20)]: Done 36744 tasks      | elapsed:  3.8min\n",
      "[Parallel(n_jobs=20)]: Done 37636 out of 37636 | elapsed:  3.9min finished\n"
     ]
    },
    {
     "name": "stdout",
     "output_type": "stream",
     "text": [
      "   Processing epoch 5 / 5 ...\n"
     ]
    },
    {
     "name": "stderr",
     "output_type": "stream",
     "text": [
      "[Parallel(n_jobs=20)]: Using backend LokyBackend with 20 concurrent workers.\n",
      "[Parallel(n_jobs=20)]: Done  84 tasks      | elapsed:    2.3s\n",
      "[Parallel(n_jobs=20)]: Done 194 out of 194 | elapsed:    5.3s finished\n",
      "[Parallel(n_jobs=20)]: Using backend LokyBackend with 20 concurrent workers.\n",
      "[Parallel(n_jobs=20)]: Done  52 tasks      | elapsed:    2.5s\n",
      "[Parallel(n_jobs=20)]: Done 228 tasks      | elapsed:    3.7s\n",
      "[Parallel(n_jobs=20)]: Done 732 tasks      | elapsed:    6.5s\n",
      "[Parallel(n_jobs=20)]: Done 1380 tasks      | elapsed:   10.1s\n",
      "[Parallel(n_jobs=20)]: Done 2172 tasks      | elapsed:   14.3s\n",
      "[Parallel(n_jobs=20)]: Done 3108 tasks      | elapsed:   19.4s\n",
      "[Parallel(n_jobs=20)]: Done 4188 tasks      | elapsed:   25.3s\n",
      "[Parallel(n_jobs=20)]: Done 5412 tasks      | elapsed:   32.0s\n",
      "[Parallel(n_jobs=20)]: Done 6780 tasks      | elapsed:   39.3s\n",
      "[Parallel(n_jobs=20)]: Done 8292 tasks      | elapsed:   47.5s\n",
      "[Parallel(n_jobs=20)]: Done 9948 tasks      | elapsed:   56.6s\n",
      "[Parallel(n_jobs=20)]: Done 11748 tasks      | elapsed:  1.1min\n",
      "[Parallel(n_jobs=20)]: Done 13692 tasks      | elapsed:  1.3min\n",
      "[Parallel(n_jobs=20)]: Done 15780 tasks      | elapsed:  1.5min\n",
      "[Parallel(n_jobs=20)]: Done 18012 tasks      | elapsed:  1.7min\n",
      "[Parallel(n_jobs=20)]: Done 20388 tasks      | elapsed:  1.9min\n",
      "[Parallel(n_jobs=20)]: Done 22908 tasks      | elapsed:  2.1min\n",
      "[Parallel(n_jobs=20)]: Done 25572 tasks      | elapsed:  2.4min\n",
      "[Parallel(n_jobs=20)]: Done 28380 tasks      | elapsed:  2.6min\n",
      "[Parallel(n_jobs=20)]: Done 31332 tasks      | elapsed:  2.9min\n",
      "[Parallel(n_jobs=20)]: Done 34428 tasks      | elapsed:  3.2min\n",
      "[Parallel(n_jobs=20)]: Done 37602 tasks      | elapsed:  3.5min\n",
      "[Parallel(n_jobs=20)]: Done 37636 out of 37636 | elapsed:  3.5min finished\n"
     ]
    },
    {
     "name": "stdout",
     "output_type": "stream",
     "text": [
      "[Connectivity computation done]\n",
      "Using data from preloaded Raw for 602 events and 1024 original time points ...\n",
      "Fmin was not specified. Using fmin=min(freqs)\n",
      "Fmax was not specified. Using fmax=max(freqs).\n",
      "Connectivity computation...\n",
      "   Processing epoch 1 / 5 ...\n"
     ]
    },
    {
     "name": "stderr",
     "output_type": "stream",
     "text": [
      "[Parallel(n_jobs=20)]: Using backend LokyBackend with 20 concurrent workers.\n",
      "[Parallel(n_jobs=20)]: Done  84 tasks      | elapsed:    2.4s\n",
      "[Parallel(n_jobs=20)]: Done 194 out of 194 | elapsed:    5.4s finished\n",
      "[Parallel(n_jobs=20)]: Using backend LokyBackend with 20 concurrent workers.\n",
      "[Parallel(n_jobs=20)]: Done  52 tasks      | elapsed:    2.1s\n",
      "[Parallel(n_jobs=20)]: Done 224 tasks      | elapsed:    3.5s\n",
      "[Parallel(n_jobs=20)]: Done 476 tasks      | elapsed:    5.1s\n",
      "[Parallel(n_jobs=20)]: Done 800 tasks      | elapsed:    6.9s\n",
      "[Parallel(n_jobs=20)]: Done 1196 tasks      | elapsed:    9.4s\n",
      "[Parallel(n_jobs=20)]: Done 1664 tasks      | elapsed:   12.4s\n",
      "[Parallel(n_jobs=20)]: Done 2204 tasks      | elapsed:   15.8s\n",
      "[Parallel(n_jobs=20)]: Done 2816 tasks      | elapsed:   19.5s\n",
      "[Parallel(n_jobs=20)]: Done 3500 tasks      | elapsed:   23.9s\n",
      "[Parallel(n_jobs=20)]: Done 4256 tasks      | elapsed:   28.7s\n",
      "[Parallel(n_jobs=20)]: Done 5084 tasks      | elapsed:   34.1s\n",
      "[Parallel(n_jobs=20)]: Done 5984 tasks      | elapsed:   39.6s\n",
      "[Parallel(n_jobs=20)]: Done 6956 tasks      | elapsed:   45.6s\n",
      "[Parallel(n_jobs=20)]: Done 8000 tasks      | elapsed:   52.2s\n",
      "[Parallel(n_jobs=20)]: Done 9116 tasks      | elapsed:   59.3s\n",
      "[Parallel(n_jobs=20)]: Done 10304 tasks      | elapsed:  1.1min\n",
      "[Parallel(n_jobs=20)]: Done 11564 tasks      | elapsed:  1.2min\n",
      "[Parallel(n_jobs=20)]: Done 12896 tasks      | elapsed:  1.4min\n",
      "[Parallel(n_jobs=20)]: Done 14300 tasks      | elapsed:  1.5min\n",
      "[Parallel(n_jobs=20)]: Done 15776 tasks      | elapsed:  1.7min\n",
      "[Parallel(n_jobs=20)]: Done 17324 tasks      | elapsed:  1.8min\n",
      "[Parallel(n_jobs=20)]: Done 18944 tasks      | elapsed:  2.0min\n",
      "[Parallel(n_jobs=20)]: Done 20636 tasks      | elapsed:  2.2min\n",
      "[Parallel(n_jobs=20)]: Done 22400 tasks      | elapsed:  2.4min\n",
      "[Parallel(n_jobs=20)]: Done 24236 tasks      | elapsed:  2.6min\n",
      "[Parallel(n_jobs=20)]: Done 26144 tasks      | elapsed:  2.8min\n",
      "[Parallel(n_jobs=20)]: Done 28124 tasks      | elapsed:  3.0min\n",
      "[Parallel(n_jobs=20)]: Done 30176 tasks      | elapsed:  3.2min\n",
      "[Parallel(n_jobs=20)]: Done 32300 tasks      | elapsed:  3.4min\n",
      "[Parallel(n_jobs=20)]: Done 34496 tasks      | elapsed:  3.6min\n",
      "[Parallel(n_jobs=20)]: Done 36764 tasks      | elapsed:  3.9min\n"
     ]
    },
    {
     "name": "stdout",
     "output_type": "stream",
     "text": [
      "   Processing epoch 2 / 5 ...\n"
     ]
    },
    {
     "name": "stderr",
     "output_type": "stream",
     "text": [
      "[Parallel(n_jobs=20)]: Done 37636 out of 37636 | elapsed:  4.0min finished\n",
      "[Parallel(n_jobs=20)]: Using backend LokyBackend with 20 concurrent workers.\n",
      "[Parallel(n_jobs=20)]: Done  84 tasks      | elapsed:    2.4s\n",
      "[Parallel(n_jobs=20)]: Done 194 out of 194 | elapsed:    5.5s finished\n",
      "[Parallel(n_jobs=20)]: Using backend LokyBackend with 20 concurrent workers.\n",
      "[Parallel(n_jobs=20)]: Done  52 tasks      | elapsed:    2.2s\n",
      "[Parallel(n_jobs=20)]: Done 204 tasks      | elapsed:    3.2s\n",
      "[Parallel(n_jobs=20)]: Done 456 tasks      | elapsed:    4.7s\n",
      "[Parallel(n_jobs=20)]: Done 780 tasks      | elapsed:    6.6s\n",
      "[Parallel(n_jobs=20)]: Done 1176 tasks      | elapsed:    9.2s\n",
      "[Parallel(n_jobs=20)]: Done 1644 tasks      | elapsed:   12.3s\n",
      "[Parallel(n_jobs=20)]: Done 2184 tasks      | elapsed:   15.9s\n",
      "[Parallel(n_jobs=20)]: Done 2796 tasks      | elapsed:   19.7s\n",
      "[Parallel(n_jobs=20)]: Done 3480 tasks      | elapsed:   23.9s\n",
      "[Parallel(n_jobs=20)]: Done 4236 tasks      | elapsed:   28.8s\n",
      "[Parallel(n_jobs=20)]: Done 5064 tasks      | elapsed:   34.1s\n",
      "[Parallel(n_jobs=20)]: Done 5964 tasks      | elapsed:   39.7s\n",
      "[Parallel(n_jobs=20)]: Done 6936 tasks      | elapsed:   45.8s\n",
      "[Parallel(n_jobs=20)]: Done 7980 tasks      | elapsed:   52.4s\n",
      "[Parallel(n_jobs=20)]: Done 9096 tasks      | elapsed:   59.3s\n",
      "[Parallel(n_jobs=20)]: Done 10284 tasks      | elapsed:  1.1min\n",
      "[Parallel(n_jobs=20)]: Done 11544 tasks      | elapsed:  1.2min\n",
      "[Parallel(n_jobs=20)]: Done 12876 tasks      | elapsed:  1.4min\n",
      "[Parallel(n_jobs=20)]: Done 14280 tasks      | elapsed:  1.5min\n",
      "[Parallel(n_jobs=20)]: Done 15756 tasks      | elapsed:  1.7min\n",
      "[Parallel(n_jobs=20)]: Done 17304 tasks      | elapsed:  1.9min\n",
      "[Parallel(n_jobs=20)]: Done 18924 tasks      | elapsed:  2.0min\n",
      "[Parallel(n_jobs=20)]: Done 20616 tasks      | elapsed:  2.2min\n",
      "[Parallel(n_jobs=20)]: Done 22380 tasks      | elapsed:  2.4min\n",
      "[Parallel(n_jobs=20)]: Done 24216 tasks      | elapsed:  2.6min\n",
      "[Parallel(n_jobs=20)]: Done 26124 tasks      | elapsed:  2.8min\n",
      "[Parallel(n_jobs=20)]: Done 28104 tasks      | elapsed:  3.0min\n",
      "[Parallel(n_jobs=20)]: Done 30156 tasks      | elapsed:  3.2min\n",
      "[Parallel(n_jobs=20)]: Done 32280 tasks      | elapsed:  3.4min\n",
      "[Parallel(n_jobs=20)]: Done 34476 tasks      | elapsed:  3.7min\n",
      "[Parallel(n_jobs=20)]: Done 36744 tasks      | elapsed:  3.9min\n"
     ]
    },
    {
     "name": "stdout",
     "output_type": "stream",
     "text": [
      "   Processing epoch 3 / 5 ...\n"
     ]
    },
    {
     "name": "stderr",
     "output_type": "stream",
     "text": [
      "[Parallel(n_jobs=20)]: Done 37636 out of 37636 | elapsed:  4.0min finished\n",
      "[Parallel(n_jobs=20)]: Using backend LokyBackend with 20 concurrent workers.\n",
      "[Parallel(n_jobs=20)]: Done  84 tasks      | elapsed:    2.3s\n",
      "[Parallel(n_jobs=20)]: Done 194 out of 194 | elapsed:    5.1s finished\n",
      "[Parallel(n_jobs=20)]: Using backend LokyBackend with 20 concurrent workers.\n",
      "[Parallel(n_jobs=20)]: Done  52 tasks      | elapsed:    2.2s\n",
      "[Parallel(n_jobs=20)]: Done 204 tasks      | elapsed:    3.4s\n",
      "[Parallel(n_jobs=20)]: Done 456 tasks      | elapsed:    5.0s\n",
      "[Parallel(n_jobs=20)]: Done 780 tasks      | elapsed:    7.0s\n",
      "[Parallel(n_jobs=20)]: Done 1176 tasks      | elapsed:    9.6s\n",
      "[Parallel(n_jobs=20)]: Done 1644 tasks      | elapsed:   12.6s\n",
      "[Parallel(n_jobs=20)]: Done 2184 tasks      | elapsed:   16.2s\n",
      "[Parallel(n_jobs=20)]: Done 2796 tasks      | elapsed:   20.0s\n",
      "[Parallel(n_jobs=20)]: Done 3480 tasks      | elapsed:   24.3s\n",
      "[Parallel(n_jobs=20)]: Done 4236 tasks      | elapsed:   29.4s\n",
      "[Parallel(n_jobs=20)]: Done 5064 tasks      | elapsed:   34.5s\n",
      "[Parallel(n_jobs=20)]: Done 5964 tasks      | elapsed:   40.4s\n",
      "[Parallel(n_jobs=20)]: Done 6936 tasks      | elapsed:   46.5s\n",
      "[Parallel(n_jobs=20)]: Done 7980 tasks      | elapsed:   53.1s\n",
      "[Parallel(n_jobs=20)]: Done 9096 tasks      | elapsed:  1.0min\n",
      "[Parallel(n_jobs=20)]: Done 10284 tasks      | elapsed:  1.1min\n",
      "[Parallel(n_jobs=20)]: Done 11544 tasks      | elapsed:  1.3min\n",
      "[Parallel(n_jobs=20)]: Done 12876 tasks      | elapsed:  1.4min\n",
      "[Parallel(n_jobs=20)]: Done 14280 tasks      | elapsed:  1.5min\n",
      "[Parallel(n_jobs=20)]: Done 15756 tasks      | elapsed:  1.7min\n",
      "[Parallel(n_jobs=20)]: Done 17304 tasks      | elapsed:  1.9min\n",
      "[Parallel(n_jobs=20)]: Done 18924 tasks      | elapsed:  2.0min\n",
      "[Parallel(n_jobs=20)]: Done 20616 tasks      | elapsed:  2.2min\n",
      "[Parallel(n_jobs=20)]: Done 22380 tasks      | elapsed:  2.4min\n",
      "[Parallel(n_jobs=20)]: Done 24216 tasks      | elapsed:  2.6min\n",
      "[Parallel(n_jobs=20)]: Done 26124 tasks      | elapsed:  2.8min\n",
      "[Parallel(n_jobs=20)]: Done 28104 tasks      | elapsed:  3.0min\n",
      "[Parallel(n_jobs=20)]: Done 30156 tasks      | elapsed:  3.2min\n",
      "[Parallel(n_jobs=20)]: Done 32280 tasks      | elapsed:  3.4min\n",
      "[Parallel(n_jobs=20)]: Done 34476 tasks      | elapsed:  3.7min\n",
      "[Parallel(n_jobs=20)]: Done 36744 tasks      | elapsed:  3.9min\n"
     ]
    },
    {
     "name": "stdout",
     "output_type": "stream",
     "text": [
      "   Processing epoch 4 / 5 ...\n"
     ]
    },
    {
     "name": "stderr",
     "output_type": "stream",
     "text": [
      "[Parallel(n_jobs=20)]: Done 37636 out of 37636 | elapsed:  4.0min finished\n",
      "[Parallel(n_jobs=20)]: Using backend LokyBackend with 20 concurrent workers.\n",
      "[Parallel(n_jobs=20)]: Done  84 tasks      | elapsed:    2.1s\n",
      "[Parallel(n_jobs=20)]: Done 194 out of 194 | elapsed:    5.0s finished\n",
      "[Parallel(n_jobs=20)]: Using backend LokyBackend with 20 concurrent workers.\n",
      "[Parallel(n_jobs=20)]: Done  52 tasks      | elapsed:    2.2s\n",
      "[Parallel(n_jobs=20)]: Done 204 tasks      | elapsed:    3.3s\n",
      "[Parallel(n_jobs=20)]: Done 456 tasks      | elapsed:    4.9s\n",
      "[Parallel(n_jobs=20)]: Done 780 tasks      | elapsed:    6.8s\n",
      "[Parallel(n_jobs=20)]: Done 1176 tasks      | elapsed:    9.4s\n",
      "[Parallel(n_jobs=20)]: Done 1644 tasks      | elapsed:   12.3s\n",
      "[Parallel(n_jobs=20)]: Done 2184 tasks      | elapsed:   15.8s\n",
      "[Parallel(n_jobs=20)]: Done 2796 tasks      | elapsed:   19.5s\n",
      "[Parallel(n_jobs=20)]: Done 3480 tasks      | elapsed:   23.7s\n",
      "[Parallel(n_jobs=20)]: Done 4236 tasks      | elapsed:   28.4s\n",
      "[Parallel(n_jobs=20)]: Done 5064 tasks      | elapsed:   33.4s\n",
      "[Parallel(n_jobs=20)]: Done 5964 tasks      | elapsed:   39.0s\n",
      "[Parallel(n_jobs=20)]: Done 6936 tasks      | elapsed:   45.2s\n",
      "[Parallel(n_jobs=20)]: Done 7980 tasks      | elapsed:   51.9s\n",
      "[Parallel(n_jobs=20)]: Done 9096 tasks      | elapsed:   58.9s\n",
      "[Parallel(n_jobs=20)]: Done 10284 tasks      | elapsed:  1.1min\n",
      "[Parallel(n_jobs=20)]: Done 11544 tasks      | elapsed:  1.2min\n",
      "[Parallel(n_jobs=20)]: Done 12876 tasks      | elapsed:  1.4min\n",
      "[Parallel(n_jobs=20)]: Done 14280 tasks      | elapsed:  1.5min\n",
      "[Parallel(n_jobs=20)]: Done 15756 tasks      | elapsed:  1.7min\n",
      "[Parallel(n_jobs=20)]: Done 17304 tasks      | elapsed:  1.8min\n",
      "[Parallel(n_jobs=20)]: Done 18924 tasks      | elapsed:  2.0min\n",
      "[Parallel(n_jobs=20)]: Done 20616 tasks      | elapsed:  2.2min\n",
      "[Parallel(n_jobs=20)]: Done 22380 tasks      | elapsed:  2.4min\n",
      "[Parallel(n_jobs=20)]: Done 24216 tasks      | elapsed:  2.6min\n",
      "[Parallel(n_jobs=20)]: Done 26124 tasks      | elapsed:  2.8min\n",
      "[Parallel(n_jobs=20)]: Done 28104 tasks      | elapsed:  3.0min\n",
      "[Parallel(n_jobs=20)]: Done 30156 tasks      | elapsed:  3.2min\n",
      "[Parallel(n_jobs=20)]: Done 32280 tasks      | elapsed:  3.4min\n",
      "[Parallel(n_jobs=20)]: Done 34476 tasks      | elapsed:  3.6min\n",
      "[Parallel(n_jobs=20)]: Done 36744 tasks      | elapsed:  3.9min\n"
     ]
    },
    {
     "name": "stdout",
     "output_type": "stream",
     "text": [
      "   Processing epoch 5 / 5 ...\n"
     ]
    },
    {
     "name": "stderr",
     "output_type": "stream",
     "text": [
      "[Parallel(n_jobs=20)]: Done 37636 out of 37636 | elapsed:  4.0min finished\n",
      "[Parallel(n_jobs=20)]: Using backend LokyBackend with 20 concurrent workers.\n",
      "[Parallel(n_jobs=20)]: Done 108 tasks      | elapsed:    2.6s\n",
      "[Parallel(n_jobs=20)]: Done 194 out of 194 | elapsed:    5.3s finished\n",
      "[Parallel(n_jobs=20)]: Using backend LokyBackend with 20 concurrent workers.\n",
      "[Parallel(n_jobs=20)]: Done  52 tasks      | elapsed:    2.2s\n",
      "[Parallel(n_jobs=20)]: Done 204 tasks      | elapsed:    3.2s\n",
      "[Parallel(n_jobs=20)]: Done 456 tasks      | elapsed:    4.7s\n",
      "[Parallel(n_jobs=20)]: Done 780 tasks      | elapsed:    6.7s\n",
      "[Parallel(n_jobs=20)]: Done 1176 tasks      | elapsed:    9.2s\n",
      "[Parallel(n_jobs=20)]: Done 1644 tasks      | elapsed:   12.2s\n",
      "[Parallel(n_jobs=20)]: Done 2184 tasks      | elapsed:   15.6s\n",
      "[Parallel(n_jobs=20)]: Done 2796 tasks      | elapsed:   19.3s\n",
      "[Parallel(n_jobs=20)]: Done 3480 tasks      | elapsed:   23.3s\n",
      "[Parallel(n_jobs=20)]: Done 4236 tasks      | elapsed:   28.2s\n",
      "[Parallel(n_jobs=20)]: Done 5064 tasks      | elapsed:   33.4s\n",
      "[Parallel(n_jobs=20)]: Done 5964 tasks      | elapsed:   39.0s\n",
      "[Parallel(n_jobs=20)]: Done 6936 tasks      | elapsed:   44.9s\n",
      "[Parallel(n_jobs=20)]: Done 7980 tasks      | elapsed:   51.6s\n",
      "[Parallel(n_jobs=20)]: Done 9096 tasks      | elapsed:   58.6s\n",
      "[Parallel(n_jobs=20)]: Done 10284 tasks      | elapsed:  1.1min\n",
      "[Parallel(n_jobs=20)]: Done 11544 tasks      | elapsed:  1.2min\n",
      "[Parallel(n_jobs=20)]: Done 12876 tasks      | elapsed:  1.4min\n",
      "[Parallel(n_jobs=20)]: Done 14280 tasks      | elapsed:  1.5min\n",
      "[Parallel(n_jobs=20)]: Done 15756 tasks      | elapsed:  1.7min\n"
     ]
    }
   ],
   "source": [
    "conn = []\n",
    "\n",
    "# indexs is a tuple of two lists, each containing the indices of the channels to be connected by index\n",
    "# compute all possible connection combinations\n",
    "N = len(raw.ch_names)\n",
    "# N = 4\n",
    "indices = np.array([(i, j) for i in range(N) for j in range(N)])\n",
    "indices = (indices[:, 0], indices[:, 1]) # make list of tuples for MNE connectivity functions \n",
    "\n",
    "\n",
    "for method in ['coh', 'plv', 'ciplv', 'pli', 'wpli']:\n",
    "    conn.append(\n",
    "        spectral_connectivity_time(\n",
    "            epochs.get_data()[:5, :, :],\n",
    "            freqs=np.arange(14,300),\n",
    "            method=method,\n",
    "            sfreq=raw.info[\"sfreq\"],\n",
    "            faverage=True,\n",
    "            verbose=True,\n",
    "            n_jobs=20,\n",
    "            indices=indices,\n",
    "            mode=\"multitaper\",\n",
    "        )\n",
    "    )\n",
    "\n",
    "conn = np.array(conn)"
   ]
  },
  {
   "cell_type": "code",
   "execution_count": 84,
   "metadata": {},
   "outputs": [
    {
     "name": "stdout",
     "output_type": "stream",
     "text": [
      "Method: coh\n",
      "(5, 194, 194, 1)\n",
      "Method: plv\n",
      "(5, 194, 194, 1)\n",
      "Method: ciplv\n",
      "(5, 194, 194, 1)\n",
      "Method: pli\n",
      "(5, 194, 194, 1)\n",
      "Method: wpli\n",
      "(5, 194, 194, 1)\n"
     ]
    }
   ],
   "source": [
    "for i, method in enumerate(['coh', 'plv', 'ciplv', 'pli', 'wpli']):\n",
    "    print(f\"Method: {method}\")\n",
    "    print(conn[i].get_data(output='dense').shape)"
   ]
  },
  {
   "cell_type": "code",
   "execution_count": null,
   "metadata": {},
   "outputs": [],
   "source": []
  },
  {
   "cell_type": "code",
   "execution_count": null,
   "metadata": {},
   "outputs": [],
   "source": [
    "'cacoh', 'mic', 'mim', 'gc', 'gc_tr'"
   ]
  },
  {
   "cell_type": "code",
   "execution_count": null,
   "metadata": {},
   "outputs": [],
   "source": []
  }
 ],
 "metadata": {
  "kernelspec": {
   "display_name": "sourcesink",
   "language": "python",
   "name": "python3"
  },
  "language_info": {
   "codemirror_mode": {
    "name": "ipython",
    "version": 3
   },
   "file_extension": ".py",
   "mimetype": "text/x-python",
   "name": "python",
   "nbconvert_exporter": "python",
   "pygments_lexer": "ipython3",
   "version": "3.12.4"
  }
 },
 "nbformat": 4,
 "nbformat_minor": 2
}
