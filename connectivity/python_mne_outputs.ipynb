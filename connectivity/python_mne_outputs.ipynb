{
 "cells": [
  {
   "cell_type": "code",
   "execution_count": null,
   "metadata": {},
   "outputs": [],
   "source": [
    "import mne_connectivity\n",
    "import mne\n",
    "import h5py\n",
    "import numpy as np\n",
    "import os\n",
    "import pandas as pd\n",
    "from connection_complexity.data.raw_data.EDF.edf_helpers import read_edf\n",
    "\n",
    "from eeg_prep.preprocess.ieeg import preprocess_ieeg\n",
    "from mne_connectivity import spectral_connectivity_time\n",
    "\n",
    "from mne import make_fixed_length_epochs"
   ]
  },
  {
   "cell_type": "code",
   "execution_count": null,
   "metadata": {},
   "outputs": [
    {
     "name": "stdout",
     "output_type": "stream",
     "text": [
      "14.0\n"
     ]
    }
   ],
   "source": [
    "# calculate minimum frequency possible\n",
    "sfreq = 2048\n",
    "n_times = 2048//2 \n",
    "n_cycles = 7\n",
    "dur = float(n_times) / sfreq\n",
    "cycle_freq = n_cycles / dur\n",
    "print(cycle_freq)"
   ]
  },
  {
   "cell_type": "code",
   "execution_count": 32,
   "metadata": {},
   "outputs": [],
   "source": [
    "mapping_path = \"/media/dan/Data/manuscripts/manuiscript_0001_hfo_rates/data/FULL_composite_patient_info.csv\"  \n",
    "ilae_path = \"/media/dan/Data/manuscripts/manuiscript_0001_hfo_rates/ravi_hfo_numbers~N59+v03.csv\"\n",
    "bad_channels_path = \"/media/dan/Data/manuscripts/manuiscript_0001_hfo_rates/data/bad_ch_review.xlsx\"\n",
    "edf_path = \"/media/dan/Data/data/iEEG/raw_ieeg/baseline_patients/baseline_edfs\"\n",
    "output_path = \"/media/dan/Data/git/network_miner/connectivity/output\"\n",
    "\n",
    "pid_source_path = \"/media/dan/Data/manuscripts/manuiscript_0001_hfo_rates/ravi_hfo_numbers~N59+v03.csv\""
   ]
  },
  {
   "cell_type": "code",
   "execution_count": 33,
   "metadata": {},
   "outputs": [],
   "source": [
    "# get metadata\n",
    "mappings = pd.read_csv(mapping_path)\n",
    "ilae = pd.read_csv(ilae_path)\n",
    "bad_channels = pd.read_excel(bad_channels_path)\n",
    "bad_channels[\"use\"] = bad_channels[\"use\"].fillna(1)\n",
    "bad_channels[\"use2\"] = bad_channels[\"use2\"].fillna(1)\n",
    "bad_channels[\"use\"] = bad_channels[\"use\"].astype(bool)\n",
    "bad_channels[\"use2\"] = bad_channels[\"use2\"].astype(bool)\n",
    "\n",
    "# OR bad_channel columns\n",
    "bad_channels[\"bad_channel\"] = ~(bad_channels[\"use\"] & bad_channels[\"use2\"])\n",
    "\n",
    "# for each patient in mappings, find the corresponding ilae number. The patient may not be in the ilae dataset but has a designation of seizureFree or not.\n",
    "# if the patient is not in the ilae dataset, then use the seizureFree column to determine the ilae number where -1 is seizureFree and 100 is not seizureFree\n",
    "ilae_numbers = {}\n",
    "for pid in mappings[\"pid\"].unique():\n",
    "    if pid in ilae[\"patient\"].values:\n",
    "        ilae_numbers[pid] = ilae[ilae[\"patient\"] == pid][\"ilae\"].values[0]\n",
    "    else:\n",
    "        if mappings[mappings[\"pid\"] == pid][\"seizureFree\"].values[0] == True:\n",
    "            ilae_numbers[pid] = -1\n",
    "        else:\n",
    "            ilae_numbers[pid] = 100\n",
    "\n",
    "# now we have a dictionary of ilae numbers for each patient. Fill in the mappings dataframe with these numbers which has multiple rows for each patient\n",
    "ilae_list = []\n",
    "for pid in mappings[\"pid\"]:\n",
    "    ilae_list.append(ilae_numbers[pid])\n",
    "mappings[\"ilae\"] = ilae_list\n",
    "\n",
    "\n",
    "# Perform the merge as before\n",
    "mappings = mappings.merge(\n",
    "    bad_channels[['pid', 'ch', 'bad_channel']],\n",
    "    left_on=['pid', 'electrode'],\n",
    "    right_on=['pid', 'ch'],\n",
    "    how='left'\n",
    ")\n",
    "\n",
    "# Drop the 'ch' column if needed\n",
    "mappings = mappings.drop(columns=['ch'])\n",
    "\n",
    "# Fill NaN values in 'bad_channel' with 0\n",
    "mappings['bad_channel'] = mappings['bad_channel'].fillna(0)"
   ]
  },
  {
   "cell_type": "code",
   "execution_count": 34,
   "metadata": {},
   "outputs": [
    {
     "data": {
      "text/plain": [
       "array([34, 91, 47])"
      ]
     },
     "execution_count": 34,
     "metadata": {},
     "output_type": "execute_result"
    }
   ],
   "source": [
    "# get 3 random pids with ilae 1-2 \n",
    "df = pd.read_csv(pid_source_path)\n",
    "df = df[df[\"ilae\"] < 3]\n",
    "df = df.sample(3, random_state=14)\n",
    "pidsToUse = df['patient'].unique()\n",
    "pidsToUse"
   ]
  },
  {
   "cell_type": "code",
   "execution_count": null,
   "metadata": {},
   "outputs": [
    {
     "name": "stdout",
     "output_type": "stream",
     "text": [
      "Processing /media/dan/Data/data/iEEG/raw_ieeg/baseline_patients/baseline_edfs/034_Baseline.EDF\n",
      "Not setting metadata\n",
      "606 matching events found\n",
      "No baseline correction applied\n",
      "0 projection items activated\n",
      "Using data from preloaded Raw for 606 events and 1024 original time points ...\n",
      "0 bad epochs dropped\n",
      "Fmin was not specified. Using fmin=min(freqs)\n",
      "Fmax was not specified. Using fmax=max(freqs).\n",
      "only using indices for lower-triangular matrix\n",
      "Connectivity computation...\n",
      "   Processing epoch 1 / 5 ...\n"
     ]
    },
    {
     "name": "stderr",
     "output_type": "stream",
     "text": [
      "[Parallel(n_jobs=27)]: Using backend LokyBackend with 27 concurrent workers.\n",
      "[Parallel(n_jobs=27)]: Done  45 tasks      | elapsed:    8.6s\n",
      "[Parallel(n_jobs=27)]: Done  91 out of  97 | elapsed:   14.7s remaining:    1.0s\n",
      "[Parallel(n_jobs=27)]: Done  97 out of  97 | elapsed:   15.3s finished\n",
      "[Parallel(n_jobs=27)]: Using backend LokyBackend with 27 concurrent workers.\n",
      "[Parallel(n_jobs=27)]: Done  45 tasks      | elapsed:    5.5s\n",
      "[Parallel(n_jobs=27)]: Done 135 tasks      | elapsed:    9.2s\n",
      "[Parallel(n_jobs=27)]: Done 261 tasks      | elapsed:   14.4s\n",
      "[Parallel(n_jobs=27)]: Done 423 tasks      | elapsed:   21.2s\n",
      "[Parallel(n_jobs=27)]: Done 621 tasks      | elapsed:   29.4s\n",
      "[Parallel(n_jobs=27)]: Done 855 tasks      | elapsed:   39.1s\n",
      "[Parallel(n_jobs=27)]: Done 1125 tasks      | elapsed:   50.4s\n",
      "[Parallel(n_jobs=27)]: Done 1431 tasks      | elapsed:  1.1min\n",
      "[Parallel(n_jobs=27)]: Done 1773 tasks      | elapsed:  1.3min\n",
      "[Parallel(n_jobs=27)]: Done 2151 tasks      | elapsed:  1.6min\n",
      "[Parallel(n_jobs=27)]: Done 2565 tasks      | elapsed:  1.8min\n",
      "[Parallel(n_jobs=27)]: Done 3015 tasks      | elapsed:  2.2min\n",
      "[Parallel(n_jobs=27)]: Done 3501 tasks      | elapsed:  2.5min\n",
      "[Parallel(n_jobs=27)]: Done 4023 tasks      | elapsed:  2.9min\n",
      "[Parallel(n_jobs=27)]: Done 4581 tasks      | elapsed:  3.2min\n",
      "[Parallel(n_jobs=27)]: Done 4656 out of 4656 | elapsed:  3.3min finished\n"
     ]
    },
    {
     "name": "stdout",
     "output_type": "stream",
     "text": [
      "   Processing epoch 2 / 5 ...\n"
     ]
    },
    {
     "name": "stderr",
     "output_type": "stream",
     "text": [
      "[Parallel(n_jobs=27)]: Using backend LokyBackend with 27 concurrent workers.\n",
      "[Parallel(n_jobs=27)]: Done  45 tasks      | elapsed:    7.9s\n",
      "[Parallel(n_jobs=27)]: Done  91 out of  97 | elapsed:   13.9s remaining:    0.9s\n",
      "[Parallel(n_jobs=27)]: Done  97 out of  97 | elapsed:   14.5s finished\n",
      "[Parallel(n_jobs=27)]: Using backend LokyBackend with 27 concurrent workers.\n",
      "[Parallel(n_jobs=27)]: Done  45 tasks      | elapsed:    5.3s\n",
      "[Parallel(n_jobs=27)]: Done 135 tasks      | elapsed:    8.9s\n",
      "[Parallel(n_jobs=27)]: Done 261 tasks      | elapsed:   13.8s\n",
      "[Parallel(n_jobs=27)]: Done 423 tasks      | elapsed:   20.2s\n",
      "[Parallel(n_jobs=27)]: Done 621 tasks      | elapsed:   28.0s\n",
      "[Parallel(n_jobs=27)]: Done 855 tasks      | elapsed:   37.2s\n",
      "[Parallel(n_jobs=27)]: Done 1125 tasks      | elapsed:   47.9s\n",
      "[Parallel(n_jobs=27)]: Done 1431 tasks      | elapsed:   59.9s\n",
      "[Parallel(n_jobs=27)]: Done 1773 tasks      | elapsed:  1.2min\n",
      "[Parallel(n_jobs=27)]: Done 2151 tasks      | elapsed:  1.5min\n",
      "[Parallel(n_jobs=27)]: Done 2565 tasks      | elapsed:  1.7min\n",
      "[Parallel(n_jobs=27)]: Done 3015 tasks      | elapsed:  2.0min\n",
      "[Parallel(n_jobs=27)]: Done 3501 tasks      | elapsed:  2.4min\n",
      "[Parallel(n_jobs=27)]: Done 4023 tasks      | elapsed:  2.7min\n",
      "[Parallel(n_jobs=27)]: Done 4581 tasks      | elapsed:  3.1min\n",
      "[Parallel(n_jobs=27)]: Done 4656 out of 4656 | elapsed:  3.1min finished\n"
     ]
    },
    {
     "name": "stdout",
     "output_type": "stream",
     "text": [
      "   Processing epoch 3 / 5 ...\n"
     ]
    },
    {
     "name": "stderr",
     "output_type": "stream",
     "text": [
      "[Parallel(n_jobs=27)]: Using backend LokyBackend with 27 concurrent workers.\n",
      "[Parallel(n_jobs=27)]: Done  45 tasks      | elapsed:    9.0s\n",
      "[Parallel(n_jobs=27)]: Done  91 out of  97 | elapsed:   16.3s remaining:    1.1s\n",
      "[Parallel(n_jobs=27)]: Done  97 out of  97 | elapsed:   17.1s finished\n",
      "[Parallel(n_jobs=27)]: Using backend LokyBackend with 27 concurrent workers.\n",
      "[Parallel(n_jobs=27)]: Done  45 tasks      | elapsed:    5.4s\n",
      "[Parallel(n_jobs=27)]: Done 135 tasks      | elapsed:    9.1s\n",
      "[Parallel(n_jobs=27)]: Done 261 tasks      | elapsed:   14.2s\n",
      "[Parallel(n_jobs=27)]: Done 423 tasks      | elapsed:   20.7s\n",
      "[Parallel(n_jobs=27)]: Done 621 tasks      | elapsed:   28.6s\n",
      "[Parallel(n_jobs=27)]: Done 855 tasks      | elapsed:   38.1s\n",
      "[Parallel(n_jobs=27)]: Done 1125 tasks      | elapsed:   49.2s\n",
      "[Parallel(n_jobs=27)]: Done 1431 tasks      | elapsed:  1.0min\n",
      "[Parallel(n_jobs=27)]: Done 1773 tasks      | elapsed:  1.3min\n",
      "[Parallel(n_jobs=27)]: Done 2151 tasks      | elapsed:  1.5min\n",
      "[Parallel(n_jobs=27)]: Done 2565 tasks      | elapsed:  1.8min\n",
      "[Parallel(n_jobs=27)]: Done 3015 tasks      | elapsed:  2.1min\n",
      "[Parallel(n_jobs=27)]: Done 3501 tasks      | elapsed:  2.4min\n",
      "[Parallel(n_jobs=27)]: Done 4023 tasks      | elapsed:  2.8min\n",
      "[Parallel(n_jobs=27)]: Done 4581 tasks      | elapsed:  3.1min\n",
      "[Parallel(n_jobs=27)]: Done 4656 out of 4656 | elapsed:  3.2min finished\n"
     ]
    },
    {
     "name": "stdout",
     "output_type": "stream",
     "text": [
      "   Processing epoch 4 / 5 ...\n"
     ]
    },
    {
     "name": "stderr",
     "output_type": "stream",
     "text": [
      "[Parallel(n_jobs=27)]: Using backend LokyBackend with 27 concurrent workers.\n",
      "[Parallel(n_jobs=27)]: Done  45 tasks      | elapsed:    9.3s\n",
      "[Parallel(n_jobs=27)]: Done  91 out of  97 | elapsed:   16.4s remaining:    1.1s\n",
      "[Parallel(n_jobs=27)]: Done  97 out of  97 | elapsed:   17.2s finished\n",
      "[Parallel(n_jobs=27)]: Using backend LokyBackend with 27 concurrent workers.\n",
      "[Parallel(n_jobs=27)]: Done  45 tasks      | elapsed:    5.4s\n",
      "[Parallel(n_jobs=27)]: Done 135 tasks      | elapsed:    9.1s\n",
      "[Parallel(n_jobs=27)]: Done 261 tasks      | elapsed:   14.1s\n",
      "[Parallel(n_jobs=27)]: Done 423 tasks      | elapsed:   20.6s\n",
      "[Parallel(n_jobs=27)]: Done 621 tasks      | elapsed:   28.5s\n",
      "[Parallel(n_jobs=27)]: Done 855 tasks      | elapsed:   37.9s\n",
      "[Parallel(n_jobs=27)]: Done 1125 tasks      | elapsed:   48.8s\n",
      "[Parallel(n_jobs=27)]: Done 1431 tasks      | elapsed:  1.0min\n",
      "[Parallel(n_jobs=27)]: Done 1773 tasks      | elapsed:  1.2min\n",
      "[Parallel(n_jobs=27)]: Done 2151 tasks      | elapsed:  1.5min\n",
      "[Parallel(n_jobs=27)]: Done 2565 tasks      | elapsed:  1.8min\n",
      "[Parallel(n_jobs=27)]: Done 3015 tasks      | elapsed:  2.1min\n",
      "[Parallel(n_jobs=27)]: Done 3501 tasks      | elapsed:  2.4min\n",
      "[Parallel(n_jobs=27)]: Done 4023 tasks      | elapsed:  2.8min\n",
      "[Parallel(n_jobs=27)]: Done 4581 tasks      | elapsed:  3.1min\n",
      "[Parallel(n_jobs=27)]: Done 4656 out of 4656 | elapsed:  3.2min finished\n"
     ]
    },
    {
     "name": "stdout",
     "output_type": "stream",
     "text": [
      "   Processing epoch 5 / 5 ...\n"
     ]
    },
    {
     "name": "stderr",
     "output_type": "stream",
     "text": [
      "[Parallel(n_jobs=27)]: Using backend LokyBackend with 27 concurrent workers.\n",
      "[Parallel(n_jobs=27)]: Done  45 tasks      | elapsed:    9.4s\n",
      "[Parallel(n_jobs=27)]: Done  91 out of  97 | elapsed:   16.6s remaining:    1.1s\n",
      "[Parallel(n_jobs=27)]: Done  97 out of  97 | elapsed:   17.4s finished\n",
      "[Parallel(n_jobs=27)]: Using backend LokyBackend with 27 concurrent workers.\n",
      "[Parallel(n_jobs=27)]: Done  45 tasks      | elapsed:    5.4s\n",
      "[Parallel(n_jobs=27)]: Done 135 tasks      | elapsed:    9.0s\n",
      "[Parallel(n_jobs=27)]: Done 261 tasks      | elapsed:   14.0s\n",
      "[Parallel(n_jobs=27)]: Done 423 tasks      | elapsed:   20.5s\n",
      "[Parallel(n_jobs=27)]: Done 621 tasks      | elapsed:   28.5s\n",
      "[Parallel(n_jobs=27)]: Done 855 tasks      | elapsed:   37.8s\n",
      "[Parallel(n_jobs=27)]: Done 1125 tasks      | elapsed:   48.7s\n",
      "[Parallel(n_jobs=27)]: Done 1431 tasks      | elapsed:  1.0min\n",
      "[Parallel(n_jobs=27)]: Done 1773 tasks      | elapsed:  1.2min\n",
      "[Parallel(n_jobs=27)]: Done 2151 tasks      | elapsed:  1.5min\n",
      "[Parallel(n_jobs=27)]: Done 2565 tasks      | elapsed:  1.8min\n",
      "[Parallel(n_jobs=27)]: Done 3015 tasks      | elapsed:  2.1min\n",
      "[Parallel(n_jobs=27)]: Done 3501 tasks      | elapsed:  2.4min\n",
      "[Parallel(n_jobs=27)]: Done 4023 tasks      | elapsed:  2.7min\n",
      "[Parallel(n_jobs=27)]: Done 4581 tasks      | elapsed:  3.1min\n",
      "[Parallel(n_jobs=27)]: Done 4656 out of 4656 | elapsed:  3.2min finished\n"
     ]
    },
    {
     "name": "stdout",
     "output_type": "stream",
     "text": [
      "[Connectivity computation done]\n"
     ]
    }
   ],
   "source": [
    "\n",
    "files = os.listdir(edf_path)\n",
    "for edf_file in files:\n",
    "    f = os.path.join(edf_path, edf_file)\n",
    "    pid = int(edf_file.split(\"_\")[0])\n",
    "    if pid not in pidsToUse:\n",
    "        continue\n",
    "    print(f\"Processing {f}\")\n",
    "    patient_info = mappings[mappings[\"pid\"] == pid]\n",
    "    raw = read_edf(f, preload=True)\n",
    "    sfreq = raw.info[\"sfreq\"]\n",
    "\n",
    "    raw.info[\"line_freq\"] = 60\n",
    "\n",
    "    raw = preprocess_ieeg(raw) \n",
    "\n",
    "    # remove bad channels\n",
    "    raw = raw.drop_channels(patient_info[patient_info[\"bad_channel\"] == 1][\"electrode\"].values)\n",
    "\n",
    "    # average reference\n",
    "    raw = raw.set_eeg_reference(ref_channels=\"average\", projection=False, verbose=False)\n",
    "\n",
    "    # make epochs\n",
    "    dur_msec = 500\n",
    "    dur_sec = dur_msec / 1000\n",
    "    overlap_msec = 0\n",
    "    overlap_sec = overlap_msec / 100\n",
    "    epochs = make_fixed_length_epochs(raw, duration=dur_sec,overlap=0, preload=True)\n",
    "    methods = ['coh',\"pli\",\"wpli\",\"plv\"]\n",
    "    freqs = np.arange(14,sfreq//2)\n",
    "    conn = spectral_connectivity_time(\n",
    "        epochs.get_data(),\n",
    "        freqs=freqs,\n",
    "        method=methods,\n",
    "        sfreq=sfreq,\n",
    "        faverage=True,\n",
    "        verbose=True,\n",
    "        n_jobs=27,\n",
    "        # indices=indices,\n",
    "        mode=\"multitaper\",\n",
    "    )\n",
    "    for i,m in enumerate(methods):\n",
    "        out = conn[i].get_data(output='dense')\n",
    "        # save to file\n",
    "        np.save(os.path.join(output_path, f\"{pid:03}_{m}_winmsec-{dur_msec:06}_overlap-{overlap_msec:06}.npy\"), out)"
   ]
  }
 ],
 "metadata": {
  "kernelspec": {
   "display_name": "sourcesink",
   "language": "python",
   "name": "python3"
  },
  "language_info": {
   "codemirror_mode": {
    "name": "ipython",
    "version": 3
   },
   "file_extension": ".py",
   "mimetype": "text/x-python",
   "name": "python",
   "nbconvert_exporter": "python",
   "pygments_lexer": "ipython3",
   "version": "3.12.4"
  }
 },
 "nbformat": 4,
 "nbformat_minor": 2
}
