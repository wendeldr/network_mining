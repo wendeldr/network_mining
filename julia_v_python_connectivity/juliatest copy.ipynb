{
 "cells": [
  {
   "cell_type": "code",
   "execution_count": 49,
   "metadata": {},
   "outputs": [],
   "source": [
    "using DSP\n",
    "using FFTW\n",
    "using Statistics\n",
    "using LinearAlgebra\n",
    "using Plots\n",
    "using Printf\n",
    "# using FilePathsBase\n"
   ]
  },
  {
   "cell_type": "code",
   "execution_count": 50,
   "metadata": {},
   "outputs": [
    {
     "data": {
      "text/plain": [
       "sinusoidal (generic function with 3 methods)"
      ]
     },
     "metadata": {},
     "output_type": "display_data"
    }
   ],
   "source": [
    "function sinusoidal(a, f, sr, t, theta=0, DC=0)\n",
    "    delta_i = 1 / sr\n",
    "    f2pi = f * 2 * π\n",
    "    nu = [DC + (a * sin(f2pi * i * delta_i + theta)) for i in 0:(t - 1)]\n",
    "    return nu\n",
    "end\n",
    "\n"
   ]
  },
  {
   "cell_type": "code",
   "execution_count": 51,
   "metadata": {},
   "outputs": [
    {
     "data": {
      "text/plain": [
       "_get_nfft (generic function with 1 method)"
      ]
     },
     "metadata": {},
     "output_type": "display_data"
    }
   ],
   "source": [
    "# zero pad waveform function\n",
    "function zero_pad(data, pad)\n",
    "    diff = pad - size(data)[1]\n",
    "    data_padded = [data; zeros(diff)]\n",
    "    return data_padded\n",
    "end\n",
    "\n",
    "function coh(s_xx, s_yy, s_xy)\n",
    "    # Compute the numerator: absolute value of the mean of s_xy along the last dimension\n",
    "    con_num = abs.(mean(s_xy, dims=ndims(s_xy)))\n",
    "\n",
    "    # Compute the denominator: square root of the product of means of s_xx and s_yy along the last dimension\n",
    "    con_den = sqrt.(mean(s_xx, dims=ndims(s_xx)) .* mean(s_yy, dims=ndims(s_yy)))\n",
    "\n",
    "    # Calculate coherence as the element-wise division of numerator by denominator\n",
    "    coh = con_num ./ con_den\n",
    "    return coh\n",
    "end\n",
    "\n",
    "function get_dpss_and_ratios(n, nw, ntapers; zerophase=false)\n",
    "    # Compute DPSS windows\n",
    "    windows = dpss(n, nw, ntapers; zerophase=zerophase)\n",
    "\n",
    "    # Compute eigenvalues (concentration ratios)\n",
    "    eigenvalues = dpsseig(windows, nw)\n",
    "\n",
    "    return windows, eigenvalues\n",
    "end\n",
    "\n",
    "function next_fast_len(target::Int)::Int\n",
    "    \"\"\"\n",
    "    Find the next fast size of input data to `fft`, for zero-padding, etc.\n",
    "\n",
    "    Returns the next composite of the prime factors 2, 3, and 5 which is\n",
    "    greater than or equal to `target`. (These are also known as 5-smooth\n",
    "    numbers, regular numbers, or Hamming numbers.)\n",
    "\n",
    "    Parameters\n",
    "    ----------\n",
    "    target : Int\n",
    "        Length to start searching from. Must be a positive integer.\n",
    "\n",
    "    Returns\n",
    "    -------\n",
    "    out : Int\n",
    "        The first 5-smooth number greater than or equal to `target`.\n",
    "    \"\"\"\n",
    "    # Precomputed Hamming numbers (5-smooth numbers) for quick lookup\n",
    "    hams = [\n",
    "        8, 9, 10, 12, 15, 16, 18, 20, 24, 25, 27, 30, 32, 36, 40, 45, 48, 50,\n",
    "        54, 60, 64, 72, 75, 80, 81, 90, 96, 100, 108, 120, 125, 128, 135, 144,\n",
    "        150, 160, 162, 180, 192, 200, 216, 225, 240, 243, 250, 256, 270, 288,\n",
    "        300, 320, 324, 360, 375, 384, 400, 405, 432, 450, 480, 486, 500, 512,\n",
    "        540, 576, 600, 625, 640, 648, 675, 720, 729, 750, 768, 800, 810, 864,\n",
    "        900, 960, 972, 1000, 1024, 1080, 1125, 1152, 1200, 1215, 1250, 1280,\n",
    "        1296, 1350, 1440, 1458, 1500, 1536, 1600, 1620, 1728, 1800, 1875, 1920,\n",
    "        1944, 2000, 2025, 2048, 2160, 2187, 2250, 2304, 2400, 2430, 2500, 2560,\n",
    "        2592, 2700, 2880, 2916, 3000, 3072, 3125, 3200, 3240, 3375, 3456, 3600,\n",
    "        3645, 3750, 3840, 3888, 4000, 4050, 4096, 4320, 4374, 4500, 4608, 4800,\n",
    "        4860, 5000, 5120, 5184, 5400, 5625, 5760, 5832, 6000, 6075, 6144, 6250,\n",
    "        6400, 6480, 6561, 6750, 6912, 7200, 7290, 7500, 7680, 7776, 8000, 8100,\n",
    "        8192, 8640, 8748, 9000, 9216, 9375, 9600, 9720, 10000\n",
    "    ]\n",
    "\n",
    "    if target <= 6\n",
    "        return target\n",
    "    end\n",
    "\n",
    "    # Check if target is already a power of 2\n",
    "    if (target & (target - 1)) == 0\n",
    "        return target\n",
    "    end\n",
    "\n",
    "    # Quick lookup for small sizes\n",
    "    if target <= hams[end]\n",
    "        idx = searchsortedfirst(hams, target)\n",
    "        return hams[idx]\n",
    "    end\n",
    "\n",
    "    # Function to compute the bit length of an integer\n",
    "    bit_length(x::Int) = x <= 0 ? 0 : floor(Int, log2(x)) + 1\n",
    "\n",
    "    match = typemax(Int)  # Initialize with maximum possible integer\n",
    "    p5 = 1\n",
    "    while p5 < target\n",
    "        p35 = p5\n",
    "        while p35 < target\n",
    "            # Ceiling integer division\n",
    "            quotient = cld(target, p35)\n",
    "            p2 = 2^bit_length(quotient - 1)\n",
    "            N = p2 * p35\n",
    "            if N == target\n",
    "                return N\n",
    "            elseif N < match\n",
    "                match = N\n",
    "            end\n",
    "            p35 *= 3\n",
    "            if p35 == target\n",
    "                return p35\n",
    "            end\n",
    "        end\n",
    "        if p35 < match\n",
    "            match = p35\n",
    "        end\n",
    "        p5 *= 5\n",
    "        if p5 == target\n",
    "            return p5\n",
    "        end\n",
    "    end\n",
    "    if p5 < match\n",
    "        match = p5\n",
    "    end\n",
    "    return match\n",
    "end\n",
    "\n",
    "function _get_nfft(flat_Ws, X)::Int\n",
    "    max_len = maximum([length(Wk) for Wk in flat_Ws])\n",
    "    n = last(size(X))\n",
    "    nfft = n + max_len - 1\n",
    "    # @show nfft\n",
    "    nfft = next_fast_len(nfft)\n",
    "    return nfft\n",
    "end\n"
   ]
  },
  {
   "cell_type": "code",
   "execution_count": 52,
   "metadata": {},
   "outputs": [
    {
     "data": {
      "text/plain": [
       "(128,)"
      ]
     },
     "metadata": {},
     "output_type": "display_data"
    }
   ],
   "source": [
    "size(v)"
   ]
  },
  {
   "cell_type": "code",
   "execution_count": 53,
   "metadata": {},
   "outputs": [],
   "source": [
    "t = 32\n",
    "sr = 32\n",
    "f = 2\n",
    "noise = 1000\n",
    "\n",
    "v = sinusoidal(10, f, sr, t * 4, 0)\n",
    "w = sinusoidal(10, f, sr, t * 4, π / 4)\n",
    "y = sinusoidal(10, f, sr, t * 4, π / 2)\n",
    "z = sinusoidal(10, f, sr, t * 4, π)\n",
    "\n",
    "data = Array{Float64}(undef, 2, 4, 128)\n",
    "\n",
    "data[1, :, :] = hcat(v, w, y, z)'\n",
    "data[2, :, :] = hcat(-v, -w, -y, -z)';\n"
   ]
  },
  {
   "cell_type": "code",
   "execution_count": 54,
   "metadata": {},
   "outputs": [],
   "source": [
    "freqs = collect(2:15)  # inclusive of end\n",
    "n_freqs = length(freqs)\n",
    "mt_bandwidth = 4\n",
    "n_taps = floor(Int, mt_bandwidth - 1)\n",
    "n_cycles = 7\n",
    "sfreq = 32\n",
    "zero_mean = true\n",
    "X = data;"
   ]
  },
  {
   "cell_type": "code",
   "execution_count": 55,
   "metadata": {},
   "outputs": [],
   "source": [
    "out_path = \"/media/dan/Data/git/network_miner/mining/images/oscillations_and_tapers/julia\"\n",
    "\n",
    "# Preallocate Ws as a matrix\n",
    "Ws = Matrix{Vector{ComplexF64}}(undef, n_taps, n_freqs)\n",
    "sp5 = sqrt(0.5)\n",
    "# Loop over frequencies first\n",
    "for k = 1:n_freqs\n",
    "    f = freqs[k]\n",
    "    t_win = n_cycles / f\n",
    "    len_t = Int(ceil(t_win * sfreq))\n",
    "\n",
    "    # Centered time vector without allocating t and t_centered separately\n",
    "    t_centered = range(-t_win / 2.0, t_win / 2.0, length=len_t)\n",
    "    # Precompute oscillation and taper\n",
    "    oscillation = exp.(2.0 * im * pi * f .* t_centered)\n",
    "    taper = dpss(len_t, mt_bandwidth / 2, n_taps)\n",
    "    taper_plots = []\n",
    "    for m = 1:n_taps\n",
    "        # p1 = plot(real(oscillation), title=\"Real\", grid=true)\n",
    "        # p2 = plot(imag(oscillation), title=\"Imaginary\", grid=true)\n",
    "        # fig = plot(p1, p2, layout=(1, 2))\n",
    "        # file_name = @sprintf(\"tap%03d_freq%03d_oscillation_jl.png\", m, k)\n",
    "        # savefig(fig, joinpath(out_path, file_name))\n",
    "\n",
    "        # p1 = plot(taper[:, m], title=\"Taper $m\", grid=true)\n",
    "        # taper_plots = [taper_plots; p1]\n",
    "        # Use @view to avoid copying taper column\n",
    "        Wk = oscillation .* @view taper[:, m]\n",
    "        if zero_mean  # To make it zero mean\n",
    "            real_offset = mean(Wk)\n",
    "            Wk .-= real_offset\n",
    "        end\n",
    "        # Normalize Wk\n",
    "        Wk /= sp5 * norm(Wk)\n",
    "\n",
    "        # p1 = plot(real(Wk), title=\"Real\", grid=true)\n",
    "        # p2 = plot(imag(Wk), title=\"Imaginary\", grid=true)\n",
    "        # fig = plot(p1, p2, layout=(1, 2))\n",
    "        # file_name = @sprintf(\"tap%03d_freq%03d_wk_jl.png\", m, k)\n",
    "        # savefig(fig, joinpath(out_path, file_name))\n",
    "\n",
    "        # Store Wk in preallocated Ws\n",
    "        Ws[m, k] = Wk\n",
    "    end\n",
    "\n",
    "    # Plot tapers dumb to match python\n",
    "    # fig = plot(taper_plots..., layout=(1, n_taps))\n",
    "    # file_name = @sprintf(\"freq%03d_tapers_jl.png\", k)\n",
    "    # savefig(fig, joinpath(out_path, file_name))\n",
    "\n",
    "end"
   ]
  },
  {
   "cell_type": "code",
   "execution_count": 56,
   "metadata": {},
   "outputs": [
    {
     "data": {
      "text/plain": [
       "compute_tfr (generic function with 1 method)"
      ]
     },
     "metadata": {},
     "output_type": "display_data"
    }
   ],
   "source": [
    "# Optimized zero pad function\n",
    "function zero_pad!(data_padded, data)\n",
    "    data_padded[1:length(data)] .= data\n",
    "    data_padded[length(data)+1:end] .= 0\n",
    "end\n",
    "\n",
    "# Precompute FFTs of Ws\n",
    "function precompute_fft_Ws(Ws, nfft)\n",
    "    n_taps, n_freqs = size(Ws)\n",
    "    fft_Ws = Array{ComplexF64, 3}(undef, n_taps, n_freqs, nfft)\n",
    "    for taper_idx = 1:n_taps\n",
    "        for freq_idx = 1:n_freqs\n",
    "            W = Ws[taper_idx, freq_idx]\n",
    "            padded_W = zeros(ComplexF64, nfft)\n",
    "            zero_pad!(padded_W, W)\n",
    "            fft_Ws[taper_idx, freq_idx, :] = fft(padded_W)\n",
    "        end\n",
    "    end\n",
    "    return fft_Ws\n",
    "end\n",
    "\n",
    "# Precompute FFTs of X\n",
    "function precompute_fft_X(X, nfft)\n",
    "    n_epochs, n_channels, n_times = size(X)\n",
    "    fft_X = Array{ComplexF64, 3}(undef, n_epochs, n_channels, nfft)\n",
    "    for epoch_idx = 1:n_epochs\n",
    "        for channel_idx = 1:n_channels\n",
    "            x = X[epoch_idx, channel_idx, :]\n",
    "            padded_x = zeros(ComplexF64, nfft)\n",
    "            zero_pad!(padded_x, x)\n",
    "            fft_X[epoch_idx, channel_idx, :] = fft(padded_x)\n",
    "        end\n",
    "    end\n",
    "    return fft_X\n",
    "end\n",
    "\n",
    "\n",
    "# Main function to compute tfr\n",
    "function compute_tfr(X, Ws, nfft)\n",
    "    n_epochs, n_channels, n_times = size(X)\n",
    "    n_taps, n_freqs = size(Ws)\n",
    "    tfr = zeros(ComplexF64, n_epochs, n_channels, n_taps, n_freqs, n_times)\n",
    "    \n",
    "    # Precompute FFTs\n",
    "    fft_Ws = precompute_fft_Ws(Ws, nfft)\n",
    "    fft_X = precompute_fft_X(X, nfft)\n",
    "    \n",
    "    # Loop over tapers and frequencies\n",
    "    for taper_idx = 1:n_taps\n",
    "        for freq_idx = 1:n_freqs\n",
    "            fft_W = fft_Ws[taper_idx, freq_idx, :]\n",
    "            W_size = length(Ws[taper_idx, freq_idx])\n",
    "            total_size = n_times + W_size - 1\n",
    "            ret_size = total_size\n",
    "            # Preallocate ret array\n",
    "            ret = zeros(ComplexF64, ret_size)\n",
    "            \n",
    "            for epoch_idx = 1:n_epochs\n",
    "                for channel_idx = 1:n_channels\n",
    "                    fx = fft_X[epoch_idx, channel_idx, :]\n",
    "                    product = fx .* fft_W\n",
    "                    ret .= ifft(product)[1:ret_size]\n",
    "                    \n",
    "                    # Center the result\n",
    "                    start = Int(floor((ret_size - n_times) / 2)) + 1\n",
    "                    end_time = start + n_times - 1\n",
    "                    tfr[epoch_idx, channel_idx, taper_idx, freq_idx, :] = ret[start:end_time]\n",
    "                end\n",
    "            end\n",
    "        end\n",
    "    end\n",
    "    return tfr\n",
    "end"
   ]
  },
  {
   "cell_type": "code",
   "execution_count": 57,
   "metadata": {},
   "outputs": [
    {
     "data": {
      "text/plain": [
       "240"
      ]
     },
     "metadata": {},
     "output_type": "display_data"
    }
   ],
   "source": [
    "nfft"
   ]
  },
  {
   "cell_type": "code",
   "execution_count": 58,
   "metadata": {},
   "outputs": [],
   "source": [
    "# _cwt_gen function in python equivalent\n",
    "n_times = size(X, ndims(X))\n",
    "nfft = _get_nfft(Ws, X) # only needs to be done once i think\n",
    "\n",
    "# precompute FFTs of Ws\n",
    "tfr = zeros(Complex, size(X, 1), size(X, 2), n_taps, n_freqs, n_times)\n",
    "\n",
    "for epoch_idx = 1:size(X, 1)\n",
    "    for channel_idx = 1:size(X, 2)\n",
    "        fft_X = fft(zero_pad(X[epoch_idx, channel_idx, :], nfft))\n",
    "        for taper_idx = 1:n_taps\n",
    "            fft_Ws = [fft(zero_pad(W, nfft)) for W in Ws[taper_idx,:]] # looks the same as python\n",
    "\n",
    "            for (ii, W) in enumerate(Ws[taper_idx,:])\n",
    "                ret = ifft(fft_X .* fft_Ws[ii])[1:n_times+size(W, 1)-1] # matches python sizes\n",
    "\n",
    "                # # center\n",
    "                start = Int(floor((size(ret, 1) - n_times) / 2)) + 1\n",
    "                end_time = start + n_times - 1\n",
    "                # check that end_time is not greater than size(ret, 1)\n",
    "                if end_time > size(ret, 1)\n",
    "                    end_time = size(ret, 1)\n",
    "                end\n",
    "                tfr[epoch_idx, channel_idx, taper_idx, ii, :] = ret[start:end_time]\n",
    "            end\n",
    "        end\n",
    "    end\n",
    "end"
   ]
  },
  {
   "cell_type": "code",
   "execution_count": 59,
   "metadata": {},
   "outputs": [],
   "source": [
    "tfr2 = compute_tfr(X, Ws, nfft);"
   ]
  },
  {
   "cell_type": "code",
   "execution_count": 60,
   "metadata": {},
   "outputs": [
    {
     "data": {
      "text/plain": [
       "true"
      ]
     },
     "metadata": {},
     "output_type": "display_data"
    }
   ],
   "source": [
    "tfr == tfr2"
   ]
  },
  {
   "cell_type": "code",
   "execution_count": 61,
   "metadata": {},
   "outputs": [],
   "source": [
    "using NPZ\n",
    "\n",
    "# Load the .npy file\n",
    "python_tfr = npzread(\"/media/dan/Data/git/network_miner/tfr_python.npy\");"
   ]
  },
  {
   "cell_type": "code",
   "execution_count": 62,
   "metadata": {},
   "outputs": [
    {
     "data": {
      "text/plain": [
       "(1, 4, 3, 14, 128)"
      ]
     },
     "metadata": {},
     "output_type": "display_data"
    }
   ],
   "source": [
    "size(python_tfr)"
   ]
  },
  {
   "cell_type": "code",
   "execution_count": 63,
   "metadata": {},
   "outputs": [
    {
     "data": {
      "text/plain": [
       "(2, 4, 3, 14, 128)"
      ]
     },
     "metadata": {},
     "output_type": "display_data"
    }
   ],
   "source": [
    "size(tfr2)"
   ]
  },
  {
   "cell_type": "code",
   "execution_count": 64,
   "metadata": {},
   "outputs": [],
   "source": [
    "# using Plots\n",
    "\n",
    "# # Example dimensions of the 5D array\n",
    "# dim1, dim2, dim3, dim4 = size(python_tfr)[1:4]\n",
    "\n",
    "# # Loop through the first four dimensions\n",
    "# for i in 1:dim1\n",
    "#     for j in 1:dim2\n",
    "#         for k in 1:dim3\n",
    "#             for l in 1:dim4\n",
    "#                 # Create real part plot\n",
    "#                 p1 = plot(real(tfr2[i, j, k, l, :]), label=\"julia\", title=\"Real\")\n",
    "#                 p1 = plot!(real(python_tfr[i, j, k, l, :]), label=\"python\")\n",
    "\n",
    "#                 # Create imaginary part plot\n",
    "#                 p2 = plot(imag(tfr2[i, j, k, l, :]), label=\"julia\", title=\"Imaginary\")\n",
    "#                 p2 = plot!(imag(python_tfr[i, j, k, l, :]), label=\"python\")\n",
    "\n",
    "#                 # Combine plots\n",
    "#                 final_plot = plot(p1, p2, layout=(2, 1))\n",
    "\n",
    "#                 # Save plot with specific filename\n",
    "#                 filename = \"tfr_julia_vs_python_dim_$(i)_$(j)_$(k)_$(l).png\"\n",
    "#                 savefig(final_plot, filename)\n",
    "#             end\n",
    "#         end\n",
    "#     end\n",
    "# end\n"
   ]
  },
  {
   "cell_type": "code",
   "execution_count": 65,
   "metadata": {},
   "outputs": [],
   "source": [
    "weights = zeros(n_taps, length(freqs), size(tfr, ndims(tfr)));\n",
    "for (i, f) in enumerate(freqs)\n",
    "    # Create the window length array as in np.arange\n",
    "    window_length = length(0.0:1.0/sfreq:(n_cycles/f))\n",
    "\n",
    "    # Calculate half bandwidth and number of tapers\n",
    "    half_nbw = mt_bandwidth / 2.0\n",
    "    n_tapers = floor(Int, mt_bandwidth - 1)\n",
    "\n",
    "    # Generate DPSS windows with the given parameters\n",
    "    w, e = get_dpss_and_ratios(window_length, half_nbw, n_tapers; zerophase=false)\n",
    "\n",
    "    # Assign the square root of eigvals to the weights array\n",
    "    weights[:, i, :] .= sqrt.(e)\n",
    "end"
   ]
  },
  {
   "cell_type": "code",
   "execution_count": 66,
   "metadata": {},
   "outputs": [],
   "source": [
    "# Load the .npy file\n",
    "python_weights = npzread(\"/media/dan/Data/git/network_miner/weights.npy\");"
   ]
  },
  {
   "cell_type": "code",
   "execution_count": 67,
   "metadata": {},
   "outputs": [
    {
     "data": {
      "text/plain": [
       "(3, 14, 128)"
      ]
     },
     "metadata": {},
     "output_type": "display_data"
    }
   ],
   "source": [
    "size(weights)"
   ]
  },
  {
   "cell_type": "code",
   "execution_count": 68,
   "metadata": {},
   "outputs": [
    {
     "data": {
      "text/plain": [
       "(3, 14, 128)"
      ]
     },
     "metadata": {},
     "output_type": "display_data"
    }
   ],
   "source": [
    "size(python_weights)"
   ]
  },
  {
   "cell_type": "code",
   "execution_count": 69,
   "metadata": {},
   "outputs": [
    {
     "data": {
      "text/plain": [
       "false"
      ]
     },
     "metadata": {},
     "output_type": "display_data"
    }
   ],
   "source": [
    "python_weights == weights"
   ]
  },
  {
   "cell_type": "code",
   "execution_count": null,
   "metadata": {},
   "outputs": [
    {
     "data": {
      "text/plain": [
       "false"
      ]
     },
     "metadata": {},
     "output_type": "display_data"
    }
   ],
   "source": [
    "result = isapprox(weights, python_weights; atol=1e-13)\n"
   ]
  },
  {
   "cell_type": "code",
   "execution_count": 79,
   "metadata": {},
   "outputs": [
    {
     "data": {
      "text/plain": [
       "true"
      ]
     },
     "metadata": {},
     "output_type": "display_data"
    }
   ],
   "source": [
    "result = isapprox(weights[1, 1, :], python_weights[1, 1, :]; atol=1e-13)\n"
   ]
  },
  {
   "cell_type": "code",
   "execution_count": 78,
   "metadata": {},
   "outputs": [
    {
     "data": {
      "text/plain": [
       "false"
      ]
     },
     "metadata": {},
     "output_type": "display_data"
    }
   ],
   "source": [
    "result = isapprox(weights[2,10,:], python_weights[2,10,:]; atol=1e-13)\n"
   ]
  },
  {
   "cell_type": "code",
   "execution_count": null,
   "metadata": {},
   "outputs": [],
   "source": [
    "\n",
    "epoch_idx = 1\n",
    "expanded_weights = reshape(weights, (1, 3, 14, 128))\n",
    "\n",
    "# Perform the element-wise multiplication with broadcasting\n",
    "psd = expanded_weights .* tfr[epoch_idx, :, :, :, :]\n",
    "\n",
    "# Square magnitude (complex conjugate multiplication)\n",
    "psd = psd .* conj(psd)\n",
    "\n",
    "# Sum across the second dimension (axis=1 in Python)\n",
    "psd = sum(real(psd), dims=2)\n",
    "\n",
    "# Calculate normalization factor for `weights`, matching dimensions\n",
    "normalization = 2 ./ sum(real(expanded_weights .* conj(expanded_weights)), dims=2)\n",
    "psd = psd .* normalization\n",
    "\n",
    "psd_squeezed = dropdims(psd, dims=2)\n",
    "# size(psd_squeezed)\n",
    "\n",
    "x = 2\n",
    "y = 1\n",
    "\n",
    "w_x = tfr[epoch_idx, x, :, :, :]\n",
    "w_y = tfr[epoch_idx, y, :, :, :]\n",
    "s_xy = sum(weights .* w_x .* conj(weights .* w_y), dims=1)  # sum over tapers\n",
    "normalization = 2 ./ sum(real(weights .* conj(weights)), dims=1)\n",
    "s_xy = s_xy .* normalization\n",
    "\n",
    "s_xy_squeezed = dropdims(s_xy, dims=1)\n",
    "\n",
    "s_xx = psd_squeezed[x, :, :]\n",
    "s_yy = psd_squeezed[y, :, :];\n",
    "\n",
    "coherence = coh(s_xx, s_yy, s_xy_squeezed)"
   ]
  },
  {
   "cell_type": "code",
   "execution_count": null,
   "metadata": {},
   "outputs": [],
   "source": []
  },
  {
   "cell_type": "code",
   "execution_count": null,
   "metadata": {},
   "outputs": [],
   "source": []
  },
  {
   "cell_type": "code",
   "execution_count": 24,
   "metadata": {},
   "outputs": [
    {
     "data": {
      "text/plain": [
       "-10.258459465436705 - 28.180880077274356im"
      ]
     },
     "metadata": {},
     "output_type": "display_data"
    }
   ],
   "source": [
    "python_tfr[1,1,1,1,1]"
   ]
  },
  {
   "cell_type": "code",
   "execution_count": null,
   "metadata": {},
   "outputs": [],
   "source": [
    "Ws = []\n",
    "for m = 1:n_taps\n",
    "    Wm = Vector{Vector{ComplexF64}}()\n",
    "    for k = eachindex(freqs)\n",
    "        f = freqs[k]\n",
    "        t_win = n_cycles / f\n",
    "        t = LinRange(0, t_win, Int(ceil(t_win * sfreq))) # python uses ceil here\n",
    "    \n",
    "        # Making sure wavelets are centered before tapering\n",
    "        oscillation = exp.(2.0 * im * pi * f * (t .- t_win / 2.0))\n",
    "\n",
    "        # Tapering dpss\n",
    "        taper = dpss(length(t), time_bandwidth/2, n_taps)\n",
    "\n",
    "        # python drops low eigen value tapers. not sure how to do yet\n",
    "        #     if low_bias:\n",
    "        # idx = eigvals > 0.9\n",
    "        # if not idx.any():\n",
    "        #     warn(\"Could not properly use low_bias, keeping lowest-bias taper\")\n",
    "        #     idx = [np.argmax(eigvals)]\n",
    "        Wk = oscillation .* taper[:,m]\n",
    "        if zero_mean  # to make it zero mean\n",
    "            real_offset = mean(Wk)\n",
    "            Wk .-= real_offset\n",
    "        end\n",
    "        # check if Wk is more then one dimensional\n",
    "        if ndims(Wk) > 1\n",
    "            error(\"Wk is more than one dimensional\")\n",
    "        end\n",
    "        Wk /= sqrt(0.5) * norm(Wk) # python ravels Wk. I don't see when this is needed atm\n",
    "        push!(Wm, Wk)\n",
    "    end\n",
    "    push!(Ws, Wm)\n",
    "end\n",
    "# flat_Ws = [Wk for Wm in Ws for Wk in Wm];"
   ]
  },
  {
   "cell_type": "code",
   "execution_count": 12,
   "metadata": {},
   "outputs": [],
   "source": [
    "# Parameters\n",
    "freqs = collect(2:15)  # inclusive of end\n",
    "n_freqs = length(freqs)\n",
    "mt_bandwidth = 4\n",
    "n_taps = floor(Int, mt_bandwidth - 1)\n",
    "n_cycles = 7\n",
    "sfreq = 32\n",
    "zero_mean = true\n",
    "# Assume X is predefined data\n",
    "\n",
    "# Preallocate Ws as a matrix\n",
    "Ws2 = Matrix{Vector{ComplexF64}}(undef, n_taps, n_freqs)\n",
    "sp5 = sqrt(0.5)\n",
    "# Loop over frequencies first\n",
    "for k = 1:n_freqs\n",
    "    f = freqs[k]\n",
    "    t_win = n_cycles / f\n",
    "    len_t = Int(ceil(t_win * sfreq))\n",
    "    \n",
    "    # Centered time vector without allocating t and t_centered separately\n",
    "    t_centered = range(-t_win / 2.0, t_win / 2.0, length=len_t)\n",
    "    # Precompute oscillation and taper\n",
    "    oscillation = exp.(2.0 * im * pi * f .* t_centered)\n",
    "    taper = dpss(len_t, mt_bandwidth / 2, n_taps)\n",
    "    for m = 1:n_taps\n",
    "\n",
    "        # Use @view to avoid copying taper column\n",
    "        Wk = oscillation .* @view taper[:, m]\n",
    "        if zero_mean  # To make it zero mean\n",
    "            real_offset = mean(Wk)\n",
    "            Wk .-= real_offset\n",
    "        end\n",
    "        # Normalize Wk\n",
    "        Wk /= sp5 * norm(Wk)\n",
    "        # Store Wk in preallocated Ws\n",
    "        Ws2[m, k] = Wk\n",
    "    end\n",
    "end\n",
    "# flat_Ws2 = [Wk for Wm in Ws for Wk in Wm];"
   ]
  },
  {
   "cell_type": "code",
   "execution_count": null,
   "metadata": {},
   "outputs": [],
   "source": []
  },
  {
   "cell_type": "code",
   "execution_count": null,
   "metadata": {},
   "outputs": [],
   "source": [
    "# this loops over all the channels and gives a (1, 4, 3, 14, 128) matrix in python. where 1 is epochs, 4 is channels, 3 is multitapers, 14 is freqs, 128 is time\n",
    "\n",
    "# _cwt_gen function in python equivalent\n",
    "n_times = size(X,ndims(X))\n",
    "nfft = _get_nfft(flat_Ws, X) # only needs to be done once i think\n",
    "\n",
    "# precompute FFTs of Ws, not sure why we are only doing Ws[1] atm\n",
    "\n",
    "tfr = zeros(Complex, size(X,1),size(X,2),n_taps,n_freqs, n_times)\n",
    "\n",
    "for epoch_idx = 1:size(X,1)\n",
    "    for channel_idx = 1:size(X,2)\n",
    "        fft_X = fft(zero_pad(data[:, channel_idx], nfft))\n",
    "        for taper_idx = 1:n_taps\n",
    "            fft_Ws = [fft(zero_pad(W, nfft)) for W in Ws[taper_idx]] # looks the same as python\n",
    "\n",
    "            for (ii, W) in enumerate(Ws[taper_idx])\n",
    "                ret = ifft(fft_X .* fft_Ws[ii])[1:n_times+size(W, 1)-1] # matches python sizes\n",
    "\n",
    "                # # center\n",
    "                start = Int(floor((size(ret, 1) - n_times) / 2)) + 1\n",
    "                end_time = start + n_times - 1\n",
    "                # check that end_time is not greater than size(ret, 1)\n",
    "                if end_time > size(ret, 1)\n",
    "                    end_time = size(ret, 1)\n",
    "                end\n",
    "                tfr[epoch_idx, channel_idx, taper_idx, ii, :] = ret[start:end_time]\n",
    "            end\n",
    "        end\n",
    "    end\n",
    "end\n",
    "\n",
    "weights = zeros(n_taps, length(freqs), size(tfr, ndims(tfr)));\n",
    "for (i, f) in enumerate(freqs)\n",
    "    # Create the window length array as in np.arange\n",
    "    window_length = length(0.0:1.0/sfreq:(n_cycles/f))\n",
    "\n",
    "    # Calculate half bandwidth and number of tapers\n",
    "    half_nbw = mt_bandwidth / 2.0\n",
    "    n_tapers = floor(Int, mt_bandwidth - 1)\n",
    "\n",
    "    # Generate DPSS windows with the given parameters\n",
    "    w, e = get_dpss_and_ratios(window_length, half_nbw, n_tapers; zerophase=false)\n",
    "\n",
    "    # Assign the square root of eigvals to the weights array\n",
    "    weights[:, i, :] .= sqrt.(e)\n",
    "end\n",
    "\n",
    "# out squeezed to 4x3x14x128 (out == w == tfr)\n",
    "\n",
    "epoch_idx = 1\n",
    "expanded_weights = reshape(weights, (1, 3, 14, 128))\n",
    "\n",
    "# Perform the element-wise multiplication with broadcasting\n",
    "psd = expanded_weights .* tfr[epoch_idx, :, :, :, :]\n",
    "\n",
    "# Square magnitude (complex conjugate multiplication)\n",
    "psd = psd .* conj(psd)\n",
    "\n",
    "# Sum across the second dimension (axis=1 in Python)\n",
    "psd = sum(real(psd), dims=2)\n",
    "\n",
    "# Calculate normalization factor for `weights`, matching dimensions\n",
    "normalization = 2 ./ sum(real(expanded_weights .* conj(expanded_weights)), dims=2)\n",
    "psd = psd .* normalization\n",
    "\n",
    "psd_squeezed = dropdims(psd, dims=2)\n",
    "# size(psd_squeezed)\n",
    "\n",
    "x = 2\n",
    "y = 1\n",
    "\n",
    "w_x = tfr[epoch_idx, x, :, :, :]\n",
    "w_y = tfr[epoch_idx, y, :, :, :]\n",
    "s_xy = sum(weights .* w_x .* conj(weights .* w_y), dims=1)  # sum over tapers\n",
    "normalization = 2 ./ sum(real(weights .* conj(weights)), dims=1)\n",
    "s_xy = s_xy .* normalization\n",
    "\n",
    "s_xy_squeezed = dropdims(s_xy, dims=1)\n",
    "\n",
    "s_xx = psd_squeezed[x, :, :]\n",
    "s_yy = psd_squeezed[y, :, :];\n",
    "\n",
    "coherence = coh(s_xx, s_yy, s_xy_squeezed)"
   ]
  },
  {
   "cell_type": "code",
   "execution_count": null,
   "metadata": {},
   "outputs": [],
   "source": []
  },
  {
   "cell_type": "markdown",
   "metadata": {
    "vscode": {
     "languageId": "raw"
    }
   },
   "source": [
    "psd = weights * w\n",
    "(4, 3, 14, 128)\n",
    "psd = psd * np.conj(psd)\n",
    "(4, 3, 14, 128)\n",
    "psd = psd.real.sum(axis=1)\n",
    "(4, 14, 128)\n",
    "psd = psd * 2 / (weights * weights.conj()).real.sum(axis=0)\n",
    "(4, 14, 128)"
   ]
  },
  {
   "cell_type": "code",
   "execution_count": null,
   "metadata": {},
   "outputs": [
    {
     "data": {
      "text/plain": [
       "(4, 14, 128)"
      ]
     },
     "metadata": {},
     "output_type": "display_data"
    }
   ],
   "source": []
  },
  {
   "cell_type": "code",
   "execution_count": null,
   "metadata": {},
   "outputs": [],
   "source": [
    "# using Printf\n",
    "# for i in 1:size(psd_squeezed, 1)\n",
    "#     for x in 1:size(psd_squeezed, 2)\n",
    "#         plot(psd_squeezed[i, x, :], xlabel=\"Frequency\", ylabel=\"Power\", title=\"PSD channel $i freq $x\")\n",
    "#         savefig(@sprintf(\"%04d_%04d_jl.png\", i, x))\n",
    "#     end\n",
    "# end"
   ]
  }
 ],
 "metadata": {
  "kernelspec": {
   "display_name": "Julia 1.11.1",
   "language": "julia",
   "name": "julia-1.11"
  },
  "language_info": {
   "file_extension": ".jl",
   "mimetype": "application/julia",
   "name": "julia",
   "version": "1.11.1"
  }
 },
 "nbformat": 4,
 "nbformat_minor": 2
}
