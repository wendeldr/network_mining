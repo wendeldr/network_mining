{
 "cells": [
  {
   "cell_type": "code",
   "execution_count": 70,
   "metadata": {},
   "outputs": [],
   "source": [
    "using Plots"
   ]
  },
  {
   "cell_type": "code",
   "execution_count": null,
   "metadata": {},
   "outputs": [
    {
     "data": {
      "text/plain": [
       "compute_tfr (generic function with 1 method)"
      ]
     },
     "metadata": {},
     "output_type": "display_data"
    }
   ],
   "source": [
    "using DSP\n",
    "using FFTW\n",
    "using Statistics\n",
    "using LinearAlgebra\n",
    "# using Threads\n",
    "\n",
    "function sinusoidal(a, f, sr, t, theta=0, DC=0)\n",
    "    delta_i = 1 / sr\n",
    "    f2pi = f * 2 * π\n",
    "    nu = [DC + (a * sin(f2pi * i * delta_i + theta)) for i in 0:(t-1)]\n",
    "    return nu\n",
    "end\n",
    "\n",
    "# Optimized zero pad function\n",
    "function zero_pad!(data_padded, data)\n",
    "    data_padded[1:length(data)] .= data\n",
    "    data_padded[length(data)+1:end] .= 0\n",
    "end\n",
    "\n",
    "function coh(s_xx, s_yy, s_xy)\n",
    "    # Compute the numerator: absolute value of the mean of s_xy along the last dimension\n",
    "    con_num = abs.(mean(s_xy, dims=ndims(s_xy)))\n",
    "\n",
    "    # Compute the denominator: square root of the product of means of s_xx and s_yy along the last dimension\n",
    "    con_den = sqrt.(mean(s_xx, dims=ndims(s_xx)) .* mean(s_yy, dims=ndims(s_yy)))\n",
    "\n",
    "    # Calculate coherence as the element-wise division of numerator by denominator\n",
    "    coh = con_num ./ con_den\n",
    "    return coh\n",
    "end\n",
    "\n",
    "function get_dpss_and_ratios(n, nw, ntapers; zerophase=false)\n",
    "    # Compute DPSS windows\n",
    "    windows = dpss(n, nw, ntapers; zerophase=zerophase)\n",
    "\n",
    "    # Compute eigenvalues (concentration ratios)\n",
    "    eigenvalues = dpsseig(windows, nw)\n",
    "\n",
    "    return windows, eigenvalues\n",
    "end\n",
    "\n",
    "function next_fast_len(target::Int)::Int\n",
    "    \"\"\"\n",
    "    Find the next fast size of input data to `fft`, for zero-padding, etc.\n",
    "\n",
    "    Returns the next composite of the prime factors 2, 3, and 5 which is\n",
    "    greater than or equal to `target`. (These are also known as 5-smooth\n",
    "    numbers, regular numbers, or Hamming numbers.)\n",
    "\n",
    "    Parameters\n",
    "    ----------\n",
    "    target : Int\n",
    "        Length to start searching from. Must be a positive integer.\n",
    "\n",
    "    Returns\n",
    "    -------\n",
    "    out : Int\n",
    "        The first 5-smooth number greater than or equal to `target`.\n",
    "    \"\"\"\n",
    "    # Precomputed Hamming numbers (5-smooth numbers) for quick lookup\n",
    "    hams = [\n",
    "        8, 9, 10, 12, 15, 16, 18, 20, 24, 25, 27, 30, 32, 36, 40, 45, 48, 50,\n",
    "        54, 60, 64, 72, 75, 80, 81, 90, 96, 100, 108, 120, 125, 128, 135, 144,\n",
    "        150, 160, 162, 180, 192, 200, 216, 225, 240, 243, 250, 256, 270, 288,\n",
    "        300, 320, 324, 360, 375, 384, 400, 405, 432, 450, 480, 486, 500, 512,\n",
    "        540, 576, 600, 625, 640, 648, 675, 720, 729, 750, 768, 800, 810, 864,\n",
    "        900, 960, 972, 1000, 1024, 1080, 1125, 1152, 1200, 1215, 1250, 1280,\n",
    "        1296, 1350, 1440, 1458, 1500, 1536, 1600, 1620, 1728, 1800, 1875, 1920,\n",
    "        1944, 2000, 2025, 2048, 2160, 2187, 2250, 2304, 2400, 2430, 2500, 2560,\n",
    "        2592, 2700, 2880, 2916, 3000, 3072, 3125, 3200, 3240, 3375, 3456, 3600,\n",
    "        3645, 3750, 3840, 3888, 4000, 4050, 4096, 4320, 4374, 4500, 4608, 4800,\n",
    "        4860, 5000, 5120, 5184, 5400, 5625, 5760, 5832, 6000, 6075, 6144, 6250,\n",
    "        6400, 6480, 6561, 6750, 6912, 7200, 7290, 7500, 7680, 7776, 8000, 8100,\n",
    "        8192, 8640, 8748, 9000, 9216, 9375, 9600, 9720, 10000\n",
    "    ]\n",
    "\n",
    "    if target <= 6\n",
    "        return target\n",
    "    end\n",
    "\n",
    "    # Check if target is already a power of 2\n",
    "    if (target & (target - 1)) == 0\n",
    "        return target\n",
    "    end\n",
    "\n",
    "    # Quick lookup for small sizes\n",
    "    if target <= hams[end]\n",
    "        idx = searchsortedfirst(hams, target)\n",
    "        return hams[idx]\n",
    "    end\n",
    "\n",
    "    # Function to compute the bit length of an integer\n",
    "    bit_length(x::Int) = x <= 0 ? 0 : floor(Int, log2(x)) + 1\n",
    "\n",
    "    match = typemax(Int)  # Initialize with maximum possible integer\n",
    "    p5 = 1\n",
    "    while p5 < target\n",
    "        p35 = p5\n",
    "        while p35 < target\n",
    "            # Ceiling integer division\n",
    "            quotient = cld(target, p35)\n",
    "            p2 = 2^bit_length(quotient - 1)\n",
    "            N = p2 * p35\n",
    "            if N == target\n",
    "                return N\n",
    "            elseif N < match\n",
    "                match = N\n",
    "            end\n",
    "            p35 *= 3\n",
    "            if p35 == target\n",
    "                return p35\n",
    "            end\n",
    "        end\n",
    "        if p35 < match\n",
    "            match = p35\n",
    "        end\n",
    "        p5 *= 5\n",
    "        if p5 == target\n",
    "            return p5\n",
    "        end\n",
    "    end\n",
    "    if p5 < match\n",
    "        match = p5\n",
    "    end\n",
    "    return match\n",
    "end\n",
    "\n",
    "function _get_nfft(Ws, X)::Int\n",
    "    max_len = maximum([length(Wk) for Wk in Ws])\n",
    "    n = last(size(X))\n",
    "    nfft = n + max_len - 1\n",
    "    # @show nfft\n",
    "    nfft = next_fast_len(nfft)\n",
    "    return nfft\n",
    "end\n",
    "\n",
    "# Precompute FFTs of Ws\n",
    "function precompute_fft_Ws(Ws, nfft)\n",
    "    n_taps, n_freqs = size(Ws)\n",
    "    fft_Ws = Array{ComplexF64, 3}(undef, n_taps, n_freqs, nfft)\n",
    "    for taper_idx = 1:n_taps\n",
    "        for freq_idx = 1:n_freqs\n",
    "            W = Ws[taper_idx, freq_idx]\n",
    "            padded_W = zeros(ComplexF64, nfft)\n",
    "            zero_pad!(padded_W, W)\n",
    "            fft_Ws[taper_idx, freq_idx, :] = fft(padded_W)\n",
    "        end\n",
    "    end\n",
    "    return fft_Ws\n",
    "end\n",
    "\n",
    "# Precompute FFTs of X\n",
    "function precompute_fft_X(X, nfft)\n",
    "    n_epochs, n_channels, n_times = size(X)\n",
    "    fft_X = Array{ComplexF64, 3}(undef, n_epochs, n_channels, nfft)\n",
    "    for epoch_idx = 1:n_epochs\n",
    "        for channel_idx = 1:n_channels\n",
    "            x = X[epoch_idx, channel_idx, :]\n",
    "            padded_x = zeros(ComplexF64, nfft)\n",
    "            zero_pad!(padded_x, x)\n",
    "            fft_X[epoch_idx, channel_idx, :] = fft(padded_x)\n",
    "        end\n",
    "    end\n",
    "    return fft_X\n",
    "end\n",
    "\n",
    "\n",
    "# Main function to compute tfr\n",
    "function compute_tfr(X, Ws, nfft)\n",
    "    n_epochs, n_channels, n_times = size(X)\n",
    "    n_taps, n_freqs = size(Ws)\n",
    "    tfr = zeros(ComplexF64, n_epochs, n_channels, n_taps, n_freqs, n_times)\n",
    "    \n",
    "    # Precompute FFTs\n",
    "    fft_Ws = precompute_fft_Ws(Ws, nfft)\n",
    "    fft_X = precompute_fft_X(X, nfft)\n",
    "    \n",
    "    # Loop over tapers and frequencies\n",
    "    for taper_idx = 1:n_taps\n",
    "        for freq_idx = 1:n_freqs\n",
    "            fft_W = fft_Ws[taper_idx, freq_idx, :]\n",
    "            W_size = length(Ws[taper_idx, freq_idx])\n",
    "            total_size = n_times + W_size - 1\n",
    "            ret_size = total_size\n",
    "            # Preallocate ret array\n",
    "            ret = zeros(ComplexF64, ret_size)\n",
    "            \n",
    "            for epoch_idx = 1:n_epochs\n",
    "                for channel_idx = 1:n_channels\n",
    "                    fx = fft_X[epoch_idx, channel_idx, :]\n",
    "                    product = fx .* fft_W\n",
    "                    ret .= ifft(product)[1:ret_size]\n",
    "                    \n",
    "                    # Center the result\n",
    "                    start = Int(floor((ret_size - n_times) / 2)) + 1\n",
    "                    end_time = start + n_times - 1\n",
    "                    tfr[epoch_idx, channel_idx, taper_idx, freq_idx, :] = ret[start:end_time]\n",
    "                end\n",
    "            end\n",
    "        end\n",
    "    end\n",
    "    return tfr, fft_Ws, fft_X\n",
    "end"
   ]
  },
  {
   "cell_type": "code",
   "execution_count": null,
   "metadata": {},
   "outputs": [],
   "source": [
    "t = 32\n",
    "sr = 32\n",
    "f = 2\n",
    "noise = 1000\n",
    "\n",
    "v = sinusoidal(10, f, sr, t * 4, 0)\n",
    "w = sinusoidal(10, f, sr, t * 4, π / 4)\n",
    "y = sinusoidal(10, f, sr, t * 4, π / 2)\n",
    "z = sinusoidal(10, f, sr, t * 4, π)\n",
    "\n",
    "\n",
    "# data = [[v w y z], [-v -w -y -z]];\n",
    "data = Array{Float64}(undef, 2, 4, 128)\n",
    "data[1, :, :] = hcat(v, w, y, z)'\n",
    "data[2, :, :] = hcat(-v, -w, -y, -z)'\n",
    "\n",
    "freqs = collect(2:15) # inclusive of end \n",
    "n_freqs = length(freqs)\n",
    "mt_bandwidth = 4\n",
    "n_taps = floor(Int, mt_bandwidth - 1)\n",
    "n_cycles = 7\n",
    "sfreq = 32\n",
    "zero_mean = true\n",
    "# random data epochs x channels x time\n",
    "X = data;\n",
    "\n",
    "# Preallocate Ws as a matrix\n",
    "Ws = Matrix{Vector{ComplexF64}}(undef, n_taps, n_freqs)\n",
    "sp5 = sqrt(0.5)\n",
    "# Loop over frequencies first\n",
    "for k = 1:n_freqs\n",
    "    f = freqs[k]\n",
    "    t_win = n_cycles / f\n",
    "    len_t = Int(ceil(t_win * sfreq))\n",
    "\n",
    "    t = collect(0:1/sfreq:t_win-(t_win % (1 / sfreq) == 0 ? 1 / sfreq : 0)) # Ensure t_win is excluded\n",
    "    t_centered = t .- t_win / 2.0\n",
    "\n",
    "    # Precompute oscillation and taper\n",
    "    oscillation = exp.(2.0 * im * pi * f .* t_centered)\n",
    "    taper = dpss(len_t, mt_bandwidth / 2, n_taps)\n",
    "\n",
    "    for m = 1:n_taps\n",
    "        # Use @view to avoid copying taper column\n",
    "        Wk = oscillation .* @view taper[:, m]\n",
    "        if zero_mean  # To make it zero mean\n",
    "            real_offset = mean(Wk)\n",
    "            Wk .-= real_offset\n",
    "        end\n",
    "        # Normalize Wk\n",
    "        Wk /= sp5 * norm(Wk)\n",
    "        # Store Wk in preallocated Ws\n",
    "        Ws[m, k] = Wk\n",
    "    end\n",
    "end\n"
   ]
  },
  {
   "cell_type": "code",
   "execution_count": 18,
   "metadata": {},
   "outputs": [
    {
     "data": {
      "text/plain": [
       "(3, 14)"
      ]
     },
     "metadata": {},
     "output_type": "display_data"
    }
   ],
   "source": [
    "n_epochs, n_channels, n_times = size(X)\n",
    "n_taps, n_freqs = size(Ws)\n"
   ]
  },
  {
   "cell_type": "code",
   "execution_count": 24,
   "metadata": {},
   "outputs": [],
   "source": [
    "\n",
    "\n",
    "# this loops over all the channels and gives a (1, 4, 3, 14, 128) matrix in python. where 1 is epochs, 4 is channels, 3 is multitapers, 14 is freqs, 128 is time\n",
    "\n",
    "# _cwt_gen function in python equivalent\n",
    "n_times = size(X, ndims(X))\n",
    "nfft = _get_nfft(Ws, X) # only needs to be done once i think\n",
    "tfr, fft_Ws, fft_X = compute_tfr(X, Ws, nfft);\n",
    "\n",
    "weights = zeros(n_taps, length(freqs), size(tfr, ndims(tfr)));\n",
    "for (i, f) in enumerate(freqs)\n",
    "    # Create the window length array as in np.arange\n",
    "    window_length = length(0.0:1.0/sfreq:(n_cycles/f))\n",
    "\n",
    "    # Calculate half bandwidth and number of tapers\n",
    "    half_nbw = mt_bandwidth / 2.0\n",
    "    n_tapers = floor(Int, mt_bandwidth - 1)\n",
    "\n",
    "    # Generate DPSS windows with the given parameters\n",
    "    w, e = get_dpss_and_ratios(window_length, half_nbw, n_tapers; zerophase=false)\n",
    "\n",
    "    # Assign the square root of eigvals to the weights array\n",
    "    weights[:, i, :] .= sqrt.(e)\n",
    "end"
   ]
  },
  {
   "cell_type": "code",
   "execution_count": 26,
   "metadata": {},
   "outputs": [
    {
     "data": {
      "text/plain": [
       "(2, 4, 3, 14, 128)"
      ]
     },
     "metadata": {},
     "output_type": "display_data"
    }
   ],
   "source": [
    "size(tfr)"
   ]
  },
  {
   "cell_type": "markdown",
   "metadata": {},
   "source": [
    "in python its \n",
    "\n",
    "psd = weights * w \n",
    "\n",
    "weights.shape = (3, 14, 128)\n",
    "\n",
    "w.shape = (4,3,14,128) and is the same as tfr"
   ]
  },
  {
   "cell_type": "code",
   "execution_count": 47,
   "metadata": {},
   "outputs": [],
   "source": [
    "\n",
    "epoch_idx = 1\n",
    "expanded_weights = reshape(weights, (1, size(weights, 1), size(weights, 2), size(weights, 3)));\n",
    "\n",
    "psd_per_epoch = zeros(size(X,1), size(X, 2), size(weights, 2), size(X, 3));\n"
   ]
  },
  {
   "cell_type": "code",
   "execution_count": 49,
   "metadata": {},
   "outputs": [],
   "source": [
    "for epoch_idx = 1:size(X,1)\n",
    "# Perform the element-wise multiplication with broadcasting\n",
    "psd = expanded_weights .* tfr[epoch_idx, :, :, :, :]\n",
    "\n",
    "# Square magnitude (complex conjugate multiplication)\n",
    "psd = psd .* conj(psd)\n",
    "\n",
    "# Sum across the second dimension (axis=1 in Python)\n",
    "psd = sum(real(psd), dims=2)\n",
    "\n",
    "# Calculate normalization factor for `weights`, matching dimensions\n",
    "normalization = 2 ./ sum(real(expanded_weights .* conj(expanded_weights)), dims=2)\n",
    "psd = psd .* normalization\n",
    "\n",
    "psd_squeezed = dropdims(psd, dims=2);\n",
    "\n",
    "psd_per_epoch[epoch_idx, :, :, :] .= psd_squeezed\n",
    "end"
   ]
  },
  {
   "cell_type": "code",
   "execution_count": 50,
   "metadata": {},
   "outputs": [
    {
     "data": {
      "text/plain": [
       "(2, 4, 14, 128)"
      ]
     },
     "metadata": {},
     "output_type": "display_data"
    }
   ],
   "source": [
    "size(psd_per_epoch)"
   ]
  },
  {
   "cell_type": "code",
   "execution_count": 51,
   "metadata": {},
   "outputs": [
    {
     "data": {
      "text/plain": [
       "14×1 Matrix{Float64}:\n",
       " 0.9994252084251058\n",
       " 0.98346660940613\n",
       " 0.9080166469686225\n",
       " 0.857023619580531\n",
       " 0.7068454762196555\n",
       " 0.5717890713144725\n",
       " 0.8071777638510679\n",
       " 0.7498216766829018\n",
       " 0.5687639595078359\n",
       " 0.3537812098669173\n",
       " 0.4749134039255745\n",
       " 0.5187591821735892\n",
       " 0.5952759172804776\n",
       " 0.6143511365704714"
      ]
     },
     "metadata": {},
     "output_type": "display_data"
    }
   ],
   "source": [
    "epoch_idx = 1\n",
    "w_x = tfr[epoch_idx, x, :, :, :]\n",
    "w_y = tfr[epoch_idx, y, :, :, :]\n",
    "s_xy = sum(weights .* w_x .* conj(weights .* w_y), dims=1)  # sum over tapers\n",
    "normalization = 2 ./ sum(real(weights .* conj(weights)), dims=1)\n",
    "s_xy = s_xy .* normalization\n",
    "\n",
    "s_xy_squeezed = dropdims(s_xy, dims=1)\n",
    "\n",
    "s_xx = psd_squeezed[x, :, :]\n",
    "s_yy = psd_squeezed[y, :, :];\n",
    "\n",
    "coherence = coh(s_xx, s_yy, s_xy_squeezed)"
   ]
  },
  {
   "cell_type": "code",
   "execution_count": 57,
   "metadata": {},
   "outputs": [],
   "source": [
    "coherence = zeros(size(X, 1), size(X, 2), size(X, 2), size(psd_per_epoch, 3))\n",
    "\n",
    "for epoch_idx = 1:size(X, 1)\n",
    "    for x = 1:size(X, 2)\n",
    "        for y = 1:size(X, 2)\n",
    "            w_x = tfr[epoch_idx, x, :, :, :]\n",
    "            w_y = tfr[epoch_idx, y, :, :, :]\n",
    "            s_xy = sum(weights .* w_x .* conj(weights .* w_y), dims=1)  # sum over tapers\n",
    "            normalization = 2 ./ sum(real(weights .* conj(weights)), dims=1)\n",
    "            s_xy = s_xy .* normalization\n",
    "\n",
    "            s_xy_squeezed = dropdims(s_xy, dims=1)\n",
    "\n",
    "            s_xx = psd_squeezed[x, :, :]\n",
    "            s_yy = psd_squeezed[y, :, :];\n",
    "\n",
    "            coherence[epoch_idx,x, y, :] .= coh(s_xx, s_yy, s_xy_squeezed)\n",
    "\n",
    "        end\n",
    "    end\n",
    "end\n"
   ]
  },
  {
   "cell_type": "code",
   "execution_count": 60,
   "metadata": {},
   "outputs": [],
   "source": [
    "using NPZ\n",
    "\n",
    "# Load the .npy file\n",
    "python_coh = npzread(\"/media/dan/Data/git/network_miner/coh_python.npy\");"
   ]
  },
  {
   "cell_type": "code",
   "execution_count": 64,
   "metadata": {},
   "outputs": [
    {
     "data": {
      "text/plain": [
       "((2, 4, 4, 14), (2, 4, 4, 14))"
      ]
     },
     "metadata": {},
     "output_type": "display_data"
    }
   ],
   "source": [
    "size(coherence), size(python_coh)"
   ]
  },
  {
   "cell_type": "code",
   "execution_count": 65,
   "metadata": {},
   "outputs": [
    {
     "data": {
      "text/plain": [
       "true"
      ]
     },
     "metadata": {},
     "output_type": "display_data"
    }
   ],
   "source": [
    "coherence[1,1,4,:] == coherence[1,4,1,:]"
   ]
  },
  {
   "cell_type": "code",
   "execution_count": 66,
   "metadata": {},
   "outputs": [
    {
     "data": {
      "text/plain": [
       "false"
      ]
     },
     "metadata": {},
     "output_type": "display_data"
    }
   ],
   "source": [
    "coherence == python_coh"
   ]
  },
  {
   "cell_type": "code",
   "execution_count": 62,
   "metadata": {},
   "outputs": [
    {
     "data": {
      "text/plain": [
       "false"
      ]
     },
     "metadata": {},
     "output_type": "display_data"
    }
   ],
   "source": [
    "isapprox(coherence, python_coh; atol=1e-13)"
   ]
  },
  {
   "cell_type": "code",
   "execution_count": 67,
   "metadata": {},
   "outputs": [
    {
     "data": {
      "text/plain": [
       "false"
      ]
     },
     "metadata": {},
     "output_type": "display_data"
    }
   ],
   "source": [
    "isapprox(coherence[1,1,1,:], python_coh[1,1,1,:]; atol=1e-13)"
   ]
  },
  {
   "cell_type": "code",
   "execution_count": 90,
   "metadata": {},
   "outputs": [
    {
     "data": {
      "image/png": "[encoded data removed]",
      "image/svg+xml": [
       "<?xml version=\"1.0\" encoding=\"utf-8\"?>\n",
       "<svg xmlns=\"http://www.w3.org/2000/svg\" xmlns:xlink=\"http://www.w3.org/1999/xlink\" width=\"600\" height=\"400\" viewBox=\"0 0 2400 1600\">\n",
       "<defs>\n",
       "  <clipPath id=\"clip270\">\n",
       "    <rect x=\"0\" y=\"0\" width=\"2400\" height=\"1600\"/>\n",
       "  </clipPath>\n",
       "</defs>\n",
       "<path clip-path=\"url(#clip270)\" d=\"M0 1600 L2400 1600 L2400 0 L0 0  Z\" fill=\"#ffffff\" fill-rule=\"evenodd\" fill-opacity=\"1\"/>\n",
       "<defs>\n",
       "  <clipPath id=\"clip271\">\n",
       "    <rect x=\"480\" y=\"0\" width=\"1681\" height=\"1600\"/>\n",
       "  </clipPath>\n",
       "</defs>\n",
       "<path clip-path=\"url(#clip270)\" d=\"M156.598 1486.45 L2352.76 1486.45 L2352.76 47.2441 L156.598 47.2441  Z\" fill=\"#ffffff\" fill-rule=\"evenodd\" fill-opacity=\"1\"/>\n",
       "<defs>\n",
       "  <clipPath id=\"clip272\">\n",
       "    <rect x=\"156\" y=\"47\" width=\"2197\" height=\"1440\"/>\n",
       "  </clipPath>\n",
       "</defs>\n",
       "<polyline clip-path=\"url(#clip272)\" style=\"stroke:#000000; stroke-linecap:round; stroke-linejoin:round; stroke-width:2; stroke-opacity:0.1; fill:none\" points=\"457.813,1486.45 457.813,47.2441 \"/>\n",
       "<polyline clip-path=\"url(#clip272)\" style=\"stroke:#000000; stroke-linecap:round; stroke-linejoin:round; stroke-width:2; stroke-opacity:0.1; fill:none\" points=\"856.245,1486.45 856.245,47.2441 \"/>\n",
       "<polyline clip-path=\"url(#clip272)\" style=\"stroke:#000000; stroke-linecap:round; stroke-linejoin:round; stroke-width:2; stroke-opacity:0.1; fill:none\" points=\"1254.68,1486.45 1254.68,47.2441 \"/>\n",
       "<polyline clip-path=\"url(#clip272)\" style=\"stroke:#000000; stroke-linecap:round; stroke-linejoin:round; stroke-width:2; stroke-opacity:0.1; fill:none\" points=\"1653.11,1486.45 1653.11,47.2441 \"/>\n",
       "<polyline clip-path=\"url(#clip272)\" style=\"stroke:#000000; stroke-linecap:round; stroke-linejoin:round; stroke-width:2; stroke-opacity:0.1; fill:none\" points=\"2051.54,1486.45 2051.54,47.2441 \"/>\n",
       "<polyline clip-path=\"url(#clip272)\" style=\"stroke:#000000; stroke-linecap:round; stroke-linejoin:round; stroke-width:2; stroke-opacity:0.1; fill:none\" points=\"156.598,1255.04 2352.76,1255.04 \"/>\n",
       "<polyline clip-path=\"url(#clip272)\" style=\"stroke:#000000; stroke-linecap:round; stroke-linejoin:round; stroke-width:2; stroke-opacity:0.1; fill:none\" points=\"156.598,962.857 2352.76,962.857 \"/>\n",
       "<polyline clip-path=\"url(#clip272)\" style=\"stroke:#000000; stroke-linecap:round; stroke-linejoin:round; stroke-width:2; stroke-opacity:0.1; fill:none\" points=\"156.598,670.67 2352.76,670.67 \"/>\n",
       "<polyline clip-path=\"url(#clip272)\" style=\"stroke:#000000; stroke-linecap:round; stroke-linejoin:round; stroke-width:2; stroke-opacity:0.1; fill:none\" points=\"156.598,378.483 2352.76,378.483 \"/>\n",
       "<polyline clip-path=\"url(#clip272)\" style=\"stroke:#000000; stroke-linecap:round; stroke-linejoin:round; stroke-width:2; stroke-opacity:0.1; fill:none\" points=\"156.598,86.2956 2352.76,86.2956 \"/>\n",
       "<polyline clip-path=\"url(#clip270)\" style=\"stroke:#000000; stroke-linecap:round; stroke-linejoin:round; stroke-width:4; stroke-opacity:1; fill:none\" points=\"156.598,1486.45 2352.76,1486.45 \"/>\n",
       "<polyline clip-path=\"url(#clip270)\" style=\"stroke:#000000; stroke-linecap:round; stroke-linejoin:round; stroke-width:4; stroke-opacity:1; fill:none\" points=\"457.813,1486.45 457.813,1467.55 \"/>\n",
       "<polyline clip-path=\"url(#clip270)\" style=\"stroke:#000000; stroke-linecap:round; stroke-linejoin:round; stroke-width:4; stroke-opacity:1; fill:none\" points=\"856.245,1486.45 856.245,1467.55 \"/>\n",
       "<polyline clip-path=\"url(#clip270)\" style=\"stroke:#000000; stroke-linecap:round; stroke-linejoin:round; stroke-width:4; stroke-opacity:1; fill:none\" points=\"1254.68,1486.45 1254.68,1467.55 \"/>\n",
       "<polyline clip-path=\"url(#clip270)\" style=\"stroke:#000000; stroke-linecap:round; stroke-linejoin:round; stroke-width:4; stroke-opacity:1; fill:none\" points=\"1653.11,1486.45 1653.11,1467.55 \"/>\n",
       "<polyline clip-path=\"url(#clip270)\" style=\"stroke:#000000; stroke-linecap:round; stroke-linejoin:round; stroke-width:4; stroke-opacity:1; fill:none\" points=\"2051.54,1486.45 2051.54,1467.55 \"/>\n",
       "<path clip-path=\"url(#clip270)\" d=\"M429.549 1544.91 L445.869 1544.91 L445.869 1548.85 L423.924 1548.85 L423.924 1544.91 Q426.586 1542.16 431.17 1537.53 Q435.776 1532.88 436.957 1531.53 Q439.202 1529.01 440.082 1527.27 Q440.984 1525.51 440.984 1523.82 Q440.984 1521.07 439.04 1519.33 Q437.119 1517.6 434.017 1517.6 Q431.818 1517.6 429.364 1518.36 Q426.933 1519.13 424.156 1520.68 L424.156 1515.95 Q426.98 1514.82 429.433 1514.24 Q431.887 1513.66 433.924 1513.66 Q439.294 1513.66 442.489 1516.35 Q445.683 1519.03 445.683 1523.52 Q445.683 1525.65 444.873 1527.57 Q444.086 1529.47 441.98 1532.07 Q441.401 1532.74 438.299 1535.95 Q435.197 1539.15 429.549 1544.91 Z\" fill=\"#000000\" fill-rule=\"nonzero\" fill-opacity=\"1\" /><path clip-path=\"url(#clip270)\" d=\"M455.683 1542.97 L460.568 1542.97 L460.568 1548.85 L455.683 1548.85 L455.683 1542.97 Z\" fill=\"#000000\" fill-rule=\"nonzero\" fill-opacity=\"1\" /><path clip-path=\"url(#clip270)\" d=\"M470.799 1514.29 L489.155 1514.29 L489.155 1518.22 L475.081 1518.22 L475.081 1526.7 Q476.1 1526.35 477.118 1526.19 Q478.137 1526 479.155 1526 Q484.942 1526 488.322 1529.17 Q491.702 1532.34 491.702 1537.76 Q491.702 1543.34 488.229 1546.44 Q484.757 1549.52 478.438 1549.52 Q476.262 1549.52 473.993 1549.15 Q471.748 1548.78 469.341 1548.04 L469.341 1543.34 Q471.424 1544.47 473.646 1545.03 Q475.868 1545.58 478.345 1545.58 Q482.35 1545.58 484.688 1543.48 Q487.026 1541.37 487.026 1537.76 Q487.026 1534.15 484.688 1532.04 Q482.35 1529.94 478.345 1529.94 Q476.47 1529.94 474.595 1530.35 Q472.743 1530.77 470.799 1531.65 L470.799 1514.29 Z\" fill=\"#000000\" fill-rule=\"nonzero\" fill-opacity=\"1\" /><path clip-path=\"url(#clip270)\" d=\"M823.41 1514.29 L841.766 1514.29 L841.766 1518.22 L827.692 1518.22 L827.692 1526.7 Q828.71 1526.35 829.729 1526.19 Q830.747 1526 831.766 1526 Q837.553 1526 840.933 1529.17 Q844.312 1532.34 844.312 1537.76 Q844.312 1543.34 840.84 1546.44 Q837.368 1549.52 831.048 1549.52 Q828.872 1549.52 826.604 1549.15 Q824.359 1548.78 821.951 1548.04 L821.951 1543.34 Q824.035 1544.47 826.257 1545.03 Q828.479 1545.58 830.956 1545.58 Q834.96 1545.58 837.298 1543.48 Q839.636 1541.37 839.636 1537.76 Q839.636 1534.15 837.298 1532.04 Q834.96 1529.94 830.956 1529.94 Q829.081 1529.94 827.206 1530.35 Q825.354 1530.77 823.41 1531.65 L823.41 1514.29 Z\" fill=\"#000000\" fill-rule=\"nonzero\" fill-opacity=\"1\" /><path clip-path=\"url(#clip270)\" d=\"M853.525 1542.97 L858.409 1542.97 L858.409 1548.85 L853.525 1548.85 L853.525 1542.97 Z\" fill=\"#000000\" fill-rule=\"nonzero\" fill-opacity=\"1\" /><path clip-path=\"url(#clip270)\" d=\"M878.594 1517.37 Q874.983 1517.37 873.155 1520.93 Q871.349 1524.47 871.349 1531.6 Q871.349 1538.71 873.155 1542.27 Q874.983 1545.82 878.594 1545.82 Q882.229 1545.82 884.034 1542.27 Q885.863 1538.71 885.863 1531.6 Q885.863 1524.47 884.034 1520.93 Q882.229 1517.37 878.594 1517.37 M878.594 1513.66 Q884.405 1513.66 887.46 1518.27 Q890.539 1522.85 890.539 1531.6 Q890.539 1540.33 887.46 1544.94 Q884.405 1549.52 878.594 1549.52 Q872.784 1549.52 869.706 1544.94 Q866.65 1540.33 866.65 1531.6 Q866.65 1522.85 869.706 1518.27 Q872.784 1513.66 878.594 1513.66 Z\" fill=\"#000000\" fill-rule=\"nonzero\" fill-opacity=\"1\" /><path clip-path=\"url(#clip270)\" d=\"M1221 1514.29 L1243.22 1514.29 L1243.22 1516.28 L1230.67 1548.85 L1225.79 1548.85 L1237.59 1518.22 L1221 1518.22 L1221 1514.29 Z\" fill=\"#000000\" fill-rule=\"nonzero\" fill-opacity=\"1\" /><path clip-path=\"url(#clip270)\" d=\"M1252.34 1542.97 L1257.22 1542.97 L1257.22 1548.85 L1252.34 1548.85 L1252.34 1542.97 Z\" fill=\"#000000\" fill-rule=\"nonzero\" fill-opacity=\"1\" /><path clip-path=\"url(#clip270)\" d=\"M1267.45 1514.29 L1285.81 1514.29 L1285.81 1518.22 L1271.74 1518.22 L1271.74 1526.7 Q1272.76 1526.35 1273.77 1526.19 Q1274.79 1526 1275.81 1526 Q1281.6 1526 1284.98 1529.17 Q1288.36 1532.34 1288.36 1537.76 Q1288.36 1543.34 1284.89 1546.44 Q1281.41 1549.52 1275.09 1549.52 Q1272.92 1549.52 1270.65 1549.15 Q1268.4 1548.78 1266 1548.04 L1266 1543.34 Q1268.08 1544.47 1270.3 1545.03 Q1272.52 1545.58 1275 1545.58 Q1279.01 1545.58 1281.34 1543.48 Q1283.68 1541.37 1283.68 1537.76 Q1283.68 1534.15 1281.34 1532.04 Q1279.01 1529.94 1275 1529.94 Q1273.13 1529.94 1271.25 1530.35 Q1269.4 1530.77 1267.45 1531.65 L1267.45 1514.29 Z\" fill=\"#000000\" fill-rule=\"nonzero\" fill-opacity=\"1\" /><path clip-path=\"url(#clip270)\" d=\"M1605.18 1544.91 L1612.82 1544.91 L1612.82 1518.55 L1604.51 1520.21 L1604.51 1515.95 L1612.77 1514.29 L1617.45 1514.29 L1617.45 1544.91 L1625.09 1544.91 L1625.09 1548.85 L1605.18 1548.85 L1605.18 1544.91 Z\" fill=\"#000000\" fill-rule=\"nonzero\" fill-opacity=\"1\" /><path clip-path=\"url(#clip270)\" d=\"M1644.53 1517.37 Q1640.92 1517.37 1639.09 1520.93 Q1637.29 1524.47 1637.29 1531.6 Q1637.29 1538.71 1639.09 1542.27 Q1640.92 1545.82 1644.53 1545.82 Q1648.17 1545.82 1649.97 1542.27 Q1651.8 1538.71 1651.8 1531.6 Q1651.8 1524.47 1649.97 1520.93 Q1648.17 1517.37 1644.53 1517.37 M1644.53 1513.66 Q1650.34 1513.66 1653.4 1518.27 Q1656.48 1522.85 1656.48 1531.6 Q1656.48 1540.33 1653.4 1544.94 Q1650.34 1549.52 1644.53 1549.52 Q1638.72 1549.52 1635.64 1544.94 Q1632.59 1540.33 1632.59 1531.6 Q1632.59 1522.85 1635.64 1518.27 Q1638.72 1513.66 1644.53 1513.66 Z\" fill=\"#000000\" fill-rule=\"nonzero\" fill-opacity=\"1\" /><path clip-path=\"url(#clip270)\" d=\"M1664.69 1542.97 L1669.58 1542.97 L1669.58 1548.85 L1664.69 1548.85 L1664.69 1542.97 Z\" fill=\"#000000\" fill-rule=\"nonzero\" fill-opacity=\"1\" /><path clip-path=\"url(#clip270)\" d=\"M1689.76 1517.37 Q1686.15 1517.37 1684.32 1520.93 Q1682.52 1524.47 1682.52 1531.6 Q1682.52 1538.71 1684.32 1542.27 Q1686.15 1545.82 1689.76 1545.82 Q1693.4 1545.82 1695.2 1542.27 Q1697.03 1538.71 1697.03 1531.6 Q1697.03 1524.47 1695.2 1520.93 Q1693.4 1517.37 1689.76 1517.37 M1689.76 1513.66 Q1695.57 1513.66 1698.63 1518.27 Q1701.71 1522.85 1701.71 1531.6 Q1701.71 1540.33 1698.63 1544.94 Q1695.57 1549.52 1689.76 1549.52 Q1683.95 1549.52 1680.88 1544.94 Q1677.82 1540.33 1677.82 1531.6 Q1677.82 1522.85 1680.88 1518.27 Q1683.95 1513.66 1689.76 1513.66 Z\" fill=\"#000000\" fill-rule=\"nonzero\" fill-opacity=\"1\" /><path clip-path=\"url(#clip270)\" d=\"M2004.11 1544.91 L2011.75 1544.91 L2011.75 1518.55 L2003.44 1520.21 L2003.44 1515.95 L2011.7 1514.29 L2016.38 1514.29 L2016.38 1544.91 L2024.02 1544.91 L2024.02 1548.85 L2004.11 1548.85 L2004.11 1544.91 Z\" fill=\"#000000\" fill-rule=\"nonzero\" fill-opacity=\"1\" /><path clip-path=\"url(#clip270)\" d=\"M2037.49 1544.91 L2053.81 1544.91 L2053.81 1548.85 L2031.87 1548.85 L2031.87 1544.91 Q2034.53 1542.16 2039.11 1537.53 Q2043.72 1532.88 2044.9 1531.53 Q2047.14 1529.01 2048.02 1527.27 Q2048.93 1525.51 2048.93 1523.82 Q2048.93 1521.07 2046.98 1519.33 Q2045.06 1517.6 2041.96 1517.6 Q2039.76 1517.6 2037.31 1518.36 Q2034.87 1519.13 2032.1 1520.68 L2032.1 1515.95 Q2034.92 1514.82 2037.37 1514.24 Q2039.83 1513.66 2041.87 1513.66 Q2047.24 1513.66 2050.43 1516.35 Q2053.62 1519.03 2053.62 1523.52 Q2053.62 1525.65 2052.81 1527.57 Q2052.03 1529.47 2049.92 1532.07 Q2049.34 1532.74 2046.24 1535.95 Q2043.14 1539.15 2037.49 1544.91 Z\" fill=\"#000000\" fill-rule=\"nonzero\" fill-opacity=\"1\" /><path clip-path=\"url(#clip270)\" d=\"M2063.62 1542.97 L2068.51 1542.97 L2068.51 1548.85 L2063.62 1548.85 L2063.62 1542.97 Z\" fill=\"#000000\" fill-rule=\"nonzero\" fill-opacity=\"1\" /><path clip-path=\"url(#clip270)\" d=\"M2078.74 1514.29 L2097.1 1514.29 L2097.1 1518.22 L2083.02 1518.22 L2083.02 1526.7 Q2084.04 1526.35 2085.06 1526.19 Q2086.08 1526 2087.1 1526 Q2092.88 1526 2096.26 1529.17 Q2099.64 1532.34 2099.64 1537.76 Q2099.64 1543.34 2096.17 1546.44 Q2092.7 1549.52 2086.38 1549.52 Q2084.2 1549.52 2081.93 1549.15 Q2079.69 1548.78 2077.28 1548.04 L2077.28 1543.34 Q2079.37 1544.47 2081.59 1545.03 Q2083.81 1545.58 2086.29 1545.58 Q2090.29 1545.58 2092.63 1543.48 Q2094.97 1541.37 2094.97 1537.76 Q2094.97 1534.15 2092.63 1532.04 Q2090.29 1529.94 2086.29 1529.94 Q2084.41 1529.94 2082.54 1530.35 Q2080.68 1530.77 2078.74 1531.65 L2078.74 1514.29 Z\" fill=\"#000000\" fill-rule=\"nonzero\" fill-opacity=\"1\" /><polyline clip-path=\"url(#clip270)\" style=\"stroke:#000000; stroke-linecap:round; stroke-linejoin:round; stroke-width:4; stroke-opacity:1; fill:none\" points=\"156.598,1486.45 156.598,47.2441 \"/>\n",
       "<polyline clip-path=\"url(#clip270)\" style=\"stroke:#000000; stroke-linecap:round; stroke-linejoin:round; stroke-width:4; stroke-opacity:1; fill:none\" points=\"156.598,1255.04 175.496,1255.04 \"/>\n",
       "<polyline clip-path=\"url(#clip270)\" style=\"stroke:#000000; stroke-linecap:round; stroke-linejoin:round; stroke-width:4; stroke-opacity:1; fill:none\" points=\"156.598,962.857 175.496,962.857 \"/>\n",
       "<polyline clip-path=\"url(#clip270)\" style=\"stroke:#000000; stroke-linecap:round; stroke-linejoin:round; stroke-width:4; stroke-opacity:1; fill:none\" points=\"156.598,670.67 175.496,670.67 \"/>\n",
       "<polyline clip-path=\"url(#clip270)\" style=\"stroke:#000000; stroke-linecap:round; stroke-linejoin:round; stroke-width:4; stroke-opacity:1; fill:none\" points=\"156.598,378.483 175.496,378.483 \"/>\n",
       "<polyline clip-path=\"url(#clip270)\" style=\"stroke:#000000; stroke-linecap:round; stroke-linejoin:round; stroke-width:4; stroke-opacity:1; fill:none\" points=\"156.598,86.2956 175.496,86.2956 \"/>\n",
       "<path clip-path=\"url(#clip270)\" d=\"M65.0198 1240.84 Q61.4087 1240.84 59.58 1244.41 Q57.7745 1247.95 57.7745 1255.08 Q57.7745 1262.19 59.58 1265.75 Q61.4087 1269.29 65.0198 1269.29 Q68.6541 1269.29 70.4596 1265.75 Q72.2883 1262.19 72.2883 1255.08 Q72.2883 1247.95 70.4596 1244.41 Q68.6541 1240.84 65.0198 1240.84 M65.0198 1237.14 Q70.83 1237.14 73.8855 1241.75 Q76.9642 1246.33 76.9642 1255.08 Q76.9642 1263.81 73.8855 1268.41 Q70.83 1273 65.0198 1273 Q59.2097 1273 56.131 1268.41 Q53.0754 1263.81 53.0754 1255.08 Q53.0754 1246.33 56.131 1241.75 Q59.2097 1237.14 65.0198 1237.14 Z\" fill=\"#000000\" fill-rule=\"nonzero\" fill-opacity=\"1\" /><path clip-path=\"url(#clip270)\" d=\"M85.1818 1266.44 L90.066 1266.44 L90.066 1272.32 L85.1818 1272.32 L85.1818 1266.44 Z\" fill=\"#000000\" fill-rule=\"nonzero\" fill-opacity=\"1\" /><path clip-path=\"url(#clip270)\" d=\"M104.279 1268.39 L120.598 1268.39 L120.598 1272.32 L98.6539 1272.32 L98.6539 1268.39 Q101.316 1265.63 105.899 1261 Q110.506 1256.35 111.686 1255.01 Q113.932 1252.49 114.811 1250.75 Q115.714 1248.99 115.714 1247.3 Q115.714 1244.55 113.77 1242.81 Q111.848 1241.07 108.746 1241.07 Q106.547 1241.07 104.094 1241.84 Q101.663 1242.6 98.8854 1244.15 L98.8854 1239.43 Q101.709 1238.3 104.163 1237.72 Q106.617 1237.14 108.654 1237.14 Q114.024 1237.14 117.219 1239.82 Q120.413 1242.51 120.413 1247 Q120.413 1249.13 119.603 1251.05 Q118.816 1252.95 116.709 1255.54 Q116.131 1256.21 113.029 1259.43 Q109.927 1262.63 104.279 1268.39 Z\" fill=\"#000000\" fill-rule=\"nonzero\" fill-opacity=\"1\" /><path clip-path=\"url(#clip270)\" d=\"M62.9365 948.656 Q59.3254 948.656 57.4967 952.22 Q55.6912 955.762 55.6912 962.892 Q55.6912 969.998 57.4967 973.563 Q59.3254 977.105 62.9365 977.105 Q66.5707 977.105 68.3763 973.563 Q70.205 969.998 70.205 962.892 Q70.205 955.762 68.3763 952.22 Q66.5707 948.656 62.9365 948.656 M62.9365 944.952 Q68.7467 944.952 71.8022 949.558 Q74.8809 954.142 74.8809 962.892 Q74.8809 971.619 71.8022 976.225 Q68.7467 980.808 62.9365 980.808 Q57.1264 980.808 54.0477 976.225 Q50.9921 971.619 50.9921 962.892 Q50.9921 954.142 54.0477 949.558 Q57.1264 944.952 62.9365 944.952 Z\" fill=\"#000000\" fill-rule=\"nonzero\" fill-opacity=\"1\" /><path clip-path=\"url(#clip270)\" d=\"M83.0984 974.257 L87.9827 974.257 L87.9827 980.137 L83.0984 980.137 L83.0984 974.257 Z\" fill=\"#000000\" fill-rule=\"nonzero\" fill-opacity=\"1\" /><path clip-path=\"url(#clip270)\" d=\"M111.015 949.651 L99.2095 968.1 L111.015 968.1 L111.015 949.651 M109.788 945.577 L115.668 945.577 L115.668 968.1 L120.598 968.1 L120.598 971.989 L115.668 971.989 L115.668 980.137 L111.015 980.137 L111.015 971.989 L95.4132 971.989 L95.4132 967.475 L109.788 945.577 Z\" fill=\"#000000\" fill-rule=\"nonzero\" fill-opacity=\"1\" /><path clip-path=\"url(#clip270)\" d=\"M63.2606 656.469 Q59.6495 656.469 57.8208 660.033 Q56.0152 663.575 56.0152 670.705 Q56.0152 677.811 57.8208 681.376 Q59.6495 684.917 63.2606 684.917 Q66.8948 684.917 68.7004 681.376 Q70.5291 677.811 70.5291 670.705 Q70.5291 663.575 68.7004 660.033 Q66.8948 656.469 63.2606 656.469 M63.2606 652.765 Q69.0707 652.765 72.1263 657.371 Q75.205 661.955 75.205 670.705 Q75.205 679.431 72.1263 684.038 Q69.0707 688.621 63.2606 688.621 Q57.4504 688.621 54.3717 684.038 Q51.3162 679.431 51.3162 670.705 Q51.3162 661.955 54.3717 657.371 Q57.4504 652.765 63.2606 652.765 Z\" fill=\"#000000\" fill-rule=\"nonzero\" fill-opacity=\"1\" /><path clip-path=\"url(#clip270)\" d=\"M83.4225 682.07 L88.3067 682.07 L88.3067 687.95 L83.4225 687.95 L83.4225 682.07 Z\" fill=\"#000000\" fill-rule=\"nonzero\" fill-opacity=\"1\" /><path clip-path=\"url(#clip270)\" d=\"M109.071 668.806 Q105.922 668.806 104.071 670.959 Q102.242 673.112 102.242 676.862 Q102.242 680.589 104.071 682.765 Q105.922 684.917 109.071 684.917 Q112.219 684.917 114.047 682.765 Q115.899 680.589 115.899 676.862 Q115.899 673.112 114.047 670.959 Q112.219 668.806 109.071 668.806 M118.353 654.154 L118.353 658.413 Q116.594 657.58 114.788 657.14 Q113.006 656.7 111.246 656.7 Q106.617 656.7 104.163 659.825 Q101.733 662.95 101.385 669.269 Q102.751 667.256 104.811 666.191 Q106.871 665.103 109.348 665.103 Q114.557 665.103 117.566 668.274 Q120.598 671.422 120.598 676.862 Q120.598 682.186 117.45 685.404 Q114.302 688.621 109.071 688.621 Q103.075 688.621 99.9039 684.038 Q96.7326 679.431 96.7326 670.705 Q96.7326 662.51 100.621 657.649 Q104.51 652.765 111.061 652.765 Q112.82 652.765 114.603 653.112 Q116.408 653.459 118.353 654.154 Z\" fill=\"#000000\" fill-rule=\"nonzero\" fill-opacity=\"1\" /><path clip-path=\"url(#clip270)\" d=\"M63.5152 364.281 Q59.9041 364.281 58.0754 367.846 Q56.2699 371.388 56.2699 378.517 Q56.2699 385.624 58.0754 389.189 Q59.9041 392.73 63.5152 392.73 Q67.1494 392.73 68.955 389.189 Q70.7837 385.624 70.7837 378.517 Q70.7837 371.388 68.955 367.846 Q67.1494 364.281 63.5152 364.281 M63.5152 360.578 Q69.3254 360.578 72.3809 365.184 Q75.4596 369.767 75.4596 378.517 Q75.4596 387.244 72.3809 391.851 Q69.3254 396.434 63.5152 396.434 Q57.7051 396.434 54.6264 391.851 Q51.5708 387.244 51.5708 378.517 Q51.5708 369.767 54.6264 365.184 Q57.7051 360.578 63.5152 360.578 Z\" fill=\"#000000\" fill-rule=\"nonzero\" fill-opacity=\"1\" /><path clip-path=\"url(#clip270)\" d=\"M83.6771 389.883 L88.5614 389.883 L88.5614 395.763 L83.6771 395.763 L83.6771 389.883 Z\" fill=\"#000000\" fill-rule=\"nonzero\" fill-opacity=\"1\" /><path clip-path=\"url(#clip270)\" d=\"M108.746 379.351 Q105.413 379.351 103.492 381.133 Q101.594 382.916 101.594 386.041 Q101.594 389.166 103.492 390.948 Q105.413 392.73 108.746 392.73 Q112.08 392.73 114.001 390.948 Q115.922 389.142 115.922 386.041 Q115.922 382.916 114.001 381.133 Q112.103 379.351 108.746 379.351 M104.071 377.36 Q101.061 376.619 99.3715 374.559 Q97.7048 372.499 97.7048 369.536 Q97.7048 365.393 100.645 362.985 Q103.608 360.578 108.746 360.578 Q113.908 360.578 116.848 362.985 Q119.788 365.393 119.788 369.536 Q119.788 372.499 118.098 374.559 Q116.432 376.619 113.445 377.36 Q116.825 378.147 118.7 380.439 Q120.598 382.73 120.598 386.041 Q120.598 391.064 117.52 393.749 Q114.464 396.434 108.746 396.434 Q103.029 396.434 99.9502 393.749 Q96.8947 391.064 96.8947 386.041 Q96.8947 382.73 98.7928 380.439 Q100.691 378.147 104.071 377.36 M102.358 369.976 Q102.358 372.661 104.024 374.166 Q105.714 375.67 108.746 375.67 Q111.756 375.67 113.445 374.166 Q115.158 372.661 115.158 369.976 Q115.158 367.291 113.445 365.786 Q111.756 364.281 108.746 364.281 Q105.714 364.281 104.024 365.786 Q102.358 367.291 102.358 369.976 Z\" fill=\"#000000\" fill-rule=\"nonzero\" fill-opacity=\"1\" /><path clip-path=\"url(#clip270)\" d=\"M54.2328 99.6404 L61.8717 99.6404 L61.8717 73.2748 L53.5616 74.9415 L53.5616 70.6822 L61.8254 69.0156 L66.5013 69.0156 L66.5013 99.6404 L74.1402 99.6404 L74.1402 103.576 L54.2328 103.576 L54.2328 99.6404 Z\" fill=\"#000000\" fill-rule=\"nonzero\" fill-opacity=\"1\" /><path clip-path=\"url(#clip270)\" d=\"M83.5845 97.696 L88.4688 97.696 L88.4688 103.576 L83.5845 103.576 L83.5845 97.696 Z\" fill=\"#000000\" fill-rule=\"nonzero\" fill-opacity=\"1\" /><path clip-path=\"url(#clip270)\" d=\"M108.654 72.0943 Q105.043 72.0943 103.214 75.6591 Q101.409 79.2007 101.409 86.3303 Q101.409 93.4368 103.214 97.0015 Q105.043 100.543 108.654 100.543 Q112.288 100.543 114.094 97.0015 Q115.922 93.4368 115.922 86.3303 Q115.922 79.2007 114.094 75.6591 Q112.288 72.0943 108.654 72.0943 M108.654 68.3906 Q114.464 68.3906 117.52 72.997 Q120.598 77.5804 120.598 86.3303 Q120.598 95.0571 117.52 99.6636 Q114.464 104.247 108.654 104.247 Q102.844 104.247 99.765 99.6636 Q96.7095 95.0571 96.7095 86.3303 Q96.7095 77.5804 99.765 72.997 Q102.844 68.3906 108.654 68.3906 Z\" fill=\"#000000\" fill-rule=\"nonzero\" fill-opacity=\"1\" /><polyline clip-path=\"url(#clip272)\" style=\"stroke:#009af9; stroke-linecap:round; stroke-linejoin:round; stroke-width:4; stroke-opacity:1; fill:none\" points=\"218.754,87.9763 378.126,123.123 537.499,271.596 696.872,320.039 856.245,643.139 1015.62,701.361 1174.99,454.361 1334.36,582.255 1493.74,901.44 1653.11,1210.56 1812.48,1153.29 1971.85,1299.48 2131.23,1420.13 2290.6,1445.72 \"/>\n",
       "<polyline clip-path=\"url(#clip272)\" style=\"stroke:#e26f46; stroke-linecap:round; stroke-linejoin:round; stroke-width:4; stroke-opacity:1; fill:none\" points=\"218.754,88.021 378.126,125.644 537.499,302.907 696.872,468.423 856.245,658.242 1015.62,594.984 1174.99,1119.47 1334.36,1066.17 1493.74,1028.22 1653.11,1391 1812.48,1353.36 1971.85,1189.68 2131.23,1280.52 2290.6,1326.08 \"/>\n",
       "<path clip-path=\"url(#clip270)\" d=\"M1904.29 250.738 L2279.55 250.738 L2279.55 95.2176 L1904.29 95.2176  Z\" fill=\"#ffffff\" fill-rule=\"evenodd\" fill-opacity=\"1\"/>\n",
       "<polyline clip-path=\"url(#clip270)\" style=\"stroke:#000000; stroke-linecap:round; stroke-linejoin:round; stroke-width:4; stroke-opacity:1; fill:none\" points=\"1904.29,250.738 2279.55,250.738 2279.55,95.2176 1904.29,95.2176 1904.29,250.738 \"/>\n",
       "<polyline clip-path=\"url(#clip270)\" style=\"stroke:#009af9; stroke-linecap:round; stroke-linejoin:round; stroke-width:4; stroke-opacity:1; fill:none\" points=\"1928.69,147.058 2075.1,147.058 \"/>\n",
       "<path clip-path=\"url(#clip270)\" d=\"M2106.61 129.778 L2111.28 129.778 L2111.28 161.93 Q2111.28 168.18 2108.9 171.004 Q2106.54 173.828 2101.28 173.828 L2099.5 173.828 L2099.5 169.893 L2100.96 169.893 Q2104.06 169.893 2105.33 168.157 Q2106.61 166.421 2106.61 161.93 L2106.61 129.778 Z\" fill=\"#000000\" fill-rule=\"nonzero\" fill-opacity=\"1\" /><path clip-path=\"url(#clip270)\" d=\"M2119.96 154.106 L2119.96 138.412 L2124.22 138.412 L2124.22 153.944 Q2124.22 157.625 2125.66 159.476 Q2127.09 161.305 2129.96 161.305 Q2133.41 161.305 2135.4 159.106 Q2137.42 156.907 2137.42 153.111 L2137.42 138.412 L2141.68 138.412 L2141.68 164.338 L2137.42 164.338 L2137.42 160.356 Q2135.87 162.717 2133.81 163.875 Q2131.77 165.009 2129.06 165.009 Q2124.59 165.009 2122.28 162.231 Q2119.96 159.453 2119.96 154.106 M2130.68 137.787 L2130.68 137.787 Z\" fill=\"#000000\" fill-rule=\"nonzero\" fill-opacity=\"1\" /><path clip-path=\"url(#clip270)\" d=\"M2150.45 128.319 L2154.71 128.319 L2154.71 164.338 L2150.45 164.338 L2150.45 128.319 Z\" fill=\"#000000\" fill-rule=\"nonzero\" fill-opacity=\"1\" /><path clip-path=\"url(#clip270)\" d=\"M2163.62 138.412 L2167.88 138.412 L2167.88 164.338 L2163.62 164.338 L2163.62 138.412 M2163.62 128.319 L2167.88 128.319 L2167.88 133.713 L2163.62 133.713 L2163.62 128.319 Z\" fill=\"#000000\" fill-rule=\"nonzero\" fill-opacity=\"1\" /><path clip-path=\"url(#clip270)\" d=\"M2188.58 151.305 Q2183.41 151.305 2181.42 152.486 Q2179.43 153.666 2179.43 156.514 Q2179.43 158.782 2180.91 160.125 Q2182.42 161.444 2184.99 161.444 Q2188.53 161.444 2190.66 158.944 Q2192.81 156.421 2192.81 152.254 L2192.81 151.305 L2188.58 151.305 M2197.07 149.546 L2197.07 164.338 L2192.81 164.338 L2192.81 160.402 Q2191.35 162.763 2189.18 163.898 Q2187 165.009 2183.85 165.009 Q2179.87 165.009 2177.51 162.787 Q2175.17 160.541 2175.17 156.791 Q2175.17 152.416 2178.09 150.194 Q2181.03 147.972 2186.84 147.972 L2192.81 147.972 L2192.81 147.555 Q2192.81 144.615 2190.87 143.018 Q2188.95 141.398 2185.45 141.398 Q2183.23 141.398 2181.12 141.93 Q2179.02 142.463 2177.07 143.527 L2177.07 139.592 Q2179.41 138.69 2181.61 138.25 Q2183.81 137.787 2185.89 137.787 Q2191.51 137.787 2194.29 140.703 Q2197.07 143.62 2197.07 149.546 Z\" fill=\"#000000\" fill-rule=\"nonzero\" fill-opacity=\"1\" /><polyline clip-path=\"url(#clip270)\" style=\"stroke:#e26f46; stroke-linecap:round; stroke-linejoin:round; stroke-width:4; stroke-opacity:1; fill:none\" points=\"1928.69,198.898 2075.1,198.898 \"/>\n",
       "<path clip-path=\"url(#clip270)\" d=\"M2104.18 185.46 L2104.18 198.446 L2110.06 198.446 Q2113.32 198.446 2115.1 196.756 Q2116.89 195.067 2116.89 191.942 Q2116.89 188.84 2115.1 187.15 Q2113.32 185.46 2110.06 185.46 L2104.18 185.46 M2099.5 181.618 L2110.06 181.618 Q2115.87 181.618 2118.83 184.256 Q2121.82 186.872 2121.82 191.942 Q2121.82 197.057 2118.83 199.673 Q2115.87 202.289 2110.06 202.289 L2104.18 202.289 L2104.18 216.178 L2099.5 216.178 L2099.5 181.618 Z\" fill=\"#000000\" fill-rule=\"nonzero\" fill-opacity=\"1\" /><path clip-path=\"url(#clip270)\" d=\"M2138.69 218.585 Q2136.89 223.215 2135.17 224.627 Q2133.46 226.039 2130.59 226.039 L2127.19 226.039 L2127.19 222.474 L2129.69 222.474 Q2131.45 222.474 2132.42 221.64 Q2133.39 220.807 2134.57 217.705 L2135.33 215.761 L2124.85 190.252 L2129.36 190.252 L2137.46 210.529 L2145.57 190.252 L2150.08 190.252 L2138.69 218.585 Z\" fill=\"#000000\" fill-rule=\"nonzero\" fill-opacity=\"1\" /><path clip-path=\"url(#clip270)\" d=\"M2160.17 182.891 L2160.17 190.252 L2168.95 190.252 L2168.95 193.562 L2160.17 193.562 L2160.17 207.636 Q2160.17 210.807 2161.03 211.71 Q2161.91 212.613 2164.57 212.613 L2168.95 212.613 L2168.95 216.178 L2164.57 216.178 Q2159.64 216.178 2157.77 214.349 Q2155.89 212.497 2155.89 207.636 L2155.89 193.562 L2152.77 193.562 L2152.77 190.252 L2155.89 190.252 L2155.89 182.891 L2160.17 182.891 Z\" fill=\"#000000\" fill-rule=\"nonzero\" fill-opacity=\"1\" /><path clip-path=\"url(#clip270)\" d=\"M2196.1 200.529 L2196.1 216.178 L2191.84 216.178 L2191.84 200.668 Q2191.84 196.988 2190.4 195.159 Q2188.97 193.33 2186.1 193.33 Q2182.65 193.33 2180.66 195.53 Q2178.67 197.729 2178.67 201.525 L2178.67 216.178 L2174.39 216.178 L2174.39 180.159 L2178.67 180.159 L2178.67 194.28 Q2180.2 191.942 2182.26 190.784 Q2184.34 189.627 2187.05 189.627 Q2191.51 189.627 2193.81 192.405 Q2196.1 195.159 2196.1 200.529 Z\" fill=\"#000000\" fill-rule=\"nonzero\" fill-opacity=\"1\" /><path clip-path=\"url(#clip270)\" d=\"M2214.64 193.238 Q2211.21 193.238 2209.22 195.923 Q2207.23 198.585 2207.23 203.238 Q2207.23 207.891 2209.2 210.576 Q2211.19 213.238 2214.64 213.238 Q2218.04 213.238 2220.03 210.553 Q2222.02 207.867 2222.02 203.238 Q2222.02 198.631 2220.03 195.946 Q2218.04 193.238 2214.64 193.238 M2214.64 189.627 Q2220.2 189.627 2223.37 193.238 Q2226.54 196.849 2226.54 203.238 Q2226.54 209.604 2223.37 213.238 Q2220.2 216.849 2214.64 216.849 Q2209.06 216.849 2205.89 213.238 Q2202.74 209.604 2202.74 203.238 Q2202.74 196.849 2205.89 193.238 Q2209.06 189.627 2214.64 189.627 Z\" fill=\"#000000\" fill-rule=\"nonzero\" fill-opacity=\"1\" /><path clip-path=\"url(#clip270)\" d=\"M2255.15 200.529 L2255.15 216.178 L2250.89 216.178 L2250.89 200.668 Q2250.89 196.988 2249.45 195.159 Q2248.02 193.33 2245.15 193.33 Q2241.7 193.33 2239.71 195.53 Q2237.72 197.729 2237.72 201.525 L2237.72 216.178 L2233.44 216.178 L2233.44 190.252 L2237.72 190.252 L2237.72 194.28 Q2239.25 191.942 2241.31 190.784 Q2243.39 189.627 2246.1 189.627 Q2250.57 189.627 2252.86 192.405 Q2255.15 195.159 2255.15 200.529 Z\" fill=\"#000000\" fill-rule=\"nonzero\" fill-opacity=\"1\" /></svg>\n"
      ],
      "text/html": [
       "<?xml version=\"1.0\" encoding=\"utf-8\"?>\n",
       "<svg xmlns=\"http://www.w3.org/2000/svg\" xmlns:xlink=\"http://www.w3.org/1999/xlink\" width=\"600\" height=\"400\" viewBox=\"0 0 2400 1600\">\n",
       "<defs>\n",
       "  <clipPath id=\"clip320\">\n",
       "    <rect x=\"0\" y=\"0\" width=\"2400\" height=\"1600\"/>\n",
       "  </clipPath>\n",
       "</defs>\n",
       "<path clip-path=\"url(#clip320)\" d=\"M0 1600 L2400 1600 L2400 0 L0 0  Z\" fill=\"#ffffff\" fill-rule=\"evenodd\" fill-opacity=\"1\"/>\n",
       "<defs>\n",
       "  <clipPath id=\"clip321\">\n",
       "    <rect x=\"480\" y=\"0\" width=\"1681\" height=\"1600\"/>\n",
       "  </clipPath>\n",
       "</defs>\n",
       "<path clip-path=\"url(#clip320)\" d=\"M156.598 1486.45 L2352.76 1486.45 L2352.76 47.2441 L156.598 47.2441  Z\" fill=\"#ffffff\" fill-rule=\"evenodd\" fill-opacity=\"1\"/>\n",
       "<defs>\n",
       "  <clipPath id=\"clip322\">\n",
       "    <rect x=\"156\" y=\"47\" width=\"2197\" height=\"1440\"/>\n",
       "  </clipPath>\n",
       "</defs>\n",
       "<polyline clip-path=\"url(#clip322)\" style=\"stroke:#000000; stroke-linecap:round; stroke-linejoin:round; stroke-width:2; stroke-opacity:0.1; fill:none\" points=\"457.813,1486.45 457.813,47.2441 \"/>\n",
       "<polyline clip-path=\"url(#clip322)\" style=\"stroke:#000000; stroke-linecap:round; stroke-linejoin:round; stroke-width:2; stroke-opacity:0.1; fill:none\" points=\"856.245,1486.45 856.245,47.2441 \"/>\n",
       "<polyline clip-path=\"url(#clip322)\" style=\"stroke:#000000; stroke-linecap:round; stroke-linejoin:round; stroke-width:2; stroke-opacity:0.1; fill:none\" points=\"1254.68,1486.45 1254.68,47.2441 \"/>\n",
       "<polyline clip-path=\"url(#clip322)\" style=\"stroke:#000000; stroke-linecap:round; stroke-linejoin:round; stroke-width:2; stroke-opacity:0.1; fill:none\" points=\"1653.11,1486.45 1653.11,47.2441 \"/>\n",
       "<polyline clip-path=\"url(#clip322)\" style=\"stroke:#000000; stroke-linecap:round; stroke-linejoin:round; stroke-width:2; stroke-opacity:0.1; fill:none\" points=\"2051.54,1486.45 2051.54,47.2441 \"/>\n",
       "<polyline clip-path=\"url(#clip322)\" style=\"stroke:#000000; stroke-linecap:round; stroke-linejoin:round; stroke-width:2; stroke-opacity:0.1; fill:none\" points=\"156.598,1255.04 2352.76,1255.04 \"/>\n",
       "<polyline clip-path=\"url(#clip322)\" style=\"stroke:#000000; stroke-linecap:round; stroke-linejoin:round; stroke-width:2; stroke-opacity:0.1; fill:none\" points=\"156.598,962.857 2352.76,962.857 \"/>\n",
       "<polyline clip-path=\"url(#clip322)\" style=\"stroke:#000000; stroke-linecap:round; stroke-linejoin:round; stroke-width:2; stroke-opacity:0.1; fill:none\" points=\"156.598,670.67 2352.76,670.67 \"/>\n",
       "<polyline clip-path=\"url(#clip322)\" style=\"stroke:#000000; stroke-linecap:round; stroke-linejoin:round; stroke-width:2; stroke-opacity:0.1; fill:none\" points=\"156.598,378.483 2352.76,378.483 \"/>\n",
       "<polyline clip-path=\"url(#clip322)\" style=\"stroke:#000000; stroke-linecap:round; stroke-linejoin:round; stroke-width:2; stroke-opacity:0.1; fill:none\" points=\"156.598,86.2956 2352.76,86.2956 \"/>\n",
       "<polyline clip-path=\"url(#clip320)\" style=\"stroke:#000000; stroke-linecap:round; stroke-linejoin:round; stroke-width:4; stroke-opacity:1; fill:none\" points=\"156.598,1486.45 2352.76,1486.45 \"/>\n",
       "<polyline clip-path=\"url(#clip320)\" style=\"stroke:#000000; stroke-linecap:round; stroke-linejoin:round; stroke-width:4; stroke-opacity:1; fill:none\" points=\"457.813,1486.45 457.813,1467.55 \"/>\n",
       "<polyline clip-path=\"url(#clip320)\" style=\"stroke:#000000; stroke-linecap:round; stroke-linejoin:round; stroke-width:4; stroke-opacity:1; fill:none\" points=\"856.245,1486.45 856.245,1467.55 \"/>\n",
       "<polyline clip-path=\"url(#clip320)\" style=\"stroke:#000000; stroke-linecap:round; stroke-linejoin:round; stroke-width:4; stroke-opacity:1; fill:none\" points=\"1254.68,1486.45 1254.68,1467.55 \"/>\n",
       "<polyline clip-path=\"url(#clip320)\" style=\"stroke:#000000; stroke-linecap:round; stroke-linejoin:round; stroke-width:4; stroke-opacity:1; fill:none\" points=\"1653.11,1486.45 1653.11,1467.55 \"/>\n",
       "<polyline clip-path=\"url(#clip320)\" style=\"stroke:#000000; stroke-linecap:round; stroke-linejoin:round; stroke-width:4; stroke-opacity:1; fill:none\" points=\"2051.54,1486.45 2051.54,1467.55 \"/>\n",
       "<path clip-path=\"url(#clip320)\" d=\"M429.549 1544.91 L445.869 1544.91 L445.869 1548.85 L423.924 1548.85 L423.924 1544.91 Q426.586 1542.16 431.17 1537.53 Q435.776 1532.88 436.957 1531.53 Q439.202 1529.01 440.082 1527.27 Q440.984 1525.51 440.984 1523.82 Q440.984 1521.07 439.04 1519.33 Q437.119 1517.6 434.017 1517.6 Q431.818 1517.6 429.364 1518.36 Q426.933 1519.13 424.156 1520.68 L424.156 1515.95 Q426.98 1514.82 429.433 1514.24 Q431.887 1513.66 433.924 1513.66 Q439.294 1513.66 442.489 1516.35 Q445.683 1519.03 445.683 1523.52 Q445.683 1525.65 444.873 1527.57 Q444.086 1529.47 441.98 1532.07 Q441.401 1532.74 438.299 1535.95 Q435.197 1539.15 429.549 1544.91 Z\" fill=\"#000000\" fill-rule=\"nonzero\" fill-opacity=\"1\" /><path clip-path=\"url(#clip320)\" d=\"M455.683 1542.97 L460.568 1542.97 L460.568 1548.85 L455.683 1548.85 L455.683 1542.97 Z\" fill=\"#000000\" fill-rule=\"nonzero\" fill-opacity=\"1\" /><path clip-path=\"url(#clip320)\" d=\"M470.799 1514.29 L489.155 1514.29 L489.155 1518.22 L475.081 1518.22 L475.081 1526.7 Q476.1 1526.35 477.118 1526.19 Q478.137 1526 479.155 1526 Q484.942 1526 488.322 1529.17 Q491.702 1532.34 491.702 1537.76 Q491.702 1543.34 488.229 1546.44 Q484.757 1549.52 478.438 1549.52 Q476.262 1549.52 473.993 1549.15 Q471.748 1548.78 469.341 1548.04 L469.341 1543.34 Q471.424 1544.47 473.646 1545.03 Q475.868 1545.58 478.345 1545.58 Q482.35 1545.58 484.688 1543.48 Q487.026 1541.37 487.026 1537.76 Q487.026 1534.15 484.688 1532.04 Q482.35 1529.94 478.345 1529.94 Q476.47 1529.94 474.595 1530.35 Q472.743 1530.77 470.799 1531.65 L470.799 1514.29 Z\" fill=\"#000000\" fill-rule=\"nonzero\" fill-opacity=\"1\" /><path clip-path=\"url(#clip320)\" d=\"M823.41 1514.29 L841.766 1514.29 L841.766 1518.22 L827.692 1518.22 L827.692 1526.7 Q828.71 1526.35 829.729 1526.19 Q830.747 1526 831.766 1526 Q837.553 1526 840.933 1529.17 Q844.312 1532.34 844.312 1537.76 Q844.312 1543.34 840.84 1546.44 Q837.368 1549.52 831.048 1549.52 Q828.872 1549.52 826.604 1549.15 Q824.359 1548.78 821.951 1548.04 L821.951 1543.34 Q824.035 1544.47 826.257 1545.03 Q828.479 1545.58 830.956 1545.58 Q834.96 1545.58 837.298 1543.48 Q839.636 1541.37 839.636 1537.76 Q839.636 1534.15 837.298 1532.04 Q834.96 1529.94 830.956 1529.94 Q829.081 1529.94 827.206 1530.35 Q825.354 1530.77 823.41 1531.65 L823.41 1514.29 Z\" fill=\"#000000\" fill-rule=\"nonzero\" fill-opacity=\"1\" /><path clip-path=\"url(#clip320)\" d=\"M853.525 1542.97 L858.409 1542.97 L858.409 1548.85 L853.525 1548.85 L853.525 1542.97 Z\" fill=\"#000000\" fill-rule=\"nonzero\" fill-opacity=\"1\" /><path clip-path=\"url(#clip320)\" d=\"M878.594 1517.37 Q874.983 1517.37 873.155 1520.93 Q871.349 1524.47 871.349 1531.6 Q871.349 1538.71 873.155 1542.27 Q874.983 1545.82 878.594 1545.82 Q882.229 1545.82 884.034 1542.27 Q885.863 1538.71 885.863 1531.6 Q885.863 1524.47 884.034 1520.93 Q882.229 1517.37 878.594 1517.37 M878.594 1513.66 Q884.405 1513.66 887.46 1518.27 Q890.539 1522.85 890.539 1531.6 Q890.539 1540.33 887.46 1544.94 Q884.405 1549.52 878.594 1549.52 Q872.784 1549.52 869.706 1544.94 Q866.65 1540.33 866.65 1531.6 Q866.65 1522.85 869.706 1518.27 Q872.784 1513.66 878.594 1513.66 Z\" fill=\"#000000\" fill-rule=\"nonzero\" fill-opacity=\"1\" /><path clip-path=\"url(#clip320)\" d=\"M1221 1514.29 L1243.22 1514.29 L1243.22 1516.28 L1230.67 1548.85 L1225.79 1548.85 L1237.59 1518.22 L1221 1518.22 L1221 1514.29 Z\" fill=\"#000000\" fill-rule=\"nonzero\" fill-opacity=\"1\" /><path clip-path=\"url(#clip320)\" d=\"M1252.34 1542.97 L1257.22 1542.97 L1257.22 1548.85 L1252.34 1548.85 L1252.34 1542.97 Z\" fill=\"#000000\" fill-rule=\"nonzero\" fill-opacity=\"1\" /><path clip-path=\"url(#clip320)\" d=\"M1267.45 1514.29 L1285.81 1514.29 L1285.81 1518.22 L1271.74 1518.22 L1271.74 1526.7 Q1272.76 1526.35 1273.77 1526.19 Q1274.79 1526 1275.81 1526 Q1281.6 1526 1284.98 1529.17 Q1288.36 1532.34 1288.36 1537.76 Q1288.36 1543.34 1284.89 1546.44 Q1281.41 1549.52 1275.09 1549.52 Q1272.92 1549.52 1270.65 1549.15 Q1268.4 1548.78 1266 1548.04 L1266 1543.34 Q1268.08 1544.47 1270.3 1545.03 Q1272.52 1545.58 1275 1545.58 Q1279.01 1545.58 1281.34 1543.48 Q1283.68 1541.37 1283.68 1537.76 Q1283.68 1534.15 1281.34 1532.04 Q1279.01 1529.94 1275 1529.94 Q1273.13 1529.94 1271.25 1530.35 Q1269.4 1530.77 1267.45 1531.65 L1267.45 1514.29 Z\" fill=\"#000000\" fill-rule=\"nonzero\" fill-opacity=\"1\" /><path clip-path=\"url(#clip320)\" d=\"M1605.18 1544.91 L1612.82 1544.91 L1612.82 1518.55 L1604.51 1520.21 L1604.51 1515.95 L1612.77 1514.29 L1617.45 1514.29 L1617.45 1544.91 L1625.09 1544.91 L1625.09 1548.85 L1605.18 1548.85 L1605.18 1544.91 Z\" fill=\"#000000\" fill-rule=\"nonzero\" fill-opacity=\"1\" /><path clip-path=\"url(#clip320)\" d=\"M1644.53 1517.37 Q1640.92 1517.37 1639.09 1520.93 Q1637.29 1524.47 1637.29 1531.6 Q1637.29 1538.71 1639.09 1542.27 Q1640.92 1545.82 1644.53 1545.82 Q1648.17 1545.82 1649.97 1542.27 Q1651.8 1538.71 1651.8 1531.6 Q1651.8 1524.47 1649.97 1520.93 Q1648.17 1517.37 1644.53 1517.37 M1644.53 1513.66 Q1650.34 1513.66 1653.4 1518.27 Q1656.48 1522.85 1656.48 1531.6 Q1656.48 1540.33 1653.4 1544.94 Q1650.34 1549.52 1644.53 1549.52 Q1638.72 1549.52 1635.64 1544.94 Q1632.59 1540.33 1632.59 1531.6 Q1632.59 1522.85 1635.64 1518.27 Q1638.72 1513.66 1644.53 1513.66 Z\" fill=\"#000000\" fill-rule=\"nonzero\" fill-opacity=\"1\" /><path clip-path=\"url(#clip320)\" d=\"M1664.69 1542.97 L1669.58 1542.97 L1669.58 1548.85 L1664.69 1548.85 L1664.69 1542.97 Z\" fill=\"#000000\" fill-rule=\"nonzero\" fill-opacity=\"1\" /><path clip-path=\"url(#clip320)\" d=\"M1689.76 1517.37 Q1686.15 1517.37 1684.32 1520.93 Q1682.52 1524.47 1682.52 1531.6 Q1682.52 1538.71 1684.32 1542.27 Q1686.15 1545.82 1689.76 1545.82 Q1693.4 1545.82 1695.2 1542.27 Q1697.03 1538.71 1697.03 1531.6 Q1697.03 1524.47 1695.2 1520.93 Q1693.4 1517.37 1689.76 1517.37 M1689.76 1513.66 Q1695.57 1513.66 1698.63 1518.27 Q1701.71 1522.85 1701.71 1531.6 Q1701.71 1540.33 1698.63 1544.94 Q1695.57 1549.52 1689.76 1549.52 Q1683.95 1549.52 1680.88 1544.94 Q1677.82 1540.33 1677.82 1531.6 Q1677.82 1522.85 1680.88 1518.27 Q1683.95 1513.66 1689.76 1513.66 Z\" fill=\"#000000\" fill-rule=\"nonzero\" fill-opacity=\"1\" /><path clip-path=\"url(#clip320)\" d=\"M2004.11 1544.91 L2011.75 1544.91 L2011.75 1518.55 L2003.44 1520.21 L2003.44 1515.95 L2011.7 1514.29 L2016.38 1514.29 L2016.38 1544.91 L2024.02 1544.91 L2024.02 1548.85 L2004.11 1548.85 L2004.11 1544.91 Z\" fill=\"#000000\" fill-rule=\"nonzero\" fill-opacity=\"1\" /><path clip-path=\"url(#clip320)\" d=\"M2037.49 1544.91 L2053.81 1544.91 L2053.81 1548.85 L2031.87 1548.85 L2031.87 1544.91 Q2034.53 1542.16 2039.11 1537.53 Q2043.72 1532.88 2044.9 1531.53 Q2047.14 1529.01 2048.02 1527.27 Q2048.93 1525.51 2048.93 1523.82 Q2048.93 1521.07 2046.98 1519.33 Q2045.06 1517.6 2041.96 1517.6 Q2039.76 1517.6 2037.31 1518.36 Q2034.87 1519.13 2032.1 1520.68 L2032.1 1515.95 Q2034.92 1514.82 2037.37 1514.24 Q2039.83 1513.66 2041.87 1513.66 Q2047.24 1513.66 2050.43 1516.35 Q2053.62 1519.03 2053.62 1523.52 Q2053.62 1525.65 2052.81 1527.57 Q2052.03 1529.47 2049.92 1532.07 Q2049.34 1532.74 2046.24 1535.95 Q2043.14 1539.15 2037.49 1544.91 Z\" fill=\"#000000\" fill-rule=\"nonzero\" fill-opacity=\"1\" /><path clip-path=\"url(#clip320)\" d=\"M2063.62 1542.97 L2068.51 1542.97 L2068.51 1548.85 L2063.62 1548.85 L2063.62 1542.97 Z\" fill=\"#000000\" fill-rule=\"nonzero\" fill-opacity=\"1\" /><path clip-path=\"url(#clip320)\" d=\"M2078.74 1514.29 L2097.1 1514.29 L2097.1 1518.22 L2083.02 1518.22 L2083.02 1526.7 Q2084.04 1526.35 2085.06 1526.19 Q2086.08 1526 2087.1 1526 Q2092.88 1526 2096.26 1529.17 Q2099.64 1532.34 2099.64 1537.76 Q2099.64 1543.34 2096.17 1546.44 Q2092.7 1549.52 2086.38 1549.52 Q2084.2 1549.52 2081.93 1549.15 Q2079.69 1548.78 2077.28 1548.04 L2077.28 1543.34 Q2079.37 1544.47 2081.59 1545.03 Q2083.81 1545.58 2086.29 1545.58 Q2090.29 1545.58 2092.63 1543.48 Q2094.97 1541.37 2094.97 1537.76 Q2094.97 1534.15 2092.63 1532.04 Q2090.29 1529.94 2086.29 1529.94 Q2084.41 1529.94 2082.54 1530.35 Q2080.68 1530.77 2078.74 1531.65 L2078.74 1514.29 Z\" fill=\"#000000\" fill-rule=\"nonzero\" fill-opacity=\"1\" /><polyline clip-path=\"url(#clip320)\" style=\"stroke:#000000; stroke-linecap:round; stroke-linejoin:round; stroke-width:4; stroke-opacity:1; fill:none\" points=\"156.598,1486.45 156.598,47.2441 \"/>\n",
       "<polyline clip-path=\"url(#clip320)\" style=\"stroke:#000000; stroke-linecap:round; stroke-linejoin:round; stroke-width:4; stroke-opacity:1; fill:none\" points=\"156.598,1255.04 175.496,1255.04 \"/>\n",
       "<polyline clip-path=\"url(#clip320)\" style=\"stroke:#000000; stroke-linecap:round; stroke-linejoin:round; stroke-width:4; stroke-opacity:1; fill:none\" points=\"156.598,962.857 175.496,962.857 \"/>\n",
       "<polyline clip-path=\"url(#clip320)\" style=\"stroke:#000000; stroke-linecap:round; stroke-linejoin:round; stroke-width:4; stroke-opacity:1; fill:none\" points=\"156.598,670.67 175.496,670.67 \"/>\n",
       "<polyline clip-path=\"url(#clip320)\" style=\"stroke:#000000; stroke-linecap:round; stroke-linejoin:round; stroke-width:4; stroke-opacity:1; fill:none\" points=\"156.598,378.483 175.496,378.483 \"/>\n",
       "<polyline clip-path=\"url(#clip320)\" style=\"stroke:#000000; stroke-linecap:round; stroke-linejoin:round; stroke-width:4; stroke-opacity:1; fill:none\" points=\"156.598,86.2956 175.496,86.2956 \"/>\n",
       "<path clip-path=\"url(#clip320)\" d=\"M65.0198 1240.84 Q61.4087 1240.84 59.58 1244.41 Q57.7745 1247.95 57.7745 1255.08 Q57.7745 1262.19 59.58 1265.75 Q61.4087 1269.29 65.0198 1269.29 Q68.6541 1269.29 70.4596 1265.75 Q72.2883 1262.19 72.2883 1255.08 Q72.2883 1247.95 70.4596 1244.41 Q68.6541 1240.84 65.0198 1240.84 M65.0198 1237.14 Q70.83 1237.14 73.8855 1241.75 Q76.9642 1246.33 76.9642 1255.08 Q76.9642 1263.81 73.8855 1268.41 Q70.83 1273 65.0198 1273 Q59.2097 1273 56.131 1268.41 Q53.0754 1263.81 53.0754 1255.08 Q53.0754 1246.33 56.131 1241.75 Q59.2097 1237.14 65.0198 1237.14 Z\" fill=\"#000000\" fill-rule=\"nonzero\" fill-opacity=\"1\" /><path clip-path=\"url(#clip320)\" d=\"M85.1818 1266.44 L90.066 1266.44 L90.066 1272.32 L85.1818 1272.32 L85.1818 1266.44 Z\" fill=\"#000000\" fill-rule=\"nonzero\" fill-opacity=\"1\" /><path clip-path=\"url(#clip320)\" d=\"M104.279 1268.39 L120.598 1268.39 L120.598 1272.32 L98.6539 1272.32 L98.6539 1268.39 Q101.316 1265.63 105.899 1261 Q110.506 1256.35 111.686 1255.01 Q113.932 1252.49 114.811 1250.75 Q115.714 1248.99 115.714 1247.3 Q115.714 1244.55 113.77 1242.81 Q111.848 1241.07 108.746 1241.07 Q106.547 1241.07 104.094 1241.84 Q101.663 1242.6 98.8854 1244.15 L98.8854 1239.43 Q101.709 1238.3 104.163 1237.72 Q106.617 1237.14 108.654 1237.14 Q114.024 1237.14 117.219 1239.82 Q120.413 1242.51 120.413 1247 Q120.413 1249.13 119.603 1251.05 Q118.816 1252.95 116.709 1255.54 Q116.131 1256.21 113.029 1259.43 Q109.927 1262.63 104.279 1268.39 Z\" fill=\"#000000\" fill-rule=\"nonzero\" fill-opacity=\"1\" /><path clip-path=\"url(#clip320)\" d=\"M62.9365 948.656 Q59.3254 948.656 57.4967 952.22 Q55.6912 955.762 55.6912 962.892 Q55.6912 969.998 57.4967 973.563 Q59.3254 977.105 62.9365 977.105 Q66.5707 977.105 68.3763 973.563 Q70.205 969.998 70.205 962.892 Q70.205 955.762 68.3763 952.22 Q66.5707 948.656 62.9365 948.656 M62.9365 944.952 Q68.7467 944.952 71.8022 949.558 Q74.8809 954.142 74.8809 962.892 Q74.8809 971.619 71.8022 976.225 Q68.7467 980.808 62.9365 980.808 Q57.1264 980.808 54.0477 976.225 Q50.9921 971.619 50.9921 962.892 Q50.9921 954.142 54.0477 949.558 Q57.1264 944.952 62.9365 944.952 Z\" fill=\"#000000\" fill-rule=\"nonzero\" fill-opacity=\"1\" /><path clip-path=\"url(#clip320)\" d=\"M83.0984 974.257 L87.9827 974.257 L87.9827 980.137 L83.0984 980.137 L83.0984 974.257 Z\" fill=\"#000000\" fill-rule=\"nonzero\" fill-opacity=\"1\" /><path clip-path=\"url(#clip320)\" d=\"M111.015 949.651 L99.2095 968.1 L111.015 968.1 L111.015 949.651 M109.788 945.577 L115.668 945.577 L115.668 968.1 L120.598 968.1 L120.598 971.989 L115.668 971.989 L115.668 980.137 L111.015 980.137 L111.015 971.989 L95.4132 971.989 L95.4132 967.475 L109.788 945.577 Z\" fill=\"#000000\" fill-rule=\"nonzero\" fill-opacity=\"1\" /><path clip-path=\"url(#clip320)\" d=\"M63.2606 656.469 Q59.6495 656.469 57.8208 660.033 Q56.0152 663.575 56.0152 670.705 Q56.0152 677.811 57.8208 681.376 Q59.6495 684.917 63.2606 684.917 Q66.8948 684.917 68.7004 681.376 Q70.5291 677.811 70.5291 670.705 Q70.5291 663.575 68.7004 660.033 Q66.8948 656.469 63.2606 656.469 M63.2606 652.765 Q69.0707 652.765 72.1263 657.371 Q75.205 661.955 75.205 670.705 Q75.205 679.431 72.1263 684.038 Q69.0707 688.621 63.2606 688.621 Q57.4504 688.621 54.3717 684.038 Q51.3162 679.431 51.3162 670.705 Q51.3162 661.955 54.3717 657.371 Q57.4504 652.765 63.2606 652.765 Z\" fill=\"#000000\" fill-rule=\"nonzero\" fill-opacity=\"1\" /><path clip-path=\"url(#clip320)\" d=\"M83.4225 682.07 L88.3067 682.07 L88.3067 687.95 L83.4225 687.95 L83.4225 682.07 Z\" fill=\"#000000\" fill-rule=\"nonzero\" fill-opacity=\"1\" /><path clip-path=\"url(#clip320)\" d=\"M109.071 668.806 Q105.922 668.806 104.071 670.959 Q102.242 673.112 102.242 676.862 Q102.242 680.589 104.071 682.765 Q105.922 684.917 109.071 684.917 Q112.219 684.917 114.047 682.765 Q115.899 680.589 115.899 676.862 Q115.899 673.112 114.047 670.959 Q112.219 668.806 109.071 668.806 M118.353 654.154 L118.353 658.413 Q116.594 657.58 114.788 657.14 Q113.006 656.7 111.246 656.7 Q106.617 656.7 104.163 659.825 Q101.733 662.95 101.385 669.269 Q102.751 667.256 104.811 666.191 Q106.871 665.103 109.348 665.103 Q114.557 665.103 117.566 668.274 Q120.598 671.422 120.598 676.862 Q120.598 682.186 117.45 685.404 Q114.302 688.621 109.071 688.621 Q103.075 688.621 99.9039 684.038 Q96.7326 679.431 96.7326 670.705 Q96.7326 662.51 100.621 657.649 Q104.51 652.765 111.061 652.765 Q112.82 652.765 114.603 653.112 Q116.408 653.459 118.353 654.154 Z\" fill=\"#000000\" fill-rule=\"nonzero\" fill-opacity=\"1\" /><path clip-path=\"url(#clip320)\" d=\"M63.5152 364.281 Q59.9041 364.281 58.0754 367.846 Q56.2699 371.388 56.2699 378.517 Q56.2699 385.624 58.0754 389.189 Q59.9041 392.73 63.5152 392.73 Q67.1494 392.73 68.955 389.189 Q70.7837 385.624 70.7837 378.517 Q70.7837 371.388 68.955 367.846 Q67.1494 364.281 63.5152 364.281 M63.5152 360.578 Q69.3254 360.578 72.3809 365.184 Q75.4596 369.767 75.4596 378.517 Q75.4596 387.244 72.3809 391.851 Q69.3254 396.434 63.5152 396.434 Q57.7051 396.434 54.6264 391.851 Q51.5708 387.244 51.5708 378.517 Q51.5708 369.767 54.6264 365.184 Q57.7051 360.578 63.5152 360.578 Z\" fill=\"#000000\" fill-rule=\"nonzero\" fill-opacity=\"1\" /><path clip-path=\"url(#clip320)\" d=\"M83.6771 389.883 L88.5614 389.883 L88.5614 395.763 L83.6771 395.763 L83.6771 389.883 Z\" fill=\"#000000\" fill-rule=\"nonzero\" fill-opacity=\"1\" /><path clip-path=\"url(#clip320)\" d=\"M108.746 379.351 Q105.413 379.351 103.492 381.133 Q101.594 382.916 101.594 386.041 Q101.594 389.166 103.492 390.948 Q105.413 392.73 108.746 392.73 Q112.08 392.73 114.001 390.948 Q115.922 389.142 115.922 386.041 Q115.922 382.916 114.001 381.133 Q112.103 379.351 108.746 379.351 M104.071 377.36 Q101.061 376.619 99.3715 374.559 Q97.7048 372.499 97.7048 369.536 Q97.7048 365.393 100.645 362.985 Q103.608 360.578 108.746 360.578 Q113.908 360.578 116.848 362.985 Q119.788 365.393 119.788 369.536 Q119.788 372.499 118.098 374.559 Q116.432 376.619 113.445 377.36 Q116.825 378.147 118.7 380.439 Q120.598 382.73 120.598 386.041 Q120.598 391.064 117.52 393.749 Q114.464 396.434 108.746 396.434 Q103.029 396.434 99.9502 393.749 Q96.8947 391.064 96.8947 386.041 Q96.8947 382.73 98.7928 380.439 Q100.691 378.147 104.071 377.36 M102.358 369.976 Q102.358 372.661 104.024 374.166 Q105.714 375.67 108.746 375.67 Q111.756 375.67 113.445 374.166 Q115.158 372.661 115.158 369.976 Q115.158 367.291 113.445 365.786 Q111.756 364.281 108.746 364.281 Q105.714 364.281 104.024 365.786 Q102.358 367.291 102.358 369.976 Z\" fill=\"#000000\" fill-rule=\"nonzero\" fill-opacity=\"1\" /><path clip-path=\"url(#clip320)\" d=\"M54.2328 99.6404 L61.8717 99.6404 L61.8717 73.2748 L53.5616 74.9415 L53.5616 70.6822 L61.8254 69.0156 L66.5013 69.0156 L66.5013 99.6404 L74.1402 99.6404 L74.1402 103.576 L54.2328 103.576 L54.2328 99.6404 Z\" fill=\"#000000\" fill-rule=\"nonzero\" fill-opacity=\"1\" /><path clip-path=\"url(#clip320)\" d=\"M83.5845 97.696 L88.4688 97.696 L88.4688 103.576 L83.5845 103.576 L83.5845 97.696 Z\" fill=\"#000000\" fill-rule=\"nonzero\" fill-opacity=\"1\" /><path clip-path=\"url(#clip320)\" d=\"M108.654 72.0943 Q105.043 72.0943 103.214 75.6591 Q101.409 79.2007 101.409 86.3303 Q101.409 93.4368 103.214 97.0015 Q105.043 100.543 108.654 100.543 Q112.288 100.543 114.094 97.0015 Q115.922 93.4368 115.922 86.3303 Q115.922 79.2007 114.094 75.6591 Q112.288 72.0943 108.654 72.0943 M108.654 68.3906 Q114.464 68.3906 117.52 72.997 Q120.598 77.5804 120.598 86.3303 Q120.598 95.0571 117.52 99.6636 Q114.464 104.247 108.654 104.247 Q102.844 104.247 99.765 99.6636 Q96.7095 95.0571 96.7095 86.3303 Q96.7095 77.5804 99.765 72.997 Q102.844 68.3906 108.654 68.3906 Z\" fill=\"#000000\" fill-rule=\"nonzero\" fill-opacity=\"1\" /><polyline clip-path=\"url(#clip322)\" style=\"stroke:#009af9; stroke-linecap:round; stroke-linejoin:round; stroke-width:4; stroke-opacity:1; fill:none\" points=\"218.754,87.9763 378.126,123.123 537.499,271.596 696.872,320.039 856.245,643.139 1015.62,701.361 1174.99,454.361 1334.36,582.255 1493.74,901.44 1653.11,1210.56 1812.48,1153.29 1971.85,1299.48 2131.23,1420.13 2290.6,1445.72 \"/>\n",
       "<polyline clip-path=\"url(#clip322)\" style=\"stroke:#e26f46; stroke-linecap:round; stroke-linejoin:round; stroke-width:4; stroke-opacity:1; fill:none\" points=\"218.754,88.021 378.126,125.644 537.499,302.907 696.872,468.423 856.245,658.242 1015.62,594.984 1174.99,1119.47 1334.36,1066.17 1493.74,1028.22 1653.11,1391 1812.48,1353.36 1971.85,1189.68 2131.23,1280.52 2290.6,1326.08 \"/>\n",
       "<path clip-path=\"url(#clip320)\" d=\"M1904.29 250.738 L2279.55 250.738 L2279.55 95.2176 L1904.29 95.2176  Z\" fill=\"#ffffff\" fill-rule=\"evenodd\" fill-opacity=\"1\"/>\n",
       "<polyline clip-path=\"url(#clip320)\" style=\"stroke:#000000; stroke-linecap:round; stroke-linejoin:round; stroke-width:4; stroke-opacity:1; fill:none\" points=\"1904.29,250.738 2279.55,250.738 2279.55,95.2176 1904.29,95.2176 1904.29,250.738 \"/>\n",
       "<polyline clip-path=\"url(#clip320)\" style=\"stroke:#009af9; stroke-linecap:round; stroke-linejoin:round; stroke-width:4; stroke-opacity:1; fill:none\" points=\"1928.69,147.058 2075.1,147.058 \"/>\n",
       "<path clip-path=\"url(#clip320)\" d=\"M2106.61 129.778 L2111.28 129.778 L2111.28 161.93 Q2111.28 168.18 2108.9 171.004 Q2106.54 173.828 2101.28 173.828 L2099.5 173.828 L2099.5 169.893 L2100.96 169.893 Q2104.06 169.893 2105.33 168.157 Q2106.61 166.421 2106.61 161.93 L2106.61 129.778 Z\" fill=\"#000000\" fill-rule=\"nonzero\" fill-opacity=\"1\" /><path clip-path=\"url(#clip320)\" d=\"M2119.96 154.106 L2119.96 138.412 L2124.22 138.412 L2124.22 153.944 Q2124.22 157.625 2125.66 159.476 Q2127.09 161.305 2129.96 161.305 Q2133.41 161.305 2135.4 159.106 Q2137.42 156.907 2137.42 153.111 L2137.42 138.412 L2141.68 138.412 L2141.68 164.338 L2137.42 164.338 L2137.42 160.356 Q2135.87 162.717 2133.81 163.875 Q2131.77 165.009 2129.06 165.009 Q2124.59 165.009 2122.28 162.231 Q2119.96 159.453 2119.96 154.106 M2130.68 137.787 L2130.68 137.787 Z\" fill=\"#000000\" fill-rule=\"nonzero\" fill-opacity=\"1\" /><path clip-path=\"url(#clip320)\" d=\"M2150.45 128.319 L2154.71 128.319 L2154.71 164.338 L2150.45 164.338 L2150.45 128.319 Z\" fill=\"#000000\" fill-rule=\"nonzero\" fill-opacity=\"1\" /><path clip-path=\"url(#clip320)\" d=\"M2163.62 138.412 L2167.88 138.412 L2167.88 164.338 L2163.62 164.338 L2163.62 138.412 M2163.62 128.319 L2167.88 128.319 L2167.88 133.713 L2163.62 133.713 L2163.62 128.319 Z\" fill=\"#000000\" fill-rule=\"nonzero\" fill-opacity=\"1\" /><path clip-path=\"url(#clip320)\" d=\"M2188.58 151.305 Q2183.41 151.305 2181.42 152.486 Q2179.43 153.666 2179.43 156.514 Q2179.43 158.782 2180.91 160.125 Q2182.42 161.444 2184.99 161.444 Q2188.53 161.444 2190.66 158.944 Q2192.81 156.421 2192.81 152.254 L2192.81 151.305 L2188.58 151.305 M2197.07 149.546 L2197.07 164.338 L2192.81 164.338 L2192.81 160.402 Q2191.35 162.763 2189.18 163.898 Q2187 165.009 2183.85 165.009 Q2179.87 165.009 2177.51 162.787 Q2175.17 160.541 2175.17 156.791 Q2175.17 152.416 2178.09 150.194 Q2181.03 147.972 2186.84 147.972 L2192.81 147.972 L2192.81 147.555 Q2192.81 144.615 2190.87 143.018 Q2188.95 141.398 2185.45 141.398 Q2183.23 141.398 2181.12 141.93 Q2179.02 142.463 2177.07 143.527 L2177.07 139.592 Q2179.41 138.69 2181.61 138.25 Q2183.81 137.787 2185.89 137.787 Q2191.51 137.787 2194.29 140.703 Q2197.07 143.62 2197.07 149.546 Z\" fill=\"#000000\" fill-rule=\"nonzero\" fill-opacity=\"1\" /><polyline clip-path=\"url(#clip320)\" style=\"stroke:#e26f46; stroke-linecap:round; stroke-linejoin:round; stroke-width:4; stroke-opacity:1; fill:none\" points=\"1928.69,198.898 2075.1,198.898 \"/>\n",
       "<path clip-path=\"url(#clip320)\" d=\"M2104.18 185.46 L2104.18 198.446 L2110.06 198.446 Q2113.32 198.446 2115.1 196.756 Q2116.89 195.067 2116.89 191.942 Q2116.89 188.84 2115.1 187.15 Q2113.32 185.46 2110.06 185.46 L2104.18 185.46 M2099.5 181.618 L2110.06 181.618 Q2115.87 181.618 2118.83 184.256 Q2121.82 186.872 2121.82 191.942 Q2121.82 197.057 2118.83 199.673 Q2115.87 202.289 2110.06 202.289 L2104.18 202.289 L2104.18 216.178 L2099.5 216.178 L2099.5 181.618 Z\" fill=\"#000000\" fill-rule=\"nonzero\" fill-opacity=\"1\" /><path clip-path=\"url(#clip320)\" d=\"M2138.69 218.585 Q2136.89 223.215 2135.17 224.627 Q2133.46 226.039 2130.59 226.039 L2127.19 226.039 L2127.19 222.474 L2129.69 222.474 Q2131.45 222.474 2132.42 221.64 Q2133.39 220.807 2134.57 217.705 L2135.33 215.761 L2124.85 190.252 L2129.36 190.252 L2137.46 210.529 L2145.57 190.252 L2150.08 190.252 L2138.69 218.585 Z\" fill=\"#000000\" fill-rule=\"nonzero\" fill-opacity=\"1\" /><path clip-path=\"url(#clip320)\" d=\"M2160.17 182.891 L2160.17 190.252 L2168.95 190.252 L2168.95 193.562 L2160.17 193.562 L2160.17 207.636 Q2160.17 210.807 2161.03 211.71 Q2161.91 212.613 2164.57 212.613 L2168.95 212.613 L2168.95 216.178 L2164.57 216.178 Q2159.64 216.178 2157.77 214.349 Q2155.89 212.497 2155.89 207.636 L2155.89 193.562 L2152.77 193.562 L2152.77 190.252 L2155.89 190.252 L2155.89 182.891 L2160.17 182.891 Z\" fill=\"#000000\" fill-rule=\"nonzero\" fill-opacity=\"1\" /><path clip-path=\"url(#clip320)\" d=\"M2196.1 200.529 L2196.1 216.178 L2191.84 216.178 L2191.84 200.668 Q2191.84 196.988 2190.4 195.159 Q2188.97 193.33 2186.1 193.33 Q2182.65 193.33 2180.66 195.53 Q2178.67 197.729 2178.67 201.525 L2178.67 216.178 L2174.39 216.178 L2174.39 180.159 L2178.67 180.159 L2178.67 194.28 Q2180.2 191.942 2182.26 190.784 Q2184.34 189.627 2187.05 189.627 Q2191.51 189.627 2193.81 192.405 Q2196.1 195.159 2196.1 200.529 Z\" fill=\"#000000\" fill-rule=\"nonzero\" fill-opacity=\"1\" /><path clip-path=\"url(#clip320)\" d=\"M2214.64 193.238 Q2211.21 193.238 2209.22 195.923 Q2207.23 198.585 2207.23 203.238 Q2207.23 207.891 2209.2 210.576 Q2211.19 213.238 2214.64 213.238 Q2218.04 213.238 2220.03 210.553 Q2222.02 207.867 2222.02 203.238 Q2222.02 198.631 2220.03 195.946 Q2218.04 193.238 2214.64 193.238 M2214.64 189.627 Q2220.2 189.627 2223.37 193.238 Q2226.54 196.849 2226.54 203.238 Q2226.54 209.604 2223.37 213.238 Q2220.2 216.849 2214.64 216.849 Q2209.06 216.849 2205.89 213.238 Q2202.74 209.604 2202.74 203.238 Q2202.74 196.849 2205.89 193.238 Q2209.06 189.627 2214.64 189.627 Z\" fill=\"#000000\" fill-rule=\"nonzero\" fill-opacity=\"1\" /><path clip-path=\"url(#clip320)\" d=\"M2255.15 200.529 L2255.15 216.178 L2250.89 216.178 L2250.89 200.668 Q2250.89 196.988 2249.45 195.159 Q2248.02 193.33 2245.15 193.33 Q2241.7 193.33 2239.71 195.53 Q2237.72 197.729 2237.72 201.525 L2237.72 216.178 L2233.44 216.178 L2233.44 190.252 L2237.72 190.252 L2237.72 194.28 Q2239.25 191.942 2241.31 190.784 Q2243.39 189.627 2246.1 189.627 Q2250.57 189.627 2252.86 192.405 Q2255.15 195.159 2255.15 200.529 Z\" fill=\"#000000\" fill-rule=\"nonzero\" fill-opacity=\"1\" /></svg>\n"
      ]
     },
     "metadata": {},
     "output_type": "display_data"
    }
   ],
   "source": [
    "i = 3\n",
    "plot(coherence[2, i, 1, :], label=\"Julia\")\n",
    "plot!(python_coh[2, i, 1, :], label=\"Python\")"
   ]
  },
  {
   "cell_type": "code",
   "execution_count": null,
   "metadata": {},
   "outputs": [],
   "source": []
  }
 ],
 "metadata": {
  "kernelspec": {
   "display_name": "Julia 1.11.1",
   "language": "julia",
   "name": "julia-1.11"
  },
  "language_info": {
   "file_extension": ".jl",
   "mimetype": "application/julia",
   "name": "julia",
   "version": "1.11.1"
  }
 },
 "nbformat": 4,
 "nbformat_minor": 2
}
