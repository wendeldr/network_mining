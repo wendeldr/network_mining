{
 "cells": [
  {
   "cell_type": "code",
   "execution_count": null,
   "metadata": {},
   "outputs": [],
   "source": [
    "# import numpy as np\n",
    "# np.save(f\"/media/dan/Data/git/network_mining/julia_v_python_connectivity/org_python_dbg_outputs/e~epoch0_tap0.npy\", e)\n",
    "# np.save(f\"/media/dan/Data/git/network_mining/julia_v_python_connectivity/org_python_dbg_outputs/d~epoch0_tap0.npy\", d)\n",
    "# np.save(f\"/media/dan/Data/git/network_mining/julia_v_python_connectivity/org_python_dbg_outputs/w~epoch0_tap0.npy\", w)\n",
    "# np.save(f\"/media/dan/Data/git/network_mining/julia_v_python_connectivity/org_python_dbg_outputs/windows~epoch0_tap0.npy\", windows)\n",
    "# np.save(f\"/media/dan/Data/git/network_mining/julia_v_python_connectivity/org_python_dbg_outputs/w1~epoch0_tap0.npy\", w)\n",
    "# np.save(f\"/media/dan/Data/git/network_mining/julia_v_python_connectivity/org_python_dbg_outputs/windows1~epoch0_tap0.npy\", windows)\n",
    "# np.save(f\"/media/dan/Data/git/network_mining/julia_v_python_connectivity/org_python_dbg_outputs/fix_even~epoch0_tap0.npy\", fix_even)\n",
    "# np.save(f\"/media/dan/Data/git/network_mining/julia_v_python_connectivity/org_python_dbg_outputs/windowsfixeven~epoch0_tap0.npy\", windows)\n",
    "# np.save(f\"/media/dan/Data/git/network_mining/julia_v_python_connectivity/org_python_dbg_outputs/windowsthresh~epoch0_tap0.npy\", windows)\n",
    "\n",
    "\n",
    "# import numpy as np\n",
    "# np.save(f\"/media/dan/Data/git/network_mining/julia_v_python_connectivity/org_python_dbg_outputs/eigvals~epoch0_tap0.npy\", a)\n",
    "# np.save(f\"/media/dan/Data/git/network_mining/julia_v_python_connectivity/org_python_dbg_outputs/eigvecs~epoch0_tap0.npy\", b)\n",
    "\n",
    "\n",
    "# import pickle\n",
    "# with open(f\"/media/dan/Data/git/network_mining/julia_v_python_connectivity/org_python_dbg_outputs/Ws~epoch0.pkl\", \"wb\") as f:\n",
    "#     pickle.dump(out, f)\n"
   ]
  },
  {
   "cell_type": "code",
   "execution_count": 1,
   "metadata": {},
   "outputs": [],
   "source": [
    "using NPZ\n",
    "using PyCall\n",
    "using JLD2\n",
    "using Plots"
   ]
  },
  {
   "cell_type": "code",
   "execution_count": 2,
   "metadata": {},
   "outputs": [
    {
     "data": {
      "text/plain": [
       "\"/media/dan/Data/git/network_mining/julia_v_python_connectivity/non_simulated_data/python_outputs/\""
      ]
     },
     "execution_count": 2,
     "metadata": {},
     "output_type": "execute_result"
    }
   ],
   "source": [
    "julia_output_path = \"/media/dan/Data/git/network_mining/connectivity/julia_test\"\n",
    "python_output_path = \"/media/dan/Data/git/network_mining/julia_v_python_connectivity/non_simulated_data/python_outputs/\""
   ]
  },
  {
   "cell_type": "code",
   "execution_count": 3,
   "metadata": {},
   "outputs": [
    {
     "data": {
      "text/plain": [
       "PyObject <function load_pickle at 0x7da975953b00>"
      ]
     },
     "execution_count": 3,
     "metadata": {},
     "output_type": "execute_result"
    }
   ],
   "source": [
    "py\"\"\"\n",
    "import pickle\n",
    " \n",
    "def load_pickle(fpath):\n",
    "    with open(fpath, \"rb\") as f:\n",
    "        data = pickle.load(f)\n",
    "    return data\n",
    "\"\"\"\n",
    "\n",
    "load_pickle = py\"load_pickle\"\n"
   ]
  },
  {
   "cell_type": "markdown",
   "metadata": {},
   "source": [
    "Check Julia vs python"
   ]
  },
  {
   "cell_type": "code",
   "execution_count": 4,
   "metadata": {},
   "outputs": [
    {
     "data": {
      "text/plain": [
       "Dict{String, Any} with 5 entries:\n",
       "  \"fft_Ws\"        => ComplexF64[-1.02349e-15-1.47673e-15im -1.15966e-15-4.14382…\n",
       "  \"weights\"       => [0.999971 0.999971 … 0.999978 0.999978; 0.99878 0.99878 … …\n",
       "  \"fft_X\"         => ComplexF64[0.0389342+0.0im 0.0184445+0.0im … -0.0379473+0.…\n",
       "  \"normalization\" => [0.676385 0.676385 … 0.675622 0.675622;;; 0.676385 0.67638…\n",
       "  \"Ws\"            => Vector{ComplexF64}[[-0.00121427+1.87475e-16im, -0.00125209…"
      ]
     },
     "execution_count": 4,
     "metadata": {},
     "output_type": "execute_result"
    }
   ],
   "source": [
    "julia_pretasks = load(joinpath(julia_output_path, \"034_pretasks.jld2\"))"
   ]
  },
  {
   "cell_type": "code",
   "execution_count": 5,
   "metadata": {},
   "outputs": [],
   "source": [
    "# index like this: Ws[1,1] == python Ws[0][0]\n",
    "Ws = load_pickle(joinpath(python_output_path,\"all_Ws~epoch0.pkl\"));"
   ]
  },
  {
   "cell_type": "markdown",
   "metadata": {},
   "source": [
    "# Are Ws same?"
   ]
  },
  {
   "cell_type": "code",
   "execution_count": 10,
   "metadata": {},
   "outputs": [],
   "source": [
    "r = size(julia_pretasks[\"Ws\"], 1)\n",
    "c = size(julia_pretasks[\"Ws\"], 2)\n",
    "\n",
    "\n",
    "for i in 1:r\n",
    "    for j in 1:c\n",
    "        # convert 2d index to 1d index\n",
    "        idx = (i-1) * c + j\n",
    "        # @show i, j, idx\n",
    "\n",
    "        a = isapprox(julia_pretasks[\"Ws\"][i,j], Ws[idx], atol=1e-11)\n",
    "        if !a\n",
    "            println(\"Mismatch at $i,$j, index $idx\")\n",
    "        end\n",
    "    end\n",
    "end\n"
   ]
  },
  {
   "cell_type": "markdown",
   "metadata": {},
   "source": [
    "# Weights?"
   ]
  },
  {
   "cell_type": "code",
   "execution_count": 19,
   "metadata": {},
   "outputs": [],
   "source": [
    "py_weights = npzread(joinpath(python_output_path, \"weights~epoch0.npy\"));\n",
    "julia_weights = julia_pretasks[\"weights\"]\n",
    "\n",
    "@assert isapprox(py_weights, julia_weights, atol=1e-12)"
   ]
  },
  {
   "cell_type": "markdown",
   "metadata": {},
   "source": [
    "# FFT same?"
   ]
  },
  {
   "cell_type": "code",
   "execution_count": 38,
   "metadata": {},
   "outputs": [],
   "source": [
    "r = size(julia_pretasks[\"fft_Ws\"], 1)\n",
    "fft_ws = julia_pretasks[\"fft_Ws\"]\n",
    "\n",
    "for i in 1:r\n",
    "    py_fft_Ws = npzread(joinpath(python_output_path, \"fft_Ws~epoch0_channel0_taper$(i-1).npy\"))\n",
    "    @assert isapprox(fft_ws[i,:,:], py_fft_Ws, atol=1e-9)\n",
    "end\n"
   ]
  },
  {
   "cell_type": "markdown",
   "metadata": {},
   "source": [
    "tfrs same?"
   ]
  },
  {
   "cell_type": "code",
   "execution_count": null,
   "metadata": {},
   "outputs": [],
   "source": [
    "tfrs_org = npzread(joinpath(output_org_path, \"tfrs~epoch0_channel0.npy\"))\n",
    "tfrs = npzread(joinpath(output_path, \"tfrs~epoch0_channel0.npy\"))\n",
    "@assert tfrs == tfrs_org"
   ]
  },
  {
   "cell_type": "markdown",
   "metadata": {},
   "source": [
    "First check if output from modified python matches original"
   ]
  },
  {
   "cell_type": "code",
   "execution_count": null,
   "metadata": {},
   "outputs": [],
   "source": [
    "# load array shaped (epoch,channel,channel,band) (1 in this case) for average\n",
    "original_output = \"coh_favg_unmodified_python.npy\"\n",
    "original_output = npzread(joinpath(output_org_path, original_output));\n",
    "\n",
    "epochs = size(original_output, 1) -1\n",
    "n = size(original_output, 2) -1\n",
    "for epoch_idx in 0:epochs\n",
    "    for t in 0:n\n",
    "        for s in (t+1):n\n",
    "            org = original_output[1, s+1, t+1, 1]\n",
    "            new = npzread(joinpath(output_path,\"conn_favg~epoch$(epoch_idx)_source$(s)_target$(t).npy\"))[1]\n",
    "            @assert org == new\n",
    "\n",
    "        end\n",
    "    end\n",
    "end\n"
   ]
  },
  {
   "cell_type": "markdown",
   "metadata": {},
   "source": [
    "# Original is the same as the python output code\n",
    "## time to check julia outputs"
   ]
  },
  {
   "cell_type": "code",
   "execution_count": null,
   "metadata": {},
   "outputs": [],
   "source": [
    "using DSP: dpss\n",
    "using FFTW\n",
    "using Statistics\n",
    "using LinearAlgebra\n",
    "using Plots\n",
    "using Printf\n",
    "using FilePathsBase"
   ]
  },
  {
   "cell_type": "code",
   "execution_count": null,
   "metadata": {},
   "outputs": [],
   "source": [
    "function sinusoidal(a, f, sr, t, theta=0, DC=0)\n",
    "    delta_i = 1 / sr\n",
    "    f2pi = f * 2 * π\n",
    "    nu = [DC + (a * sin(f2pi * i * delta_i + theta)) for i in 0:(t-1)]\n",
    "    return nu\n",
    "end\n",
    "\n",
    "# Optimized zero pad function\n",
    "function zero_pad!(data_padded, data)\n",
    "    data_padded[1:length(data)] .= data\n",
    "    data_padded[length(data)+1:end] .= 0\n",
    "end\n",
    "\n",
    "function coh(s_xx, s_yy, s_xy)\n",
    "    # Compute the numerator: absolute value of the mean of s_xy along the last dimension\n",
    "    con_num = abs.(mean(s_xy, dims=ndims(s_xy)))\n",
    "\n",
    "    # Compute the denominator: square root of the product of means of s_xx and s_yy along the last dimension\n",
    "    con_den = sqrt.(mean(s_xx, dims=ndims(s_xx)) .* mean(s_yy, dims=ndims(s_yy)))\n",
    "\n",
    "    # Calculate coherence as the element-wise division of numerator by denominator\n",
    "    coh = con_num ./ con_den\n",
    "    return coh\n",
    "end\n",
    "\n",
    "\n",
    "function next_fast_len(target::Int)::Int\n",
    "    \"\"\"\n",
    "    Find the next fast size of input data to `fft`, for zero-padding, etc.\n",
    "\n",
    "    Returns the next composite of the prime factors 2, 3, and 5 which is\n",
    "    greater than or equal to `target`. (These are also known as 5-smooth\n",
    "    numbers, regular numbers, or Hamming numbers.)\n",
    "\n",
    "    Parameters\n",
    "    ----------\n",
    "    target : Int\n",
    "        Length to start searching from. Must be a positive integer.\n",
    "\n",
    "    Returns\n",
    "    -------\n",
    "    out : Int\n",
    "        The first 5-smooth number greater than or equal to `target`.\n",
    "    \"\"\"\n",
    "    # Precomputed Hamming numbers (5-smooth numbers) for quick lookup\n",
    "    hams = [\n",
    "        8, 9, 10, 12, 15, 16, 18, 20, 24, 25, 27, 30, 32, 36, 40, 45, 48, 50,\n",
    "        54, 60, 64, 72, 75, 80, 81, 90, 96, 100, 108, 120, 125, 128, 135, 144,\n",
    "        150, 160, 162, 180, 192, 200, 216, 225, 240, 243, 250, 256, 270, 288,\n",
    "        300, 320, 324, 360, 375, 384, 400, 405, 432, 450, 480, 486, 500, 512,\n",
    "        540, 576, 600, 625, 640, 648, 675, 720, 729, 750, 768, 800, 810, 864,\n",
    "        900, 960, 972, 1000, 1024, 1080, 1125, 1152, 1200, 1215, 1250, 1280,\n",
    "        1296, 1350, 1440, 1458, 1500, 1536, 1600, 1620, 1728, 1800, 1875, 1920,\n",
    "        1944, 2000, 2025, 2048, 2160, 2187, 2250, 2304, 2400, 2430, 2500, 2560,\n",
    "        2592, 2700, 2880, 2916, 3000, 3072, 3125, 3200, 3240, 3375, 3456, 3600,\n",
    "        3645, 3750, 3840, 3888, 4000, 4050, 4096, 4320, 4374, 4500, 4608, 4800,\n",
    "        4860, 5000, 5120, 5184, 5400, 5625, 5760, 5832, 6000, 6075, 6144, 6250,\n",
    "        6400, 6480, 6561, 6750, 6912, 7200, 7290, 7500, 7680, 7776, 8000, 8100,\n",
    "        8192, 8640, 8748, 9000, 9216, 9375, 9600, 9720, 10000\n",
    "    ]\n",
    "\n",
    "    if target <= 6\n",
    "        return target\n",
    "    end\n",
    "\n",
    "    # Check if target is already a power of 2\n",
    "    if (target & (target - 1)) == 0\n",
    "        return target\n",
    "    end\n",
    "\n",
    "    # Quick lookup for small sizes\n",
    "    if target <= hams[end]\n",
    "        idx = searchsortedfirst(hams, target)\n",
    "        return hams[idx]\n",
    "    end\n",
    "\n",
    "    # Function to compute the bit length of an integer\n",
    "    bit_length(x::Int) = x <= 0 ? 0 : floor(Int, log2(x)) + 1\n",
    "\n",
    "    match = typemax(Int)  # Initialize with maximum possible integer\n",
    "    p5 = 1\n",
    "    while p5 < target\n",
    "        p35 = p5\n",
    "        while p35 < target\n",
    "            # Ceiling integer division\n",
    "            quotient = cld(target, p35)\n",
    "            p2 = 2^bit_length(quotient - 1)\n",
    "            N = p2 * p35\n",
    "            if N == target\n",
    "                return N\n",
    "            elseif N < match\n",
    "                match = N\n",
    "            end\n",
    "            p35 *= 3\n",
    "            if p35 == target\n",
    "                return p35\n",
    "            end\n",
    "        end\n",
    "        if p35 < match\n",
    "            match = p35\n",
    "        end\n",
    "        p5 *= 5\n",
    "        if p5 == target\n",
    "            return p5\n",
    "        end\n",
    "    end\n",
    "    if p5 < match\n",
    "        match = p5\n",
    "    end\n",
    "    return match\n",
    "end\n",
    "\n",
    "function _get_nfft(Ws, X)::Int\n",
    "    max_len = maximum([length(Wk) for Wk in Ws])\n",
    "    n = last(size(X))\n",
    "    nfft = n + max_len - 1\n",
    "    # @show nfft\n",
    "    nfft = next_fast_len(nfft)\n",
    "    return nfft\n",
    "end\n",
    "\n",
    "# Precompute FFTs of Ws\n",
    "function precompute_fft_Ws(Ws, nfft)\n",
    "    n_taps, n_freqs = size(Ws)\n",
    "    fft_Ws = Array{ComplexF64,3}(undef, n_taps, n_freqs, nfft)\n",
    "    for taper_idx = 1:n_taps\n",
    "        for freq_idx = 1:n_freqs\n",
    "            W = Ws[taper_idx, freq_idx]\n",
    "            padded_W = zeros(ComplexF64, nfft)\n",
    "            zero_pad!(padded_W, W)\n",
    "            fft_Ws[taper_idx, freq_idx, :] = fft(padded_W)\n",
    "        end\n",
    "    end\n",
    "    return fft_Ws\n",
    "end\n",
    "\n",
    "# Precompute FFTs of X\n",
    "function precompute_fft_X(X, nfft)\n",
    "    n_epochs, n_channels, n_times = size(X)\n",
    "    fft_X = Array{ComplexF64,3}(undef, n_epochs, n_channels, nfft)\n",
    "    for epoch_idx = 1:n_epochs\n",
    "        for channel_idx = 1:n_channels\n",
    "            x = X[epoch_idx, channel_idx, :]\n",
    "            padded_x = zeros(ComplexF64, nfft)\n",
    "            zero_pad!(padded_x, x)\n",
    "            fft_X[epoch_idx, channel_idx, :] = fft(padded_x)\n",
    "        end\n",
    "    end\n",
    "    return fft_X\n",
    "end\n",
    "\n",
    "\n",
    "# Main function to compute tfr\n",
    "function compute_tfr(X, Ws, nfft)\n",
    "    n_epochs, n_channels, n_times = size(X)\n",
    "    n_taps, n_freqs = size(Ws)\n",
    "    tfr = zeros(ComplexF64, n_epochs, n_channels, n_taps, n_freqs, n_times)\n",
    "\n",
    "    # Precompute FFTs\n",
    "    fft_Ws = precompute_fft_Ws(Ws, nfft)\n",
    "    fft_X = precompute_fft_X(X, nfft)\n",
    "\n",
    "    # Loop over tapers and frequencies\n",
    "    for taper_idx = 1:n_taps\n",
    "        for freq_idx = 1:n_freqs\n",
    "            fft_W = fft_Ws[taper_idx, freq_idx, :]\n",
    "            W_size = length(Ws[taper_idx, freq_idx])\n",
    "            total_size = n_times + W_size - 1\n",
    "            ret_size = total_size\n",
    "            # Preallocate ret array\n",
    "            ret = zeros(ComplexF64, ret_size)\n",
    "\n",
    "            for epoch_idx = 1:n_epochs\n",
    "                for channel_idx = 1:n_channels\n",
    "                    fx = fft_X[epoch_idx, channel_idx, :]\n",
    "                    product = fx .* fft_W\n",
    "                    ret .= ifft(product)[1:ret_size]\n",
    "\n",
    "                    # Center the result\n",
    "                    start = Int(floor((ret_size - n_times) / 2)) + 1\n",
    "                    end_time = start + n_times - 1\n",
    "                    tfr[epoch_idx, channel_idx, taper_idx, freq_idx, :] = ret[start:end_time]\n",
    "                end\n",
    "            end\n",
    "        end\n",
    "    end\n",
    "    return tfr, fft_Ws, fft_X\n",
    "end"
   ]
  },
  {
   "cell_type": "code",
   "execution_count": null,
   "metadata": {},
   "outputs": [],
   "source": [
    "t = 32\n",
    "sr = 32\n",
    "f = 2\n",
    "\n",
    "v = sinusoidal(10, f, sr, t * 4, 0)\n",
    "w = sinusoidal(10, f, sr, t * 4, π / 4)\n",
    "y = sinusoidal(10, f, sr, t * 4, π / 2)\n",
    "z = sinusoidal(10, f, sr, t * 4, π)\n",
    "\n",
    "data = Array{Float64}(undef, 2, 4, 128)\n",
    "\n",
    "data[1, :, :] = hcat(v, w, y, z)'\n",
    "data[2, :, :] = hcat(-v, -w, -y, -z)';\n",
    "size(data)"
   ]
  },
  {
   "cell_type": "markdown",
   "metadata": {},
   "source": [
    "# check if data is same as python output"
   ]
  },
  {
   "cell_type": "code",
   "execution_count": null,
   "metadata": {},
   "outputs": [],
   "source": [
    "py_data = npzread(joinpath(output_path, \"data.npy\"))\n",
    "@assert data == py_data"
   ]
  },
  {
   "cell_type": "code",
   "execution_count": null,
   "metadata": {},
   "outputs": [],
   "source": [
    "plot(py_data[1, 1, :])\n",
    "plot!(data[1, 1, :])"
   ]
  },
  {
   "cell_type": "code",
   "execution_count": null,
   "metadata": {},
   "outputs": [],
   "source": [
    "for x in 1:size(py_data,3)\n",
    "    @assert py_data[1, 1, x] == data[1, 1, x] \"x: $x, py_data: $(py_data[1, 1, x]), data: $(data[1, 1, x])\"\n",
    "end"
   ]
  },
  {
   "cell_type": "markdown",
   "metadata": {},
   "source": [
    "## same to 14 decimal places (rounding errors at end?)"
   ]
  },
  {
   "cell_type": "code",
   "execution_count": null,
   "metadata": {},
   "outputs": [],
   "source": [
    "@assert isapprox(py_data,data, atol=1e-14)"
   ]
  },
  {
   "cell_type": "markdown",
   "metadata": {},
   "source": [
    "### data is essentially the same start processing"
   ]
  },
  {
   "cell_type": "code",
   "execution_count": null,
   "metadata": {},
   "outputs": [],
   "source": [
    "freqs = collect(2:15)  # inclusive of end\n",
    "n_freqs = length(freqs)\n",
    "mt_bandwidth = 4\n",
    "n_taps = floor(Int, mt_bandwidth - 1)\n",
    "n_cycles = 7\n",
    "sfreq = 32\n",
    "zero_mean = true\n",
    "X = data;"
   ]
  },
  {
   "cell_type": "markdown",
   "metadata": {},
   "source": [
    "#### check t_centered"
   ]
  },
  {
   "cell_type": "code",
   "execution_count": null,
   "metadata": {},
   "outputs": [],
   "source": [
    "for epoch_idx = 0:size(data,1)-1\n",
    "    for taper_idx = 0:n_taps-1\n",
    "        for k = 1:n_freqs\n",
    "            f = freqs[k]\n",
    "            t_win = n_cycles / f\n",
    "            len_t = Int(ceil(t_win * sfreq))\n",
    "\n",
    "            # Centered time vector without allocating t and t_centered separately\n",
    "            t = collect(0:1/sfreq:t_win-(t_win % (1 / sfreq) == 0 ? 1 / sfreq : 0))\n",
    "            t_centered = t .- t_win / 2.0\n",
    "            py_t_centered = npzread(joinpath(output_path,\"t_centered~epoch$(epoch_idx)_tap$(taper_idx)_freq$(f).npy\"))\n",
    "            @assert t_centered == py_t_centered \"epoch_idx: $epoch_idx, taper_idx: $taper_idx, f: $k\"\n",
    "        end\n",
    "    end\n",
    "end"
   ]
  },
  {
   "cell_type": "markdown",
   "metadata": {},
   "source": [
    "t = np.arange(0.0, t_win, 1.0 / sfreq)\n",
    "\n",
    "t should be from 0 to 3.5 (t_win) exclusive (actual end is 3.46875) with a step of 0.03125\n",
    "\n",
    "t_centered = (t - t_win / 2.0)\n",
    "\n",
    "t_centered.min() == np.float64(-1.75)\n",
    "\n",
    "t_centered.max() == np.float64(1.71875)\n",
    "\n",
    "diff is 0.03125"
   ]
  },
  {
   "cell_type": "markdown",
   "metadata": {},
   "source": [
    "### check oscillations"
   ]
  },
  {
   "cell_type": "markdown",
   "metadata": {},
   "source": [
    "#### not exactly same"
   ]
  },
  {
   "cell_type": "code",
   "execution_count": null,
   "metadata": {},
   "outputs": [],
   "source": [
    "for epoch_idx = 0:size(data, 1)-1\n",
    "    for taper_idx = 0:n_taps-1\n",
    "        for k = 1:n_freqs\n",
    "            f = freqs[k]\n",
    "            t_win = n_cycles / f\n",
    "            len_t = Int(ceil(t_win * sfreq))\n",
    "\n",
    "            # Centered time vector without allocating t and t_centered separately\n",
    "            t = collect(0:1/sfreq:t_win-(t_win % (1 / sfreq) == 0 ? 1 / sfreq : 0))\n",
    "            t_centered = t .- t_win / 2.0\n",
    "            oscillation = exp.(2.0 * im * pi * f .* t_centered)\n",
    "\n",
    "            py_oscillation = npzread(joinpath(output_path, \"oscillation~epoch$(epoch_idx)_tap$(taper_idx)_freq$(f).npy\"))\n",
    "            @assert oscillation == py_oscillation \"epoch_idx: $epoch_idx, taper_idx: $taper_idx, f: $k\"\n",
    "        end\n",
    "    end\n",
    "end"
   ]
  },
  {
   "cell_type": "markdown",
   "metadata": {},
   "source": [
    "same to 14 decimal places "
   ]
  },
  {
   "cell_type": "code",
   "execution_count": null,
   "metadata": {},
   "outputs": [],
   "source": [
    "for epoch_idx = 0:size(data, 1)-1\n",
    "    for taper_idx = 0:n_taps-1\n",
    "        for k = 1:n_freqs\n",
    "            f = freqs[k]\n",
    "            t_win = n_cycles / f\n",
    "            len_t = Int(ceil(t_win * sfreq))\n",
    "\n",
    "            # Centered time vector without allocating t and t_centered separately\n",
    "            t = collect(0:1/sfreq:t_win-(t_win % (1 / sfreq) == 0 ? 1 / sfreq : 0))\n",
    "            t_centered = t .- t_win / 2.0\n",
    "            oscillation = exp.(2.0 * im * pi * f .* t_centered)\n",
    "\n",
    "            py_oscillation = npzread(joinpath(output_path, \"oscillation~epoch$(epoch_idx)_tap$(taper_idx)_freq$(f).npy\"))\n",
    "            @assert isapprox(py_data, data, atol=1e-14) \"epoch_idx: $epoch_idx, taper_idx: $taper_idx, f: $k\"\n",
    "        end\n",
    "    end\n",
    "end"
   ]
  },
  {
   "cell_type": "markdown",
   "metadata": {},
   "source": [
    "## check dpss tapers"
   ]
  },
  {
   "cell_type": "code",
   "execution_count": null,
   "metadata": {},
   "outputs": [],
   "source": [
    "for epoch_idx = 0:size(data, 1)-1\n",
    "    for taper_idx = 0:n_taps-1\n",
    "        for k = 1:n_freqs\n",
    "            f = freqs[k]\n",
    "            t_win = n_cycles / f\n",
    "            len_t = Int(ceil(t_win * sfreq))\n",
    "            taper = dpss(len_t, mt_bandwidth / 2, n_taps)\n",
    "\n",
    "            py_taper = npzread(joinpath(output_path, \"dpss~epoch$(epoch_idx)_tap$(taper_idx)_freq$(f).npy\"))\n",
    "            @show size(taper), size(py_taper')\n",
    "            @assert isapprox(taper, py_taper', atol=1e-10) \"epoch_idx: $epoch_idx, taper_idx: $taper_idx, f: $k\"\n",
    "        end\n",
    "    end\n",
    "end"
   ]
  },
  {
   "cell_type": "markdown",
   "metadata": {},
   "source": [
    "## Tapers are not the same. What is different?"
   ]
  },
  {
   "cell_type": "code",
   "execution_count": null,
   "metadata": {},
   "outputs": [],
   "source": [
    "epoch_idx = 0\n",
    "taper_idx = 0\n",
    "k = 1\n",
    "\n",
    "f = freqs[k]\n",
    "t_win = n_cycles / f\n",
    "len_t = Int(ceil(t_win * sfreq))\n",
    "taper = dpss(len_t, mt_bandwidth / 2, n_taps)\n",
    "# taper = dpss(len_t, mt_bandwidth / 2, n_taps; padding=10, zerophase=false)\n",
    "\n",
    "py_taper = npzread(joinpath(output_path, \"dpss~epoch$(epoch_idx)_tap$(taper_idx)_freq$(f).npy\"))\n",
    "plot(taper[:, 1])\n",
    "plot!(py_taper[1, :])"
   ]
  },
  {
   "cell_type": "markdown",
   "metadata": {},
   "source": [
    "# Taper doesn't even look that close. I guess I have to reimplment the python version"
   ]
  },
  {
   "cell_type": "code",
   "execution_count": null,
   "metadata": {},
   "outputs": [],
   "source": [
    "function _extend(M::Int, sym::Bool)::Tuple{Int, Bool}\n",
    "    # Extend window by 1 sample if needed for DFT-even symmetry\n",
    "    if !sym\n",
    "        return M + 1, true\n",
    "    else\n",
    "        return M, false\n",
    "    end\n",
    "end\n",
    "\n",
    "\n",
    "function _fftautocorr(x::AbstractMatrix{<:Float64})::Array{Float64, 2}\n",
    "    \"\"\"\n",
    "    tested vs python:\n",
    "    isapprox(x_fft, py_x_fft, atol=1e-12) == true\n",
    "    isapprox(py_cxy, cxy, atol=1e-12) == true\n",
    "    \"\"\"\n",
    "    N = size(x, 2)\n",
    "    use_N = next_fast_len(2 * N - 1)\n",
    "    padded = zeros(Float64, size(x,1), use_N)\n",
    "    padded[:, 1:N] .= x\n",
    "    plan = plan_rfft(padded, 2)\n",
    "    x_fft = plan * padded\n",
    "    cxy = irfft(x_fft .* conj.(x_fft), use_N, 2)[:, 1:N]\n",
    "    return cxy\n",
    "end\n"
   ]
  },
  {
   "cell_type": "markdown",
   "metadata": {},
   "source": [
    "# import data exported from build sp_dpss function in python"
   ]
  },
  {
   "cell_type": "code",
   "execution_count": null,
   "metadata": {},
   "outputs": [],
   "source": [
    "# load python outputs\n",
    "py_e = npzread(joinpath(output_org_path, \"e~epoch0_tap0.npy\"))\n",
    "py_d = npzread(joinpath(output_org_path, \"d~epoch0_tap0.npy\"))\n",
    "py_w = npzread(joinpath(output_org_path, \"w~epoch0_tap0.npy\"))\n",
    "py_windows = npzread(joinpath(output_org_path, \"windows~epoch0_tap0.npy\"))\n",
    "py_w1 = npzread(joinpath(output_org_path, \"w1~epoch0_tap0.npy\"))\n",
    "py_windows1 = npzread(joinpath(output_org_path, \"windows1~epoch0_tap0.npy\"))\n",
    "py_fixeven = npzread(joinpath(output_org_path, \"fix_even~epoch0_tap0.npy\"))\n",
    "py_windowsfixeven = npzread(joinpath(output_org_path, \"windowsfixeven~epoch0_tap0.npy\"))\n",
    "py_windowsthresh = npzread(joinpath(output_org_path, \"windowsthresh~epoch0_tap0.npy\"))\n",
    "py_eigvals = npzread(joinpath(output_org_path, \"eigvals~epoch0_tap0.npy\"))\n",
    "py_eigvecs = npzread(joinpath(output_org_path, \"eigvecs~epoch0_tap0.npy\"))\n",
    "\n",
    "py_x_fft = npzread(joinpath(output_org_path, \"x_fft~epoch0_tap0.npy\"))\n",
    "py_cxy = npzread(joinpath(output_org_path, \"cxy~epoch0_tap0.npy\"))\n",
    "py_ratios = npzread(joinpath(output_org_path, \"ratios~epoch0_tap0.npy\"))\n",
    "\n",
    "py_dpss_rxx = npzread(joinpath(output_org_path, \"dpss_rxx~epoch0_tap0.npy\"))\n",
    "py_ratios = npzread(joinpath(output_org_path, \"ratios~epoch0_tap0.npy\"))\n",
    "\n",
    "py_windows_approx = npzread(joinpath(output_org_path, \"windows_approx_m112~epoch0_tap0.npy\"))\n",
    "py_windows_subsample = npzread(joinpath(output_org_path, \"windows_subsample_m112~epoch0_tap0.npy\"))\n",
    "\n",
    "\n",
    "# julia code\n",
    "\n",
    "\n",
    "M = 112\n",
    "NW = 2.0\n",
    "Kmax = 3\n",
    "sym = false\n",
    "return_ratios = true\n",
    "normalize = 2\n",
    "singleton = false;\n",
    "\n",
    "Kmax = Int(Kmax)\n",
    "\n",
    "if !(0 < Kmax <= M)\n",
    "    error(\"Kmax must be greater than 0 and less than M\")\n",
    "end\n",
    "if NW >= M / 2.0\n",
    "    error(\"NW must be less than M/2.\")\n",
    "end\n",
    "if NW <= 0\n",
    "    error(\"NW must be positive\")\n",
    "end\n",
    "M, needs_trunc = _extend(M, sym)\n",
    "W = NW / M\n",
    "nidx = collect(0:M-1)\n",
    "d = ((M - 1 .- 2 .* nidx) ./ 2.0) .^ 2 .* cos.(2pi * W)\n",
    "e = nidx[2:end] .* (M .- nidx[2:end]) ./ 2.0\n",
    "@assert d == py_d\n",
    "\n",
    "@assert e == py_e\n",
    "T = Tridiagonal(e, d, e)\n",
    "eigs = eigen(T)\n",
    "eigvals1 = eigs.values\n",
    "@assert eigvals1 == py_eigvals\n",
    "eigvecs1 = eigs.vectors\n",
    "@assert eigvecs1 == py_eigvecs\n",
    "\n",
    "indices = M-Kmax+1:M\n",
    "eigvals = eigvals1[indices]\n",
    "@assert isapprox(eigvals, py_w, atol=1e-12) # weirdly the values are the same in the full save but slighly different saving only a part\n",
    "eigvals = reverse(eigvals)\n",
    "@assert isapprox(eigvals, py_w1, atol=1e-12) # python line 2057; reverses the array for some reason\n",
    "\n",
    "\n",
    "eigvecs = eigvecs1[end:-1:1, indices]; # not 100% sure why it but it is reversed vs python even though full array is the same\n",
    "@assert isapprox(eigvecs, py_windows, atol=1e-13)\n",
    "windows = eigvecs[:, end:-1:1]' # they flip and transpose for some reason\n",
    "@assert isapprox(windows, py_windows1, atol=1e-13)\n",
    "\n",
    "\n",
    "# Correct the sign conventions\n",
    "fix_even = sum(windows[1:2:end, :], dims=2) .< 0\n",
    "@assert vec(fix_even) == py_fixeven # types are different but values are the same\n",
    "for (i, f) in enumerate(fix_even)\n",
    "    if f[1]\n",
    "        windows[2i-1, :] *= -1\n",
    "    end\n",
    "end\n",
    "@assert isapprox(windows, py_windowsfixeven, atol=1e-13)\n",
    "\n",
    "thresh = max(1e-7, 1.0 / M)\n",
    "for (i, w) in enumerate(eachrow(windows[2:2:end, :]))\n",
    "    idx = findfirst(x -> x^2 > thresh, w)\n",
    "    if idx !== nothing && w[idx] < 0\n",
    "        windows[2i, :] *= -1\n",
    "    end\n",
    "end\n",
    "@assert isapprox(windows, py_windowsthresh, atol=1e-13)\n",
    "\n",
    "# @show size(windows)\n",
    "if return_ratios\n",
    "    dpss_rxx = _fftautocorr(windows)\n",
    "    @assert isapprox(dpss_rxx, py_dpss_rxx, atol=1e-12)\n",
    "    r = 4 * W * sinc.(2 * W .* nidx)\n",
    "    r[1] = 2 * W\n",
    "    ratios = dpss_rxx * r\n",
    "    @assert isapprox(ratios, py_ratios, atol=1e-12)\n",
    "    if singleton\n",
    "        ratios = ratios[1]\n",
    "    end\n",
    "end\n",
    "@assert isapprox(ratios, py_ratios, atol=1e-12)\n",
    "\n",
    "if normalize != 2 \n",
    "    # checked vs python and it is the same\n",
    "    windows .= windows ./ maximum(abs.(windows))\n",
    "    if iseven(M)\n",
    "        if normalize == \"approximate\"\n",
    "            correction = M^2 / (M^2 + NW)\n",
    "        else\n",
    "            s = rfft(windows[1, :])\n",
    "            shift = -(1 - 1.0 / M) .* collect(1:Int(M / 2))\n",
    "            s[2:end] .= s[2:end] .* (2 .* exp.(-im * π .* shift))\n",
    "            correction = M / sum(real.(s))\n",
    "        end\n",
    "        windows .= windows .* correction\n",
    "    end\n",
    "end\n",
    "\n",
    "if needs_trunc\n",
    "    windows = windows[:, 1:end-1]\n",
    "end\n",
    "if singleton\n",
    "    windows = windows[1, :]\n",
    "end\n"
   ]
  },
  {
   "cell_type": "code",
   "execution_count": null,
   "metadata": {},
   "outputs": [],
   "source": [
    "\n",
    "function py_dpss(M::Int, NW::Float64; Kmax::Union{Int,Nothing}=nothing, sym::Bool=true, norm::Union{Int,String,Nothing}=nothing, return_ratios::Bool=false)\n",
    "    \"\"\"\n",
    "    Compute the Discrete Prolate Spheroidal Sequences (DPSS).\n",
    "\n",
    "    Parameters\n",
    "    ----------\n",
    "    M : Int\n",
    "        Window length.\n",
    "    NW : Float64\n",
    "        Standardized half bandwidth corresponding to 2*NW = BW/f0 = BW*M*dt\n",
    "        where dt is taken as 1.\n",
    "    Kmax : Int or Nothing, optional\n",
    "        Number of DPSS windows to return (orders 0 through Kmax-1).\n",
    "        If nothing (default), return only a single window of shape (M,)\n",
    "        instead of an array of windows of shape (Kmax, M).\n",
    "    sym : Bool, optional\n",
    "        When true (default), generates a symmetric window, for use in filter design.\n",
    "        When false, generates a periodic window, for use in spectral analysis.\n",
    "    norm : Int, String, or Nothing, optional\n",
    "        If \"approximate\" or \"subsample\", then the windows are normalized by the\n",
    "        maximum, and a correction scale-factor for even-length windows\n",
    "        is applied either using M^2/(M^2+NW) (\"approximate\") or\n",
    "        a FFT-based subsample shift (\"subsample\").\n",
    "        If nothing, then \"approximate\" is used when Kmax=nothing and 2 otherwise\n",
    "        (which uses the l2 norm).\n",
    "    return_ratios : Bool, optional\n",
    "        If true, also return the concentration ratios in addition to the windows.\n",
    "\n",
    "    Returns\n",
    "    -------\n",
    "    windows : Array{Float64, 2} or Array{Float64, 1}\n",
    "        The DPSS windows. Will be 1D if `Kmax` is nothing.\n",
    "    ratios : Array{Float64, 1} or Float64, optional\n",
    "        The concentration ratios for the windows. Only returned if\n",
    "        `return_ratios` evaluates to true. Will be scalar if `Kmax` is nothing.\n",
    "    \"\"\"\n",
    "    if norm === nothing\n",
    "        norm = Kmax === nothing ? \"approximate\" : 2\n",
    "    end\n",
    "    known_norms = [2, \"approximate\", \"subsample\"]\n",
    "    if !(norm in known_norms)\n",
    "        error(\"norm must be one of $known_norms, got $norm\")\n",
    "    end\n",
    "    if Kmax === nothing\n",
    "        singleton = true\n",
    "        Kmax = 1\n",
    "    else\n",
    "        singleton = false\n",
    "    end\n",
    "    Kmax = Int(Kmax)\n",
    "    if !(0 < Kmax <= M)\n",
    "        error(\"Kmax must be greater than 0 and less than M\")\n",
    "    end\n",
    "    if NW >= M / 2.0\n",
    "        error(\"NW must be less than M/2.\")\n",
    "    end\n",
    "    if NW <= 0\n",
    "        error(\"NW must be positive\")\n",
    "    end\n",
    "    M, needs_trunc = _extend(M, sym)\n",
    "    W = NW / M\n",
    "    nidx = collect(0:M-1)\n",
    "    d = ((M - 1 .- 2 .* nidx) ./ 2.0) .^ 2 .* cos.(2pi * W)\n",
    "    e = nidx[2:end] .* (M .- nidx[2:end]) ./ 2.0\n",
    "    T = Tridiagonal(e, d, e)\n",
    "    eigs = eigen(T)\n",
    "    eigvals = eigs.values\n",
    "    eigvecs = eigs.vectors\n",
    "    indices = M-Kmax+1:M\n",
    "    eigvals = eigvals[indices]\n",
    "    eigvals = reverse(eigvals)\n",
    "    eigvecs = eigvecs[end:-1:1, indices];\n",
    "    windows = eigvecs[:, end:-1:1]' \n",
    "    # Correct the sign conventions\n",
    "    fix_even = sum(windows[1:2:end, :], dims=2) .< 0\n",
    "    for (i, f) in enumerate(fix_even)\n",
    "        if f[1]\n",
    "            windows[2i-1, :] *= -1\n",
    "        end\n",
    "    end\n",
    "    thresh = max(1e-7, 1.0 / M)\n",
    "    for (i, w) in enumerate(eachrow(windows[2:2:end, :]))\n",
    "        idx = findfirst(x -> x^2 > thresh, w)\n",
    "        if idx !== nothing && w[idx] < 0\n",
    "            windows[2i, :] *= -1\n",
    "        end\n",
    "    end\n",
    "\n",
    "    if return_ratios\n",
    "        dpss_rxx = _fftautocorr(windows)\n",
    "        r = 4 * W * sinc.(2 * W .* nidx)\n",
    "        r[1] = 2 * W\n",
    "        ratios = dpss_rxx * r\n",
    "        if singleton\n",
    "            ratios = ratios[1]\n",
    "        end\n",
    "    end\n",
    "\n",
    "    if norm != 2 \n",
    "        # checked vs python and it is the same\n",
    "        windows .= windows ./ maximum(abs.(windows))\n",
    "        if iseven(M)\n",
    "            if norm == \"approximate\"\n",
    "                correction = M^2 / (M^2 + NW)\n",
    "            else\n",
    "                s = rfft(windows[1, :])\n",
    "                shift = -(1 - 1.0 / M) .* collect(1:Int(M / 2))\n",
    "                s[2:end] .= s[2:end] .* (2 .* exp.(-im * π .* shift))\n",
    "                correction = M / sum(real.(s))\n",
    "            end\n",
    "            windows .= windows .* correction\n",
    "        end\n",
    "    end\n",
    "    if needs_trunc\n",
    "        windows = windows[:, 1:end-1]\n",
    "    end\n",
    "    if singleton\n",
    "        windows = windows[1, :]\n",
    "    end\n",
    "    if return_ratios\n",
    "        return windows, ratios\n",
    "    else\n",
    "        return windows\n",
    "    end\n",
    "end\n"
   ]
  },
  {
   "cell_type": "markdown",
   "metadata": {},
   "source": [
    "# check dpss outputs"
   ]
  },
  {
   "cell_type": "code",
   "execution_count": null,
   "metadata": {},
   "outputs": [],
   "source": [
    "py_dpss_out = npzread(joinpath(output_path, \"dpss~epoch0_tap0_freq2.npy\"))\n",
    "py_eigvals = npzread(joinpath(output_path, \"eigvals~epoch0_tap0_freq2.npy\"));\n",
    "dpss_out, eigenvals = py_dpss(112, 2.0, Kmax=3, sym=false, norm=2, return_ratios=true)\n",
    "@assert isapprox(dpss_out, py_dpss_out, atol=1e-13)\n",
    "@assert isapprox(eigenvals, py_eigvals, atol=1e-14)"
   ]
  },
  {
   "cell_type": "markdown",
   "metadata": {},
   "source": [
    "# dpss tapers are now very close, calculate Wk"
   ]
  },
  {
   "cell_type": "code",
   "execution_count": null,
   "metadata": {},
   "outputs": [],
   "source": [
    "freqs = collect(2:15) # inclusive of end \n",
    "n_freqs = length(freqs)\n",
    "mt_bandwidth = 4\n",
    "n_taps = floor(Int, mt_bandwidth - 1)\n",
    "n_cycles = 7\n",
    "sfreq = 32\n",
    "zero_mean = true\n",
    "\n",
    "weights = Array{Float64, 3}(undef, n_taps, n_freqs, size(X, ndims(X)))\n",
    "Ws = Matrix{Vector{ComplexF64}}(undef, n_taps, n_freqs)\n",
    "sp5 = sqrt(0.5)\n",
    "# Loop over frequencies first\n",
    "for k = 1:n_freqs\n",
    "    f = freqs[k]\n",
    "    t_win = n_cycles / f\n",
    "    len_t = Int(ceil(t_win * sfreq))\n",
    "\n",
    "    t = collect(0:1/sfreq:t_win-(t_win % (1 / sfreq) == 0 ? 1 / sfreq : 0)) # exclude last value if it fits exactly\n",
    "    t_centered = t .- t_win / 2.0\n",
    "\n",
    "    # Precompute oscillation and taper\n",
    "    oscillation = exp.(2.0 * im * pi * f .* t_centered)\n",
    "\n",
    "    taper,e = py_dpss(len_t, mt_bandwidth / 2, Kmax= n_taps, sym=false, norm=2, return_ratios=true)\n",
    "    weights[:, k, :] .= sqrt.(e)\n",
    "\n",
    "    for m = 1:n_taps\n",
    "        # Use @view to avoid copying taper column\n",
    "        Wk = oscillation .* @view taper[m, :]\n",
    "\n",
    "        if zero_mean  # To make it zero mean\n",
    "            real_offset = mean(Wk)\n",
    "            Wk .-= real_offset\n",
    "        end\n",
    "\n",
    "        # Normalize Wk\n",
    "        Wk /= sp5 * norm(Wk)\n",
    "\n",
    "        # Store Wk in preallocated Ws\n",
    "        Ws[m, k] = Wk\n",
    "    end\n",
    "end\n"
   ]
  },
  {
   "cell_type": "code",
   "execution_count": null,
   "metadata": {},
   "outputs": [],
   "source": [
    "py_weights_epoch0 = npzread(joinpath(output_path, \"weights~epoch0.npy\"))\n",
    "py_weights_epoch1 = npzread(joinpath(output_path, \"weights~epoch1.npy\"))\n",
    "@assert py_weights_epoch0 == py_weights_epoch1\n",
    "@assert isapprox(weights, py_weights_epoch0, atol=1e-13)\n",
    "@assert isapprox(weights, py_weights_epoch0, atol=1e-13)"
   ]
  },
  {
   "cell_type": "code",
   "execution_count": null,
   "metadata": {},
   "outputs": [],
   "source": [
    "py_ws_epoch0 = load_pickle(joinpath(output_path, \"Ws~epoch0.pkl\"))\n",
    "py_ws_epoch1 = load_pickle(joinpath(output_path, \"Ws~epoch1.pkl\"))\n",
    "@assert py_ws_epoch0 == py_ws_epoch1 # ws are the same across epochs and don't need to be recalculated\n",
    "\n",
    "@assert isapprox(Ws, py_ws_epoch0, atol=1e-13)"
   ]
  },
  {
   "cell_type": "markdown",
   "metadata": {},
   "source": [
    "Ws now match. they only need to be calculated once. Weights is also the same. Python package is duplicating a lot of work here."
   ]
  },
  {
   "cell_type": "markdown",
   "metadata": {},
   "source": [
    "What about whole computation now?"
   ]
  },
  {
   "cell_type": "code",
   "execution_count": null,
   "metadata": {},
   "outputs": [],
   "source": [
    "tfrs, fft_Ws, fft_X = compute_tfr(data, Ws, _get_nfft(Ws, X));"
   ]
  },
  {
   "cell_type": "code",
   "execution_count": null,
   "metadata": {},
   "outputs": [],
   "source": [
    "size(tfrs) # (epochs, channels, tapers, freqs, times)"
   ]
  },
  {
   "cell_type": "code",
   "execution_count": null,
   "metadata": {},
   "outputs": [],
   "source": [
    "py_tfrs_epoch0_channel0 = npzread(joinpath(output_path, \"tfrs~epoch0_channel0.npy\"))\n",
    "py_tfrs_epoch0_channel1 = npzread(joinpath(output_path, \"tfrs~epoch0_channel1.npy\"))\n",
    "py_tfrs_epoch0_channel2 = npzread(joinpath(output_path, \"tfrs~epoch0_channel2.npy\"))\n",
    "py_tfrs_epoch0_channel3 = npzread(joinpath(output_path, \"tfrs~epoch0_channel3.npy\"))\n",
    "size(py_tfrs_epoch0_channel0) # (tapers, none, freqs, times)"
   ]
  },
  {
   "cell_type": "code",
   "execution_count": null,
   "metadata": {},
   "outputs": [],
   "source": [
    "@assert isapprox(tfrs[1, 1, :, :, :], py_tfrs_epoch0_channel0[:,1,:,:], atol=1e-10)\n",
    "@assert isapprox(tfrs[1, 2, :, :, :], py_tfrs_epoch0_channel1[:,1,:,:], atol=1e-10)\n",
    "@assert isapprox(tfrs[1, 3, :, :, :], py_tfrs_epoch0_channel2[:,1,:,:], atol=1e-10)\n",
    "@assert isapprox(tfrs[1, 4, :, :, :], py_tfrs_epoch0_channel3[:,1,:,:], atol=1e-10)"
   ]
  },
  {
   "cell_type": "code",
   "execution_count": null,
   "metadata": {},
   "outputs": [],
   "source": [
    "plot(real(tfrs[1, 1, 1, 14, :]))\n",
    "plot!(real(py_tfrs_epoch0_channel0[1, 1, 14, :]))"
   ]
  },
  {
   "cell_type": "code",
   "execution_count": null,
   "metadata": {},
   "outputs": [],
   "source": [
    "plot(imag(tfrs[1, 1, 1, 14, :]))\n",
    "plot!(imag(py_tfrs_epoch0_channel0[1, 1, 14, :]))"
   ]
  },
  {
   "cell_type": "markdown",
   "metadata": {},
   "source": [
    "# rest of calculation"
   ]
  },
  {
   "cell_type": "code",
   "execution_count": null,
   "metadata": {},
   "outputs": [],
   "source": [
    "\n",
    "expanded_weights = reshape(weights, (1, size(weights, 1), size(weights, 2), size(weights, 3)));\n",
    "\n",
    "psd_per_epoch = zeros(size(data,1), size(data, 2), size(weights, 2), size(data, 3));\n",
    "for epoch_idx = 1:size(data,1)\n",
    "    # Perform the element-wise multiplication with broadcasting\n",
    "    psd = expanded_weights .* tfrs[epoch_idx, :, :, :, :]\n",
    "    \n",
    "    # Square magnitude (complex conjugate multiplication)\n",
    "    psd = psd .* conj(psd)\n",
    "    \n",
    "    # Sum across the second dimension (axis=1 in Python)\n",
    "    psd = sum(real(psd), dims=2)\n",
    "    \n",
    "    # Calculate normalization factor for `weights`, matching dimensions\n",
    "    normalization = 2 ./ sum(real(expanded_weights .* conj(expanded_weights)), dims=2)\n",
    "    psd = psd .* normalization\n",
    "    # @show size(psd)\n",
    "    # psd_squeezed = dropdims(psd, dims=2);\n",
    "    \n",
    "    psd_per_epoch[epoch_idx, :, :, :] .= psd[:, 1, :, :]\n",
    "end"
   ]
  },
  {
   "cell_type": "code",
   "execution_count": null,
   "metadata": {},
   "outputs": [],
   "source": [
    "size(psd_per_epoch)"
   ]
  },
  {
   "cell_type": "code",
   "execution_count": null,
   "metadata": {},
   "outputs": [],
   "source": [
    "coherence = zeros(size(data, 1), size(data, 2), size(data, 2), size(psd_per_epoch, 3))\n",
    "\n",
    "for epoch_idx = 1:size(data, 1)\n",
    "    for x = 1:size(data, 2)\n",
    "        for y = (x + 1):size(data, 2)  # Skip diagonal and only calculate for lower triangle\n",
    "            w_x = tfrs[epoch_idx, x, :, :, :]\n",
    "            w_y = tfrs[epoch_idx, y, :, :, :]\n",
    "            s_xy = sum(weights .* w_x .* conj(weights .* w_y), dims=1)  # sum over tapers\n",
    "            normalization = 2 ./ sum(real(weights .* conj(weights)), dims=1)\n",
    "            s_xy = s_xy .* normalization\n",
    "\n",
    "            s_xx = psd_per_epoch[epoch_idx, x, :, :]\n",
    "            s_yy = psd_per_epoch[epoch_idx, y, :, :]\n",
    "\n",
    "            coh_value = coh(s_xx, s_yy, s_xy[1, :, :])\n",
    "            # coherence[epoch_idx, x, y, :] .= coh_value # Copy to symmetric position\n",
    "            coherence[epoch_idx, y, x, :] .= coh_value  \n",
    "        end\n",
    "    end\n",
    "end\n",
    "coherence_mean = mean(coherence, dims=ndims(coherence));"
   ]
  },
  {
   "cell_type": "code",
   "execution_count": null,
   "metadata": {},
   "outputs": [],
   "source": [
    "# load array shaped (epoch,channel,channel,band) (1 in this case) for average\n",
    "py_coh_org = npzread(joinpath(output_org_path, \"coh_favg_unmodified_python.npy\"));\n"
   ]
  },
  {
   "cell_type": "code",
   "execution_count": null,
   "metadata": {},
   "outputs": [],
   "source": [
    "@assert isapprox(coherence_mean, py_coh_org, atol=1e-14)"
   ]
  },
  {
   "cell_type": "code",
   "execution_count": null,
   "metadata": {},
   "outputs": [],
   "source": [
    "i=4\n",
    "plot(coherence_mean[1, i, :, 1])\n",
    "plot!(py_coh_org[1, i, :, 1])"
   ]
  },
  {
   "cell_type": "markdown",
   "metadata": {},
   "source": [
    "# optimizations"
   ]
  },
  {
   "cell_type": "code",
   "execution_count": null,
   "metadata": {},
   "outputs": [],
   "source": [
    "using LinearAlgebra, FFTW\n",
    "\n",
    "function new_py_dpss(M::Int, NW::Float64, normalization_type::Int, Kmax::Int; sym::Bool=true)::Tuple{Array{Float64, 2}, Union{Array{Float64, 1}, Float64}}\n",
    "    # Validate inputs\n",
    "    known_norms = (1, 2, 3)\n",
    "    if normalization_type ∉ known_norms\n",
    "        error(\"normalization_type must be one of $known_norms, got $normalization_type\")\n",
    "    end\n",
    "    if Kmax === 1\n",
    "        singleton = true\n",
    "    else\n",
    "        singleton = false\n",
    "    end\n",
    "    if !(0 < Kmax <= M)\n",
    "        error(\"Kmax must be greater than 0 and less than or equal to M\")\n",
    "    end\n",
    "    if NW >= M / 2.0\n",
    "        error(\"NW must be less than M/2.\")\n",
    "    end\n",
    "    if NW <= 0\n",
    "        error(\"NW must be positive\")\n",
    "    end\n",
    "\n",
    "    M, needs_trunc = _extend(M, sym)\n",
    "    W = NW / M\n",
    "    nidx = collect(0:M-1)\n",
    "    d = ((M - 1 .- 2 .* nidx) ./ 2.0) .^ 2 .* cos.(2pi * W)\n",
    "    e = nidx[2:end] .* (M .- nidx[2:end]) ./ 2.0\n",
    "    # Use SymTridiagonal for efficient eigenvalue computation\n",
    "    T = SymTridiagonal(d, e)\n",
    "    eigs = eigen(T)\n",
    "    # Extract the largest Kmax eigenvalues and eigenvectors\n",
    "    indices = M-Kmax+1:M\n",
    "    eigvals = eigs.values[indices]\n",
    "    windows = eigs.vectors[end:-1:1, indices]\n",
    "    windows = windows[:, end:-1:1]'\n",
    "    # Correct sign conventions\n",
    "    fix_even = sum(windows[1:2:end, :], dims=2) .< 0\n",
    "    windows[1:2:end, :][fix_even[:,1], :] .*= -1\n",
    "\n",
    "    # # Correct signs for even-indexed windows\n",
    "    thresh = max(1e-7, 1.0 / M)\n",
    "    for (i, w) in enumerate(eachrow(windows[2:2:end, :]))\n",
    "        idx = findfirst(x -> x^2 > thresh, w)\n",
    "        if idx !== nothing && w[idx] < 0\n",
    "            windows[2i, :] *= -1\n",
    "        end\n",
    "    end\n",
    "\n",
    "    # Compute concentration ratios\n",
    "    dpss_rxx = _fftautocorr(windows)\n",
    "    r = 4 * W * sinc.(2 * W .* (nidx))\n",
    "    r[1] = 2 * W\n",
    "    ratios = dpss_rxx * r\n",
    "    \n",
    "    if singleton\n",
    "        ratios = ratios[1]\n",
    "    end\n",
    "    # Apply normalization if needed\n",
    "    if normalization_type != 1\n",
    "        max_abs = maximum(abs, windows)\n",
    "        windows ./= max_abs\n",
    "        if iseven(M)\n",
    "            if normalization_type == 2\n",
    "                correction = M^2 / (M^2 + NW)\n",
    "            elseif normalization_type == 3\n",
    "                s = rfft(windows[1, :])\n",
    "                shift = -(1 - 1.0 / M) .* (1:Int(M / 2))\n",
    "                s[2:end] .*= 2 .* exp.(-im * π .* shift)\n",
    "                correction = M / sum(real(s))\n",
    "            end\n",
    "            windows .*= correction\n",
    "        end\n",
    "    end\n",
    "    \n",
    "    if needs_trunc\n",
    "        windows = windows[:, 1:end-1]\n",
    "    end\n",
    "    if singleton\n",
    "        windows = windows[1, :]\n",
    "    end\n",
    "    return windows, ratios\n",
    "end\n",
    "\n"
   ]
  },
  {
   "cell_type": "code",
   "execution_count": null,
   "metadata": {},
   "outputs": [],
   "source": [
    "dpss_out, eigenvals = py_dpss(112, 2.0, Kmax=3, sym=false, norm=2, return_ratios=true)\n",
    "\n",
    "dpss_out_new, eigenvals_new = new_py_dpss(112, 2.0, 1, 3,sym=false)\n",
    "dpss_out == dpss_out_new, eigenvals == eigenvals_new"
   ]
  },
  {
   "cell_type": "code",
   "execution_count": null,
   "metadata": {},
   "outputs": [],
   "source": []
  }
 ],
 "metadata": {
  "kernelspec": {
   "display_name": "Julia 1.11.1",
   "language": "julia",
   "name": "julia-1.11"
  },
  "language_info": {
   "file_extension": ".jl",
   "mimetype": "application/julia",
   "name": "julia",
   "version": "1.11.1"
  }
 },
 "nbformat": 4,
 "nbformat_minor": 2
}
