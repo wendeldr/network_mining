{
 "cells": [
  {
   "cell_type": "code",
   "execution_count": 41,
   "metadata": {},
   "outputs": [
    {
     "data": {
      "text/plain": [
       "tril_indices (generic function with 1 method)"
      ]
     },
     "execution_count": 41,
     "metadata": {},
     "output_type": "execute_result"
    }
   ],
   "source": [
    "using Statistics\n",
    "function coh(s_xx::AbstractMatrix{Float64}, s_yy::AbstractMatrix{Float64}, s_xy::AbstractMatrix{ComplexF64})::Array{Float64}\n",
    "    # Compute the numerator: absolute value of the mean of s_xy along the last dimension\n",
    "    con_num = abs.(mean(s_xy, dims=ndims(s_xy)))\n",
    "\n",
    "    # Compute the denominator: square root of the product of means of s_xx and s_yy along the last dimension\n",
    "    con_den = sqrt.(mean(s_xx, dims=ndims(s_xx)) .* mean(s_yy, dims=ndims(s_yy)))\n",
    "\n",
    "    # Calculate coherence as the element-wise division of numerator by denominator\n",
    "    coh = con_num ./ con_den\n",
    "    return coh\n",
    "end\n",
    "\n",
    "function tril_indices(n)\n",
    "    pairs = Array{Tuple{Int,Int},1}(undef, n * (n - 1) ÷ 2)\n",
    "    q = 1\n",
    "    for x in 1:n\n",
    "        for y in (x+1):n\n",
    "            pairs[q] = (x, y)\n",
    "            q += 1\n",
    "        end\n",
    "    end\n",
    "    return pairs\n",
    "end"
   ]
  },
  {
   "cell_type": "code",
   "execution_count": 16,
   "metadata": {},
   "outputs": [
    {
     "data": {
      "text/plain": [
       "4656"
      ]
     },
     "execution_count": 16,
     "metadata": {},
     "output_type": "execute_result"
    }
   ],
   "source": [
    "n_epochs = 606\n",
    "n_channels = 97\n",
    "n_times = 1024\n",
    "n_taps = 3\n",
    "freqs = collect(14:1023)\n",
    "n_freqs = length(freqs)\n",
    "n_cycles = 7\n",
    "sfreq = 2048\n",
    "nfft = 2048\n",
    "mt_bandwidth = 4\n",
    "\n",
    "weights = Array{Float64,3}(undef, n_taps, n_freqs, n_times)\n",
    "Ws = Matrix{Vector{ComplexF64}}(undef, n_taps, n_freqs)\n",
    "\n",
    "normalization = 2 ./ sum(real(weights .* conj(weights)), dims=1);\n",
    "\n",
    "pairs = tril_indices(n_channels)\n",
    "n_pairs = length(pairs)"
   ]
  },
  {
   "cell_type": "code",
   "execution_count": 4,
   "metadata": {},
   "outputs": [],
   "source": [
    "e = 44\n",
    "tfrs = Array{ComplexF64,5}(undef, e, n_channels, n_taps, n_freqs, n_times);\n",
    "\n",
    "psd_per_epoch = Array{Float64,4}(undef, e, n_channels, n_freqs, n_times)\n",
    "coherence = Array{Float64,4}(undef, e, n_channels, n_channels, n_freqs);\n"
   ]
  },
  {
   "cell_type": "code",
   "execution_count": 6,
   "metadata": {},
   "outputs": [
    {
     "data": {
      "text/plain": [
       "((44, 97, 3, 1010, 1024), (44, 97, 1010, 1024), (44, 97, 97, 1010))"
      ]
     },
     "execution_count": 6,
     "metadata": {},
     "output_type": "execute_result"
    }
   ],
   "source": [
    "size(tfrs), size(psd_per_epoch), size(coherence)"
   ]
  },
  {
   "cell_type": "code",
   "execution_count": 42,
   "metadata": {},
   "outputs": [
    {
     "data": {
      "text/plain": [
       "1010-element view(::Array{Float64, 4}, 1, 2, 1, :) with eltype Float64:\n",
       " NaN\n",
       " NaN\n",
       " NaN\n",
       " NaN\n",
       " NaN\n",
       " NaN\n",
       " NaN\n",
       " NaN\n",
       " NaN\n",
       " NaN\n",
       " NaN\n",
       " NaN\n",
       " NaN\n",
       "   ⋮\n",
       " NaN\n",
       " NaN\n",
       " NaN\n",
       " NaN\n",
       " NaN\n",
       " NaN\n",
       " NaN\n",
       " NaN\n",
       " NaN\n",
       " NaN\n",
       " NaN\n",
       " NaN"
      ]
     },
     "execution_count": 42,
     "metadata": {},
     "output_type": "execute_result"
    }
   ],
   "source": [
    "idx = 1\n",
    "# Calculate the epoch index and pair index\n",
    "epoch_idx = div(idx - 1, n_pairs) + 1\n",
    "pair_idx = mod(idx - 1, n_pairs) + 1\n",
    "x, y = pairs[pair_idx]\n",
    "# println(\"Epoch: $epoch_idx, Pair: ($x, $y)\")\n",
    "# Now perform your operations\n",
    "w_x = @view tfrs[epoch_idx, x, :, :, :]\n",
    "w_y = @view tfrs[epoch_idx, y, :, :, :]\n",
    "s_xy = sum(weights .* w_x .* conj(weights .* w_y), dims=1)  # sum over tapers\n",
    "s_xy .= s_xy .* normalization\n",
    "\n",
    "s_xx = @view psd_per_epoch[epoch_idx, x, :, :]\n",
    "s_yy = @view psd_per_epoch[epoch_idx, y, :, :]\n",
    "coh_value = coh(s_xx, s_yy, s_xy[1, :, :])\n",
    "\n",
    "# Copy to symmetric position\n",
    "coherence[epoch_idx, y, x, :] .= coh_value"
   ]
  },
  {
   "cell_type": "code",
   "execution_count": null,
   "metadata": {},
   "outputs": [
    {
     "ename": "LoadError",
     "evalue": "ParseError:\n\u001b[90m# Error @ \u001b[0;0m\u001b]8;;file:///media/dan/Data/git/network_mining/julia_v_python_connectivity/In[27]#1:8\u001b\\\u001b[90mIn[27]:1:8\u001b[0;0m\u001b]8;;\u001b\\\nweights\u001b[48;2;120;70;70m 3×1010×1024 Array{Float64, 3}:\u001b[0;0m\n\u001b[90m#      └─────────────────────────────┘ ── \u001b[0;0m\u001b[91mextra tokens after end of expression\u001b[0;0m",
     "output_type": "error",
     "traceback": [
      "ParseError:\n\u001b[90m# Error @ \u001b[0;0m\u001b]8;;file:///media/dan/Data/git/network_mining/julia_v_python_connectivity/In[27]#1:8\u001b\\\u001b[90mIn[27]:1:8\u001b[0;0m\u001b]8;;\u001b\\\nweights\u001b[48;2;120;70;70m 3×1010×1024 Array{Float64, 3}:\u001b[0;0m\n\u001b[90m#      └─────────────────────────────┘ ── \u001b[0;0m\u001b[91mextra tokens after end of expression\u001b[0;0m",
      "",
      "Stacktrace:",
      " [1] top-level scope",
      "   @ In[27]:1"
     ]
    }
   ],
   "source": [
    "weights = 3×1010×1024 Array{Float64, 3}\n",
    "normalization = 1×1010×1024 Array{Float64, 3}\n",
    "tfrs = 44×97×3×1010×1024 Array{ComplexF64, 5}\n",
    "psd_per_epoch = 44×97×1010×1024 Array{Float64, 4}"
   ]
  },
  {
   "cell_type": "code",
   "execution_count": null,
   "metadata": {},
   "outputs": [],
   "source": [
    "coherence = Array{Float64,4}(e, n_channels, n_channels, n_freqs)\n",
    "\n",
    "for epoch_idx = 1:e\n",
    "for x = 1:c\n",
    "    for y = (x+1):c  # Skip diagonal and only calculate for lower triangle\n",
    "            w_x = tfrs[epoch_idx, x, :, :, :]\n",
    "            w_y = tfrs[epoch_idx, y, :, :, :]\n",
    "            s_xy = sum(weights .* w_x .* conj(weights .* w_y), dims=1)  # sum over tapers\n",
    "\n",
    "            s_xy = s_xy .* normalization\n",
    "\n",
    "            s_xx = psd_per_epoch[epoch_idx, x, :, :]\n",
    "            s_yy = psd_per_epoch[epoch_idx, y, :, :]\n",
    "\n",
    "            coh_value = coh(s_xx, s_yy, s_xy[1, :, :])\n",
    "            # coherence[epoch_idx, x, y, :] .= coh_value # Copy to symmetric position\n",
    "            coherence[epoch_idx, y, x, :] .= coh_value\n",
    "        end\n",
    "    end\n",
    "end"
   ]
  },
  {
   "cell_type": "code",
   "execution_count": null,
   "metadata": {},
   "outputs": [],
   "source": [
    "\n",
    "\n",
    "\n",
    "for idx = 1:(e * n_channels)\n",
    "    # Compute epoch_idx and c_idx from idx\n",
    "    epoch_idx = div(idx - 1, n_channels) + 1\n",
    "    c_idx = mod(idx - 1, n_channels) + 1\n",
    "\n",
    "    # Perform the element-wise multiplication with broadcasting\n",
    "    psd = weights .* tfr[epoch_idx, c_idx, :, :, :]\n",
    "\n",
    "    # Square magnitude (complex conjugate multiplication)\n",
    "    psd = psd .* conj(psd)\n",
    "\n",
    "    # Sum across the first dimension (dims=1 in Julia)\n",
    "    psd = sum(real(psd), dims=1)\n",
    "\n",
    "    # Apply the normalization\n",
    "    psd = psd .* coh_normalization\n",
    "\n",
    "    # Update the psd_per_epoch array\n",
    "    psd_per_epoch[epoch_idx, c_idx, :, :] .= psd[1, :, :]\n",
    "end\n"
   ]
  },
  {
   "cell_type": "code",
   "execution_count": 91,
   "metadata": {},
   "outputs": [],
   "source": [
    "pairs = Array{Tuple{Int,Int},1}(undef, c * (c - 1) ÷ 2)\n",
    "i = 1\n",
    "for x in 1:c\n",
    "    for y in (x+1):c\n",
    "        pairs[i] = (x, y)\n",
    "        i += 1\n",
    "    end\n",
    "end\n",
    "\n",
    "n_pairs = length(pairs)\n",
    "\n",
    "# Total number of iterations\n",
    "total_iterations = e * n_pairs\n",
    "\n",
    "for idx in 1:total_iterations\n",
    "    # Calculate the epoch index and pair index\n",
    "    epoch_idx = div(idx - 1, n_pairs) + 1\n",
    "    pair_idx = mod(idx - 1, n_pairs) + 1\n",
    "    x, y = pairs[pair_idx]\n",
    "    println(\"Epoch: $epoch_idx, Pair: ($x, $y)\")\n",
    "    # # Now perform your operations\n",
    "    # w_x = tfrs[epoch_idx, x, :, :, :]\n",
    "    # w_y = tfrs[epoch_idx, y, :, :, :]\n",
    "    # s_xy = sum(weights .* w_x .* conj(weights .* w_y), dims=1)  # sum over tapers\n",
    "    # s_xy = s_xy .* normalization\n",
    "\n",
    "    # s_xx = psd_per_epoch[epoch_idx, x, :, :]\n",
    "    # s_yy = psd_per_epoch[epoch_idx, y, :, :]\n",
    "    # coh_value = coh(s_xx, s_yy, s_xy[1, :, :])\n",
    "\n",
    "    # # Copy to symmetric position\n",
    "    # coherence[epoch_idx, y, x, :] .= coh_value\n",
    "    break\n",
    "end"
   ]
  },
  {
   "cell_type": "code",
   "execution_count": 98,
   "metadata": {},
   "outputs": [
    {
     "data": {
      "text/plain": [
       "15-element Vector{Tuple{Int64, Int64}}:\n",
       " (1, 2)\n",
       " (1, 3)\n",
       " (1, 4)\n",
       " (1, 5)\n",
       " (1, 6)\n",
       " (2, 3)\n",
       " (2, 4)\n",
       " (2, 5)\n",
       " (2, 6)\n",
       " (3, 4)\n",
       " (3, 5)\n",
       " (3, 6)\n",
       " (4, 5)\n",
       " (4, 6)\n",
       " (5, 6)"
      ]
     },
     "metadata": {},
     "output_type": "display_data"
    }
   ],
   "source": [
    "function tril_indices(n)\n",
    "    pairs = Array{Tuple{Int,Int},1}(undef, n * (n - 1) ÷ 2)\n",
    "    q = 1\n",
    "    for x in 1:n\n",
    "        for y in (x+1):n\n",
    "            pairs[q] = (x, y)\n",
    "            q += 1\n",
    "        end\n",
    "    end\n",
    "    return pairs\n",
    "end\n",
    "\n",
    "tril_indices(6)"
   ]
  },
  {
   "cell_type": "code",
   "execution_count": null,
   "metadata": {},
   "outputs": [],
   "source": []
  }
 ],
 "metadata": {
  "kernelspec": {
   "display_name": "Julia 1.11.1",
   "language": "julia",
   "name": "julia-1.11"
  },
  "language_info": {
   "file_extension": ".jl",
   "mimetype": "application/julia",
   "name": "julia",
   "version": "1.11.1"
  }
 },
 "nbformat": 4,
 "nbformat_minor": 2
}
