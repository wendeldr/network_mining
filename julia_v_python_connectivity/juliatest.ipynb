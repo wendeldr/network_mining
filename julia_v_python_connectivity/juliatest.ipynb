{
 "cells": [
  {
   "cell_type": "code",
   "execution_count": null,
   "metadata": {},
   "outputs": [
    {
     "data": {
      "text/plain": [
       "3×14 Matrix{Vector{ComplexF64}}:\n",
       " [-0.00416117-4.86208e-18im, -0.0049611-0.00200327im, -0.00478543-0.00466064im, -0.00322968-0.00749588im, -0.000124787-0.00980932im, 0.00434712-0.0107961im, 0.00959711-0.0097219im, 0.0146615-0.00612467im, 0.0183328+1.21606e-17im, 0.0193803+0.00807926im  …  0.0168254-0.0169502im, 0.0193803-0.00807926im, 0.0183328-1.49643e-17im, 0.0146615+0.00612467im, 0.00959711+0.0097219im, 0.00434712+0.0107961im, -0.000124787+0.00980932im, -0.00322968+0.00749588im, -0.00478543+0.00466064im, -0.0049611+0.00200327im]  …  [-0.0245943-0.000252773im, 0.0648194-0.0133437im, -0.127572+0.052178im, 0.190925-0.128488im, -0.240404+0.239158im, 0.245764-0.369551im, -0.203345+0.488268im, 0.111362-0.565099im, -0.000993031+0.575659im, -0.104151-0.518863im, 0.168976+0.41009im, -0.189097-0.28177im, 0.16222+0.16296im, -0.114911-0.0763705im, 0.0610009+0.025426im]\n",
       " [-0.023527+0.00096174im, -0.0260059-0.00989803im, -0.0233636-0.0226138im, -0.0145658-0.0347149im, 0.000211955-0.0432279im, 0.019363-0.0452729im, 0.0399225-0.0387488im, 0.0579655-0.0229606im, 0.0692887+0.00096174im, 0.0702649+0.0299786im  …  -0.0582836+0.0594573im, -0.069841+0.0299786im, -0.0688647+0.00096174im, -0.0575416-0.0229606im, -0.0394986-0.0387488im, -0.0189391-0.0452729im, 0.000211955-0.0432279im, 0.0149897-0.0347149im, 0.0237875-0.0226138im, 0.0264298-0.00989803im]                             [-0.0995938+0.00165746im, 0.227797-0.042274im, -0.323028+0.138334im, 0.393919-0.256914im, -0.354318+0.362914im, 0.266029-0.386098im, -0.118473+0.304429im, 0.0299682-0.114118im, 0.00693893-0.116387im, 0.0708735+0.323078im, -0.171525-0.429193im, 0.290776+0.42645im, -0.32216-0.327442im, 0.303901+0.200081im, -0.201105-0.0845172im]\n",
       " [-0.0869204-8.46111e-17im, -0.0888341-0.0363315im, -0.0747082-0.0735861im, -0.0444084-0.104502im, -0.00112215-0.122007im, 0.0488862-0.120731im, 0.0972047-0.0983269im, 0.13475-0.0562801im, 0.153521+1.0257e-16im, 0.148283+0.0618858im  …  0.117826-0.118948im, 0.148283-0.0618858im, 0.153521-1.2469e-16im, 0.13475+0.0562801im, 0.0972047+0.0983269im, 0.0488862+0.120731im, -0.00112215+0.122007im, -0.0444084+0.104502im, -0.0747082+0.0735861im, -0.0888341+0.0363315im]                                              [-0.314143-0.00256919im, 0.443614-0.0919054im, -0.48818+0.197359im, 0.378569-0.259203im, -0.203249+0.19517im, 0.00915885-0.0245225im, 0.0769322-0.201602im, -0.0762092+0.35286im, -0.0055099-0.364962im, 0.0365187+0.208723im, 0.00459411+0.021824im, -0.160872-0.235086im, 0.321123+0.324063im, -0.439901-0.29282im, 0.417555+0.17267im]"
      ]
     },
     "metadata": {},
     "output_type": "display_data"
    }
   ],
   "source": [
    "using PyCall\n",
    "\n",
    "py\"\"\"\n",
    "import pickle\n",
    " \n",
    "def load_pickle(fpath):\n",
    "    with open(fpath, \"rb\") as f:\n",
    "        data = pickle.load(f)\n",
    "    return data\n",
    "\"\"\"\n",
    "\n",
    "load_pickle = py\"load_pickle\"\n",
    "\n",
    "Ws = load_pickle(\"/media/dan/Data/git/network_miner/julia_v_python_connectivity/python_outputs/Ws~epoch0.pkl\")\n",
    "# index like this: Ws[1,1] == python Ws[0][0]"
   ]
  },
  {
   "cell_type": "code",
   "execution_count": 4,
   "metadata": {},
   "outputs": [],
   "source": [
    "using DSP\n",
    "using FFTW\n",
    "using Statistics\n",
    "using LinearAlgebra\n",
    "using Plots\n",
    "using Printf\n",
    "# using FilePathsBase\n"
   ]
  },
  {
   "cell_type": "code",
   "execution_count": 5,
   "metadata": {},
   "outputs": [
    {
     "data": {
      "text/plain": [
       "compute_tfr (generic function with 1 method)"
      ]
     },
     "metadata": {},
     "output_type": "display_data"
    }
   ],
   "source": [
    "using DSP\n",
    "using FFTW\n",
    "using Statistics\n",
    "using LinearAlgebra\n",
    "# using Threads\n",
    "\n",
    "function sinusoidal(a, f, sr, t, theta=0, DC=0)\n",
    "    delta_i = 1 / sr\n",
    "    f2pi = f * 2 * π\n",
    "    nu = [DC + (a * sin(f2pi * i * delta_i + theta)) for i in 0:(t-1)]\n",
    "    return nu\n",
    "end\n",
    "\n",
    "# Optimized zero pad function\n",
    "function zero_pad!(data_padded, data)\n",
    "    data_padded[1:length(data)] .= data\n",
    "    data_padded[length(data)+1:end] .= 0\n",
    "end\n",
    "\n",
    "function coh(s_xx, s_yy, s_xy)\n",
    "    # Compute the numerator: absolute value of the mean of s_xy along the last dimension\n",
    "    con_num = abs.(mean(s_xy, dims=ndims(s_xy)))\n",
    "\n",
    "    # Compute the denominator: square root of the product of means of s_xx and s_yy along the last dimension\n",
    "    con_den = sqrt.(mean(s_xx, dims=ndims(s_xx)) .* mean(s_yy, dims=ndims(s_yy)))\n",
    "\n",
    "    # Calculate coherence as the element-wise division of numerator by denominator\n",
    "    coh = con_num ./ con_den\n",
    "    return coh\n",
    "end\n",
    "\n",
    "function get_dpss_and_ratios(n, nw, ntapers; zerophase=false)\n",
    "    # Compute DPSS windows\n",
    "    windows = dpss(n, nw, ntapers; zerophase=zerophase)\n",
    "\n",
    "    # Compute eigenvalues (concentration ratios)\n",
    "    eigenvalues = dpsseig(windows, nw)\n",
    "\n",
    "    return windows, eigenvalues\n",
    "end\n",
    "\n",
    "function next_fast_len(target::Int)::Int\n",
    "    \"\"\"\n",
    "    Find the next fast size of input data to `fft`, for zero-padding, etc.\n",
    "\n",
    "    Returns the next composite of the prime factors 2, 3, and 5 which is\n",
    "    greater than or equal to `target`. (These are also known as 5-smooth\n",
    "    numbers, regular numbers, or Hamming numbers.)\n",
    "\n",
    "    Parameters\n",
    "    ----------\n",
    "    target : Int\n",
    "        Length to start searching from. Must be a positive integer.\n",
    "\n",
    "    Returns\n",
    "    -------\n",
    "    out : Int\n",
    "        The first 5-smooth number greater than or equal to `target`.\n",
    "    \"\"\"\n",
    "    # Precomputed Hamming numbers (5-smooth numbers) for quick lookup\n",
    "    hams = [\n",
    "        8, 9, 10, 12, 15, 16, 18, 20, 24, 25, 27, 30, 32, 36, 40, 45, 48, 50,\n",
    "        54, 60, 64, 72, 75, 80, 81, 90, 96, 100, 108, 120, 125, 128, 135, 144,\n",
    "        150, 160, 162, 180, 192, 200, 216, 225, 240, 243, 250, 256, 270, 288,\n",
    "        300, 320, 324, 360, 375, 384, 400, 405, 432, 450, 480, 486, 500, 512,\n",
    "        540, 576, 600, 625, 640, 648, 675, 720, 729, 750, 768, 800, 810, 864,\n",
    "        900, 960, 972, 1000, 1024, 1080, 1125, 1152, 1200, 1215, 1250, 1280,\n",
    "        1296, 1350, 1440, 1458, 1500, 1536, 1600, 1620, 1728, 1800, 1875, 1920,\n",
    "        1944, 2000, 2025, 2048, 2160, 2187, 2250, 2304, 2400, 2430, 2500, 2560,\n",
    "        2592, 2700, 2880, 2916, 3000, 3072, 3125, 3200, 3240, 3375, 3456, 3600,\n",
    "        3645, 3750, 3840, 3888, 4000, 4050, 4096, 4320, 4374, 4500, 4608, 4800,\n",
    "        4860, 5000, 5120, 5184, 5400, 5625, 5760, 5832, 6000, 6075, 6144, 6250,\n",
    "        6400, 6480, 6561, 6750, 6912, 7200, 7290, 7500, 7680, 7776, 8000, 8100,\n",
    "        8192, 8640, 8748, 9000, 9216, 9375, 9600, 9720, 10000\n",
    "    ]\n",
    "\n",
    "    if target <= 6\n",
    "        return target\n",
    "    end\n",
    "\n",
    "    # Check if target is already a power of 2\n",
    "    if (target & (target - 1)) == 0\n",
    "        return target\n",
    "    end\n",
    "\n",
    "    # Quick lookup for small sizes\n",
    "    if target <= hams[end]\n",
    "        idx = searchsortedfirst(hams, target)\n",
    "        return hams[idx]\n",
    "    end\n",
    "\n",
    "    # Function to compute the bit length of an integer\n",
    "    bit_length(x::Int) = x <= 0 ? 0 : floor(Int, log2(x)) + 1\n",
    "\n",
    "    match = typemax(Int)  # Initialize with maximum possible integer\n",
    "    p5 = 1\n",
    "    while p5 < target\n",
    "        p35 = p5\n",
    "        while p35 < target\n",
    "            # Ceiling integer division\n",
    "            quotient = cld(target, p35)\n",
    "            p2 = 2^bit_length(quotient - 1)\n",
    "            N = p2 * p35\n",
    "            if N == target\n",
    "                return N\n",
    "            elseif N < match\n",
    "                match = N\n",
    "            end\n",
    "            p35 *= 3\n",
    "            if p35 == target\n",
    "                return p35\n",
    "            end\n",
    "        end\n",
    "        if p35 < match\n",
    "            match = p35\n",
    "        end\n",
    "        p5 *= 5\n",
    "        if p5 == target\n",
    "            return p5\n",
    "        end\n",
    "    end\n",
    "    if p5 < match\n",
    "        match = p5\n",
    "    end\n",
    "    return match\n",
    "end\n",
    "\n",
    "function _get_nfft(Ws, X)::Int\n",
    "    max_len = maximum([length(Wk) for Wk in Ws])\n",
    "    n = last(size(X))\n",
    "    nfft = n + max_len - 1\n",
    "    # @show nfft\n",
    "    nfft = next_fast_len(nfft)\n",
    "    return nfft\n",
    "end\n",
    "\n",
    "# Precompute FFTs of Ws\n",
    "function precompute_fft_Ws(Ws, nfft)\n",
    "    n_taps, n_freqs = size(Ws)\n",
    "    fft_Ws = Array{ComplexF64,3}(undef, n_taps, n_freqs, nfft)\n",
    "    for taper_idx = 1:n_taps\n",
    "        for freq_idx = 1:n_freqs\n",
    "            W = Ws[taper_idx, freq_idx]\n",
    "            padded_W = zeros(ComplexF64, nfft)\n",
    "            zero_pad!(padded_W, W)\n",
    "            fft_Ws[taper_idx, freq_idx, :] = fft(padded_W)\n",
    "        end\n",
    "    end\n",
    "    return fft_Ws\n",
    "end\n",
    "\n",
    "# Precompute FFTs of X\n",
    "function precompute_fft_X(X, nfft)\n",
    "    n_epochs, n_channels, n_times = size(X)\n",
    "    fft_X = Array{ComplexF64,3}(undef, n_epochs, n_channels, nfft)\n",
    "    for epoch_idx = 1:n_epochs\n",
    "        for channel_idx = 1:n_channels\n",
    "            x = X[epoch_idx, channel_idx, :]\n",
    "            padded_x = zeros(ComplexF64, nfft)\n",
    "            zero_pad!(padded_x, x)\n",
    "            fft_X[epoch_idx, channel_idx, :] = fft(padded_x)\n",
    "        end\n",
    "    end\n",
    "    return fft_X\n",
    "end\n",
    "\n",
    "\n",
    "# Main function to compute tfr\n",
    "function compute_tfr(X, Ws, nfft)\n",
    "    n_epochs, n_channels, n_times = size(X)\n",
    "    n_taps, n_freqs = size(Ws)\n",
    "    tfr = zeros(ComplexF64, n_epochs, n_channels, n_taps, n_freqs, n_times)\n",
    "\n",
    "    # Precompute FFTs\n",
    "    fft_Ws = precompute_fft_Ws(Ws, nfft)\n",
    "    fft_X = precompute_fft_X(X, nfft)\n",
    "\n",
    "    # Loop over tapers and frequencies\n",
    "    for taper_idx = 1:n_taps\n",
    "        for freq_idx = 1:n_freqs\n",
    "            fft_W = fft_Ws[taper_idx, freq_idx, :]\n",
    "            W_size = length(Ws[taper_idx, freq_idx])\n",
    "            total_size = n_times + W_size - 1\n",
    "            ret_size = total_size\n",
    "            # Preallocate ret array\n",
    "            ret = zeros(ComplexF64, ret_size)\n",
    "\n",
    "            for epoch_idx = 1:n_epochs\n",
    "                for channel_idx = 1:n_channels\n",
    "                    fx = fft_X[epoch_idx, channel_idx, :]\n",
    "                    product = fx .* fft_W\n",
    "                    ret .= ifft(product)[1:ret_size]\n",
    "\n",
    "                    # Center the result\n",
    "                    start = Int(floor((ret_size - n_times) / 2)) + 1\n",
    "                    end_time = start + n_times - 1\n",
    "                    tfr[epoch_idx, channel_idx, taper_idx, freq_idx, :] = ret[start:end_time]\n",
    "                end\n",
    "            end\n",
    "        end\n",
    "    end\n",
    "    return tfr, fft_Ws, fft_X\n",
    "end"
   ]
  },
  {
   "cell_type": "code",
   "execution_count": 6,
   "metadata": {},
   "outputs": [
    {
     "data": {
      "text/plain": [
       "(2, 4, 128)"
      ]
     },
     "metadata": {},
     "output_type": "display_data"
    }
   ],
   "source": [
    "t = 32\n",
    "sr = 32\n",
    "f = 2\n",
    "noise = 1000\n",
    "\n",
    "v = sinusoidal(10, f, sr, t * 4, 0)\n",
    "w = sinusoidal(10, f, sr, t * 4, π / 4)\n",
    "y = sinusoidal(10, f, sr, t * 4, π / 2)\n",
    "z = sinusoidal(10, f, sr, t * 4, π)\n",
    "\n",
    "data = Array{Float64}(undef, 2, 4, 128)\n",
    "\n",
    "data[1, :, :] = hcat(v, w, y, z)'\n",
    "data[2, :, :] = hcat(-v, -w, -y, -z)';\n",
    "size(data)"
   ]
  },
  {
   "cell_type": "code",
   "execution_count": 98,
   "metadata": {},
   "outputs": [],
   "source": [
    "freqs = collect(2:15)  # inclusive of end\n",
    "n_freqs = length(freqs)\n",
    "mt_bandwidth = 4\n",
    "n_taps = floor(Int, mt_bandwidth - 1)\n",
    "n_cycles = 7\n",
    "sfreq = 32\n",
    "zero_mean = true\n",
    "X = data;"
   ]
  },
  {
   "cell_type": "code",
   "execution_count": null,
   "metadata": {},
   "outputs": [],
   "source": [
    "pre"
   ]
  },
  {
   "cell_type": "code",
   "execution_count": 99,
   "metadata": {},
   "outputs": [],
   "source": [
    "tfr, fft_Ws, fft_X = compute_tfr(X, Ws, nfft);"
   ]
  },
  {
   "cell_type": "code",
   "execution_count": 100,
   "metadata": {},
   "outputs": [],
   "source": [
    "using NPZ\n",
    "\n",
    "# Load the .npy file\n",
    "python_tfr = npzread(\"/media/dan/Data/git/network_miner/tfr_python.npy\");"
   ]
  },
  {
   "cell_type": "code",
   "execution_count": 101,
   "metadata": {},
   "outputs": [
    {
     "data": {
      "text/plain": [
       "(1, 4, 3, 14, 128)"
      ]
     },
     "metadata": {},
     "output_type": "display_data"
    }
   ],
   "source": [
    "size(python_tfr)"
   ]
  },
  {
   "cell_type": "code",
   "execution_count": 103,
   "metadata": {},
   "outputs": [
    {
     "data": {
      "text/plain": [
       "(2, 4, 3, 14, 128)"
      ]
     },
     "metadata": {},
     "output_type": "display_data"
    }
   ],
   "source": [
    "size(tfr)"
   ]
  },
  {
   "cell_type": "code",
   "execution_count": null,
   "metadata": {},
   "outputs": [],
   "source": []
  }
 ],
 "metadata": {
  "kernelspec": {
   "display_name": "Julia 1.11.1",
   "language": "julia",
   "name": "julia-1.11"
  },
  "language_info": {
   "file_extension": ".jl",
   "mimetype": "application/julia",
   "name": "julia",
   "version": "1.11.1"
  }
 },
 "nbformat": 4,
 "nbformat_minor": 2
}
